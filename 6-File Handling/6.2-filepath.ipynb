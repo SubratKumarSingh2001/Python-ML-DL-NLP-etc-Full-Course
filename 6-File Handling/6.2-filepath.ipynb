{
 "cells": [
  {
   "cell_type": "code",
   "execution_count": 2,
   "id": "fc375713",
   "metadata": {},
   "outputs": [
    {
     "name": "stdout",
     "output_type": "stream",
     "text": [
      "The current working directory is : c:\\Users\\Subrat Kumar Singh\\Desktop\\Python,ML,DL,NLP-Full Course\\6-File Handling\n"
     ]
    }
   ],
   "source": [
    "import os \n",
    "\n",
    "cwd = os.getcwd() \n",
    "print(f\"The current working directory is : {cwd}\")"
   ]
  },
  {
   "cell_type": "code",
   "execution_count": 6,
   "id": "586c24a4",
   "metadata": {},
   "outputs": [
    {
     "name": "stdout",
     "output_type": "stream",
     "text": [
      "Directory new_dir created\n"
     ]
    }
   ],
   "source": [
    "#create a new Directory \n",
    "new_directory = 'new_dir'\n",
    "os.mkdir(new_directory)\n",
    "print(f\"Directory {new_directory} created\")"
   ]
  },
  {
   "cell_type": "code",
   "execution_count": 3,
   "id": "a040673a",
   "metadata": {},
   "outputs": [
    {
     "name": "stdout",
     "output_type": "stream",
     "text": [
      "['6.1-fileoperation.ipynb', '6.2-filepath.ipynb', 'destination.txt', 'example.bin', 'example.txt', 'new_dir']\n"
     ]
    }
   ],
   "source": [
    "#listing files and the directories \n",
    "lst_files_and_dir = os.listdir(cwd)\n",
    "print(lst_files_and_dir)"
   ]
  },
  {
   "cell_type": "code",
   "execution_count": null,
   "id": "f11dba94",
   "metadata": {},
   "outputs": [
    {
     "name": "stdout",
     "output_type": "stream",
     "text": [
      "Directory already created\n",
      "The path of file.txt is folder\\file.txt\n",
      "The file is created at folder\\file.txt\n",
      "Path exists : c:\\Users\\Subrat Kumar Singh\\Desktop\\Python,ML,DL,NLP-Full Course\\6-File Handling\\folder\\file.txt\n"
     ]
    }
   ],
   "source": [
    "#joining paths \n",
    "\n",
    "dir_name = 'folder'\n",
    "file_name = 'file.txt'\n",
    "\n",
    "if not os.path.exists(dir_name) : #os.path.exists() check whether the directory exist or not \n",
    "    os.mkdir(dir_name) #the directory not present create it \n",
    "    print(f\"Directory {dir_name} created\")\n",
    "else :\n",
    "    print(\"Directory already created\")\n",
    "\n",
    "#now we have to join the dir and file\n",
    "path = os.path.join(dir_name, file_name)\n",
    "print(f\"The path of {file_name} is {path}\")\n",
    "\n",
    "#now we have to write inside it \n",
    "with open(path, 'w') as file : #as we want to write inside the path that we have created \n",
    "    file.write(\"Hello New file created. \\n\")\n",
    "    file.write(\"The file and folder are join through the os module. \\n\")\n",
    "    print(f\"The file is created at {path}\")\n",
    "\n",
    "if os.path.exists(path) : #path will be checked from the current working directory\n",
    "    print(f\"Path exists : {os.path.abspath(path)}\")\n",
    "else :\n",
    "    print(\"Path not exist\")\n",
    "\n"
   ]
  },
  {
   "cell_type": "code",
   "execution_count": 21,
   "id": "13de200e",
   "metadata": {},
   "outputs": [
    {
     "name": "stdout",
     "output_type": "stream",
     "text": [
      "Path exists : c:\\Users\\Subrat Kumar Singh\\Desktop\\Python,ML,DL,NLP-Full Course\\6-File Handling\\example.txt\n"
     ]
    }
   ],
   "source": [
    "#it will check whether there exist any path/way to reach the file or folder from the current working directory \n",
    "path = 'example.txt'\n",
    "if os.path.exists(path) :\n",
    "    print(f\"Path exists : {os.path.abspath(path)}\")\n",
    "else :\n",
    "    print(\"Path not exist\")"
   ]
  },
  {
   "cell_type": "code",
   "execution_count": 20,
   "id": "2d8476af",
   "metadata": {},
   "outputs": [
    {
     "name": "stdout",
     "output_type": "stream",
     "text": [
      "The example.txt is a file\n"
     ]
    }
   ],
   "source": [
    "#to check whether a path is a file or directory \n",
    "import os \n",
    "\n",
    "path = 'example.txt'\n",
    "if os.path.isfile(path) :\n",
    "    print(f\"The {path} is a file\")\n",
    "elif os.path.isdir(path) :\n",
    "    print(f\"The {path} is a directory\")\n",
    "else :\n",
    "    print(f\"The {path} is neither a file nor a directory \")"
   ]
  },
  {
   "cell_type": "code",
   "execution_count": null,
   "id": "2747aff0",
   "metadata": {},
   "outputs": [
    {
     "name": "stdout",
     "output_type": "stream",
     "text": [
      "c:\\Users\\Subrat Kumar Singh\\Desktop\\Python,ML,DL,NLP-Full Course\\6-File Handling\\example.txt\n"
     ]
    }
   ],
   "source": [
    "#getting the absolute path\n",
    "rel_file_path = 'example.txt'  #this is relative path \n",
    "print(os.path.abspath(rel_file_path)) #absolute path is given correspondence to current working directory"
   ]
  }
 ],
 "metadata": {
  "kernelspec": {
   "display_name": "myvenv",
   "language": "python",
   "name": "python3"
  },
  "language_info": {
   "codemirror_mode": {
    "name": "ipython",
    "version": 3
   },
   "file_extension": ".py",
   "mimetype": "text/x-python",
   "name": "python",
   "nbconvert_exporter": "python",
   "pygments_lexer": "ipython3",
   "version": "3.13.5"
  }
 },
 "nbformat": 4,
 "nbformat_minor": 5
}
