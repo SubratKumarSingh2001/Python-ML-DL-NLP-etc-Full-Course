{
 "cells": [
  {
   "cell_type": "markdown",
   "id": "d1b4f56a",
   "metadata": {},
   "source": [
    "### Assignment 1: Reading a File\n",
    "\n",
    "Write a function that reads the contents of a file named `sample.txt` and prints each line.\n"
   ]
  },
  {
   "cell_type": "code",
   "execution_count": 37,
   "id": "b7549d77",
   "metadata": {},
   "outputs": [
    {
     "name": "stdout",
     "output_type": "stream",
     "text": [
      "The content inside the file is :\n",
      "\n",
      "Hello, There How are you!\n",
      "Is everything fine \n",
      "Welcome to the course \n",
      "\n"
     ]
    }
   ],
   "source": [
    "def showContent(file) :\n",
    "    with open(file, 'r') as file :\n",
    "        content = file.read()\n",
    "        return content\n",
    "\n",
    "file = 'new_file.txt'\n",
    "print(f\"The content inside the file is :\\n\\n{showContent(file)}\")"
   ]
  },
  {
   "cell_type": "markdown",
   "id": "38c4b5d8",
   "metadata": {},
   "source": [
    "### Assignment 2: Writing to a File\n",
    "\n",
    "Write a function that writes a list of strings to a file named `output.txt`, with each string on a new line.\n"
   ]
  },
  {
   "cell_type": "code",
   "execution_count": 19,
   "id": "cf0d61e5",
   "metadata": {},
   "outputs": [
    {
     "name": "stdout",
     "output_type": "stream",
     "text": [
      "String written inside the file and lines are : \n",
      "\n",
      "['Subrat', 'Khushi', 'Raj'] \n",
      "['Apple', 'Banana', 'Orange'] \n",
      "['House', 'Villa', 'Mansion'] \n",
      "\n"
     ]
    }
   ],
   "source": [
    "def writeContent(write) :\n",
    "    with open(write, 'w') as file :\n",
    "        file.write(\"['Subrat', 'Khushi', 'Raj'] \\n\")\n",
    "        file.write(\"['Apple', 'Banana', 'Orange'] \\n\")\n",
    "        file.write(\"['House', 'Villa', 'Mansion'] \\n\")\n",
    "\n",
    "\n",
    "write = 'output.txt'\n",
    "writeContent(write)\n",
    "print(f\"String written inside the file and lines are : \\n\\n{showContent(write)}\")"
   ]
  },
  {
   "cell_type": "markdown",
   "id": "d51ccc0a",
   "metadata": {},
   "source": [
    "\n",
    "### Assignment 3: Copying a File\n",
    "\n",
    "Write a function that copies the contents of a file named `source.txt` to a new file named `destination.txt`."
   ]
  },
  {
   "cell_type": "code",
   "execution_count": 24,
   "id": "9458f828",
   "metadata": {},
   "outputs": [
    {
     "name": "stdout",
     "output_type": "stream",
     "text": [
      "source.txt file copied to destination.txt and the contents are : \n",
      "\n",
      "Hello Brother, how are you\n"
     ]
    }
   ],
   "source": [
    "def copyContent(source_file, dest_file) :\n",
    "    with open(source_file, 'r') as source :\n",
    "        content = source.read()\n",
    "\n",
    "    with open(dest_file, 'w') as destination :\n",
    "        destination.write(content)\n",
    "\n",
    "source_file = 'source.txt'\n",
    "dest_file = 'destination.txt'\n",
    "copyContent(source_file, dest_file)\n",
    "print(f\"{source_file} file copied to {dest_file} and the contents are : \\n\\n{showContent(dest_file)}\")"
   ]
  },
  {
   "cell_type": "markdown",
   "id": "e397ec82",
   "metadata": {},
   "source": [
    "### Assignment 4: Appending to a File\n",
    "\n",
    "Write a function that appends a given string to the end of a file named `log.txt`."
   ]
  },
  {
   "cell_type": "code",
   "execution_count": 49,
   "id": "5b2cd047",
   "metadata": {},
   "outputs": [
    {
     "name": "stdout",
     "output_type": "stream",
     "text": [
      "The content inside the log.txt is : \n",
      "\n",
      "Hello there how are you\n",
      "i hope ypu all are fine \n",
      "this side subrat singh\n",
      "\n",
      "Hey guys are you happy \n",
      "Nice to meet you all. \n",
      "Hey guys are you happy \n",
      "Nice to meet you all. \n",
      "Hey guys are you happy \n",
      "Nice to meet you all. \n",
      "Hey guys are you happy \n",
      "Nice to meet you all. \n",
      "Hey guys are you happy \n",
      "Nice to meet you all. \n",
      "\n"
     ]
    }
   ],
   "source": [
    "def showContent(filepath) :\n",
    "    with open(filepath, 'r') as file :\n",
    "        content = file.read()\n",
    "        return content\n",
    "\n",
    "def appendInFile(filepath) :\n",
    "    with open(filepath, 'a') as file :\n",
    "        file.write(\"Hey guys are you happy \\n\")\n",
    "        file.write(\"Nice to meet you all. \\n\")\n",
    "        \n",
    "\n",
    "filepath = 'log.txt'\n",
    "appendInFile(filepath)\n",
    "print(f\"The content inside the {filepath} is : \\n\\n{showContent(filepath)}\")"
   ]
  },
  {
   "cell_type": "markdown",
   "id": "7b2c2d7c",
   "metadata": {},
   "source": [
    "## Assignment 5: Counting Words in a File\n",
    "\n",
    "Write a function that reads the contents of a file named `document.txt` and returns the number of words in the file."
   ]
  },
  {
   "cell_type": "code",
   "execution_count": 52,
   "id": "12687176",
   "metadata": {},
   "outputs": [
    {
     "name": "stdout",
     "output_type": "stream",
     "text": [
      "The number of words is document.txt is : 13\n"
     ]
    }
   ],
   "source": [
    "def countWords(filepath) :\n",
    "    with open(filepath, 'r') as file :\n",
    "        lines = file.readlines() \n",
    "        words = sum(len(line.split()) for line in lines)\n",
    "        return words\n",
    "\n",
    "filepath = 'document.txt'\n",
    "print(f\"The number of words is {filepath} is : {countWords(filepath)}\")"
   ]
  },
  {
   "cell_type": "markdown",
   "id": "0dfd0b96",
   "metadata": {},
   "source": [
    "### Assignment 6: Finding and Replacing Text\n",
    "\n",
    "Write a function that finds and replaces all occurrences of a given word in a file named `data.txt` with another word."
   ]
  },
  {
   "cell_type": "code",
   "execution_count": 55,
   "id": "70bb8c3f",
   "metadata": {},
   "outputs": [],
   "source": [
    "def removeWord(filepath, old_word, new_word) :\n",
    "    #first we will read the file \n",
    "    with open(filepath, 'r') as file :\n",
    "        text = file.read() #this read the file and all the content are put under the string(which is normal text)\n",
    "        new_text = text.replace(old_word, new_word) #now we will replace the old word with new word and will get a new_text\n",
    "\n",
    "    #now we will write that new_text (after word replacement) in the same file\n",
    "    with open(filepath, 'w') as file :\n",
    "        file.write(new_text)\n",
    "\n",
    "filepath = 'data.txt'\n",
    "old_word = 'meet'\n",
    "new_word = 'see'\n",
    "removeWord(filepath, old_word, new_word)\n"
   ]
  },
  {
   "cell_type": "markdown",
   "id": "84d4c477",
   "metadata": {},
   "source": [
    "### Assignment 7: Reading a File in Reverse\n",
    "\n",
    "Write a function that reads the contents of a file named `reverse.txt` and prints each line in reverse order."
   ]
  },
  {
   "cell_type": "code",
   "execution_count": null,
   "id": "12cb94ba",
   "metadata": {},
   "outputs": [
    {
     "name": "stdout",
     "output_type": "stream",
     "text": [
      "Nice to see you all.\n",
      "Hey guys are you happy\n",
      "Nice to see you all.\n",
      "Hey guys are you happy\n",
      "Nice to see you all.\n",
      "Hey guys are you happy\n",
      "Nice to see you all.\n",
      "Hey guys are you happy\n",
      "Nice to see you all.\n",
      "Hey guys are you happy\n",
      "\n",
      "this side subrat singh\n",
      "i hope ypu all are fine\n",
      "Hello there how are you\n",
      "None\n"
     ]
    }
   ],
   "source": [
    "#lst.reverse(): reverse the original list and return none while reversed() dont reverse the original list it reverse the list and send the iterator \n",
    "# which we can iterate through and  print the reversed list\n",
    "\n",
    "def reverseOrder(filepath) :\n",
    "    with open(filepath, 'r') as file :\n",
    "        lines = file.readlines() #now the lines are appended to the list\n",
    "        reversed_lines = reversed(lines) #to reverse the list we can use reversed(list) and stored it iterator in reversed_lines\n",
    "    for line in reversed_lines : \n",
    "        print(line.strip())\n",
    "\n",
    "filepath = 'reverse.txt'\n",
    "print(reverseOrder(filepath))"
   ]
  },
  {
   "cell_type": "markdown",
   "id": "46e88d04",
   "metadata": {},
   "source": [
    "### Assignment 8: Counting Lines, Words, and Characters\n",
    "\n",
    "Write a function that reads the contents of a file named `stats.txt` and returns the number of lines, words, and characters in the file."
   ]
  },
  {
   "cell_type": "code",
   "execution_count": 64,
   "id": "fb45c450",
   "metadata": {},
   "outputs": [
    {
     "name": "stdout",
     "output_type": "stream",
     "text": [
      "Lines : 14, Words :65, Characters : 302\n"
     ]
    }
   ],
   "source": [
    "def lines_words_char(filepath) :\n",
    "    with open(filepath, 'r') as file :\n",
    "        lines = file.readlines()\n",
    "        line = len(lines) #because all the lines are appended to the list with the help of readlines()\n",
    "        words = sum(len(line.split()) for line in lines)\n",
    "        characters = sum(len(line) for line in lines) \n",
    "    return line, words, characters\n",
    "\n",
    "filepath = 'stats.txt'\n",
    "line, words, characters = lines_words_char(filepath)\n",
    "print(f\"Lines : {line}, Words :{words}, Characters : {characters}\")"
   ]
  },
  {
   "cell_type": "markdown",
   "id": "16ed5c64",
   "metadata": {},
   "source": [
    "### Assignment 9: Merging Multiple Files\n",
    "\n",
    "Write a function that merges the contents of multiple files into a single file named `merged.txt`."
   ]
  },
  {
   "cell_type": "code",
   "execution_count": 4,
   "id": "80108873",
   "metadata": {},
   "outputs": [
    {
     "data": {
      "text/plain": [
       "'merged.txt'"
      ]
     },
     "execution_count": 4,
     "metadata": {},
     "output_type": "execute_result"
    }
   ],
   "source": [
    "def showMergedContent(merged) :\n",
    "    with open(merged, 'r') as file :\n",
    "        for line in file :\n",
    "            print(line.strip())\n",
    "\n",
    "def merges(files, merged) :\n",
    "    with open(merged, 'w') as merging_file :\n",
    "        for file in files :\n",
    "            with open(file, 'r') as curr_file : \n",
    "                content = curr_file.read()\n",
    "                merging_file.write(content)\n",
    "                merging_file.write('\\n')\n",
    "    return merged\n",
    "\n",
    "files = ['file1.txt', 'file2.txt', 'file3.txt']\n",
    "merged = 'merged.txt'\n",
    "merges(files, merged)\n"
   ]
  },
  {
   "cell_type": "markdown",
   "id": "9343c937",
   "metadata": {},
   "source": [
    "### Assignment 10: Splitting a Large File\n",
    "\n",
    "Write a function that splits a large file named `large.txt` into smaller files of 100 lines each."
   ]
  },
  {
   "cell_type": "code",
   "execution_count": 48,
   "id": "21d9df20",
   "metadata": {},
   "outputs": [],
   "source": [
    "def split_files(file) :\n",
    "    lines_cnt = 0\n",
    "    file_num = 1\n",
    "    #first we will open the large file in the read mode because we need to write from that\n",
    "    with open(file, 'r') as large_file :\n",
    "        #now we will create the first output file\n",
    "        split_file = open(f'split_file{file_num}.txt', 'w')\n",
    "\n",
    "        #now we will write inside the split file \n",
    "        for line in large_file :\n",
    "            split_file.write(line)\n",
    "            lines_cnt += 1\n",
    "\n",
    "            if lines_cnt % 5 == 0 :\n",
    "                length = len(large_file.readlines()) #length i.e no of lines in files \n",
    "                if lines_cnt <= length : \n",
    "                    file_num += 1\n",
    "                    split_file = open(f'split_file{file_num}.txt', 'w')\n",
    "\n",
    "file = 'large.txt'\n",
    "split_files(file)"
   ]
  },
  {
   "cell_type": "markdown",
   "id": "fad75468",
   "metadata": {},
   "source": [
    "### Assignment 11: Creating a Log File\n",
    "\n",
    "Write a function that creates a log file named `activity.log` and writes log messages with timestamps.\n"
   ]
  },
  {
   "cell_type": "code",
   "execution_count": 10,
   "id": "28bca07a",
   "metadata": {},
   "outputs": [],
   "source": [
    "#log file is used by system to store the activities, message and events during any execution. Consider a diary which keep track of when & what programs does\n",
    "import datetime as dt\n",
    "def log_message(message, log_file='activity.log') :\n",
    "    timestamp = dt.datetime.now()\n",
    "    with open(log_file, 'w') as file :\n",
    "        file.write(f\"[{timestamp}] : {message} \\n\")\n",
    "\n",
    "message = 'At this time the program execution starts. '\n",
    "log_message(message)"
   ]
  },
  {
   "cell_type": "markdown",
   "id": "70561c8c",
   "metadata": {},
   "source": [
    "### Assignment 12: Binary File Operations\n",
    "\n",
    "Write a function that reads a binary file named `image.bin` and writes its contents to another binary file named `copy_image.bin`."
   ]
  },
  {
   "cell_type": "code",
   "execution_count": null,
   "id": "abec88a9",
   "metadata": {},
   "outputs": [],
   "source": [
    "def copyBinFile(bin_file) :\n",
    "    data = b'\\x00 \\x01 \\x02 \\x03 \\x03 \\x04 \\x05 \\x06 \\x07 \\x08 \\x09'\n",
    "    with open(bin_file, 'wb') as bin :\n",
    "        bin.write(data)\n",
    "    \n",
    "    with open(bin_file, 'rb') as bin :\n",
    "        content = bin.read()\n",
    "        with open('copy_image.bin', 'wb') as copy_bin : \n",
    "            copy_bin.write(content)\n",
    "    \n",
    "bin_file = 'image.bin'\n",
    "copyBinFile(bin_file)"
   ]
  },
  {
   "cell_type": "markdown",
   "id": "fc6b0a63",
   "metadata": {},
   "source": [
    "### Assignment 13: CSV File Operations\n",
    "\n",
    "Write a function that reads a CSV file named `data.csv` and prints its contents as a list of dictionaries."
   ]
  },
  {
   "cell_type": "code",
   "execution_count": 29,
   "id": "9ee31d74",
   "metadata": {},
   "outputs": [
    {
     "name": "stdout",
     "output_type": "stream",
     "text": [
      "The list of dictionary is : [{'Name': 'Subrat', 'Course': ' MCA', 'Address': ' Bahadurgarh'}, {'Name': 'Khushi', 'Course': ' Bed', 'Address': ' Badkal Mor'}, {'Name': 'Raj', 'Course': ' MBA', 'Address': ' Uttam Nagar'}, {'Name': 'Keshav', 'Course': ' BCA', 'Address': ' Raj Nagar'}]\n"
     ]
    }
   ],
   "source": [
    "'''Traditional csv.reader() returns the row as a list and if we want to access any row column value use the index as row[0], row[1] but we can return\n",
    "each row as a dictionary with key-pair value like for each row , column : value. this can be achieve using csv.DictReader() now instead of index \n",
    "for which rw we are we can use key to access the value like row['name'] or row['age'] it will provide the corresponding value'''\n",
    "import csv \n",
    "\n",
    "# def printContentDict(file) :\n",
    "#     with open(file, mode='r', newline=\"\") as file :\n",
    "#         reader = csv.reader(file) #this will give the list of rows \n",
    "#         for index, row in enumerate(reader) :\n",
    "#             print(f\"{index} : {row[0]}\")\n",
    "\n",
    "#now key-pair value use DictReader()\n",
    "def printContentDict(file) :\n",
    "    lst = []\n",
    "    with open(file, mode='r', newline=\"\") as file :\n",
    "        reader = csv.DictReader(file) #now this will give the key-value pair where first row is the key and rest rows map with its values\n",
    "        for row in reader :\n",
    "            lst.append(row)\n",
    "    return lst   \n",
    "\n",
    "file = 'data.csv'\n",
    "print(f\"The list of dictionary is : {printContentDict(file)}\")\n"
   ]
  },
  {
   "cell_type": "markdown",
   "id": "dc93f69a",
   "metadata": {},
   "source": [
    "### Assignment 14: JSON File Operations\n",
    "\n",
    "Write a function that reads a JSON file named `data.json` and prints its contents as a Python dictionary."
   ]
  },
  {
   "cell_type": "code",
   "execution_count": null,
   "id": "feacd3c9",
   "metadata": {},
   "outputs": [
    {
     "name": "stdout",
     "output_type": "stream",
     "text": [
      "{'name': 'Alice', 'age': 25, 'email': 'alice@example.com', 'is_student': False, 'skills': ['Python', 'Data Analysis', 'Machine Learning'], 'education': {'degree': 'B.Tech', 'year': 2022, 'university': 'ABC University'}} <class 'dict'>\n"
     ]
    }
   ],
   "source": [
    "import json\n",
    "\n",
    "def jsonToPyDict(file) :\n",
    "    with open(file, 'r') as json_file :\n",
    "        # content = file.read() #this convert the entire content into string means json strings (in case of json files)\n",
    "        # py_object = json.loads(content)\n",
    "        # print(py_object, type(py_object))\n",
    "\n",
    "        #we can use load() that read the json file and convert it into the python object(dict, list)\n",
    "        py_object = json.load(json_file) \n",
    "        print(py_object, type(py_object))\n",
    "\n",
    "file = 'data.json'\n",
    "jsonToPyDict(file)"
   ]
  },
  {
   "cell_type": "markdown",
   "id": "df2106e7",
   "metadata": {},
   "source": [
    "### Assignment 15: File Permission Handling\n",
    "\n",
    "Write a function that attempts to read a file named `protected.txt` and handles any permission errors gracefully by printing an error message."
   ]
  },
  {
   "cell_type": "code",
   "execution_count": null,
   "id": "b0d18e6a",
   "metadata": {},
   "outputs": [
    {
     "name": "stdout",
     "output_type": "stream",
     "text": [
      "Hello wordl, how are you\n",
      "are you doing fell or not\n",
      "if yes hows your life going \n"
     ]
    }
   ],
   "source": [
    "def handle_permission(file) :\n",
    "    try : \n",
    "        with open(file, 'r') as file :\n",
    "            print(file.read())\n",
    "    except PermissionError as e :\n",
    "        print(f\"To open the file the permission is required : {e}\") \n",
    "\n",
    "file = 'protected.txt'\n",
    "handle_permission(file)"
   ]
  }
 ],
 "metadata": {
  "kernelspec": {
   "display_name": "myvenv",
   "language": "python",
   "name": "python3"
  },
  "language_info": {
   "codemirror_mode": {
    "name": "ipython",
    "version": 3
   },
   "file_extension": ".py",
   "mimetype": "text/x-python",
   "name": "python",
   "nbconvert_exporter": "python",
   "pygments_lexer": "ipython3",
   "version": "3.13.5"
  }
 },
 "nbformat": 4,
 "nbformat_minor": 5
}
