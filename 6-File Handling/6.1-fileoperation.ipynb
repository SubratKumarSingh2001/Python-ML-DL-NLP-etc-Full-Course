{
 "cells": [
  {
   "cell_type": "code",
   "execution_count": 1,
   "id": "4c8e5c88",
   "metadata": {},
   "outputs": [],
   "source": [
    "#File Operation - READ and WRITE files \n",
    "#It is an crucial part of any programming language as in python it provides the in-built function to read from and write to file in both text and binary\n",
    "\n",
    "#In this we will cover file handling- reading and writing the text and binary files  "
   ]
  },
  {
   "cell_type": "code",
   "execution_count": null,
   "id": "a1fe821d",
   "metadata": {},
   "outputs": [
    {
     "name": "stdout",
     "output_type": "stream",
     "text": [
      "Hello World!\n",
      "This is a new line.\n",
      "This a course im following\n",
      "This side subrat kumar singh.\n",
      "This a course im following\n",
      "This side subrat kumar singh.\n",
      "First line \n",
      "Second line \n",
      "Third line \n",
      "First line Second line Third line First line \n",
      "Second line \n",
      "Third line \n",
      "First line \n",
      "Second line \n",
      "Third line \n",
      "\n",
      "292\n"
     ]
    }
   ],
   "source": [
    "#Read a whole file \n",
    "\n",
    "with open('example.txt', 'r') as file :\n",
    "    content = file.read()\n",
    "    print(content)\n",
    "    print(len(content)) #it count the newlines, special characters and white spaces too"
   ]
  },
  {
   "cell_type": "code",
   "execution_count": 20,
   "id": "825da6f5",
   "metadata": {},
   "outputs": [
    {
     "name": "stdout",
     "output_type": "stream",
     "text": [
      "Hello How are you ?\n",
      "I'm fine\n",
      "Myself Subrat Kumar Singh\n",
      "Welcome to the journey\n"
     ]
    }
   ],
   "source": [
    "#If i want to read line by line\n",
    "with open('example.txt', 'r',) as file :\n",
    "    for line in file : \n",
    "        print(line.strip()) #strip remove the newlines, tabular and whitespaces from the string here line is also a string "
   ]
  },
  {
   "cell_type": "code",
   "execution_count": 22,
   "id": "b0ac62a3",
   "metadata": {},
   "outputs": [],
   "source": [
    "#writing a file (overwriting)\n",
    "\n",
    "#this way it will overwrite the previous content if we write again\n",
    "with open('example.txt', 'w') as file :\n",
    "    file.write(\"Hello World!\\n\")\n",
    "    file.write(\"This is a new line.\\n\")"
   ]
  },
  {
   "cell_type": "code",
   "execution_count": 24,
   "id": "223381c9",
   "metadata": {},
   "outputs": [],
   "source": [
    "#writing a file (without overwriting)\n",
    "with open('example.txt', 'a') as file : #here mode is 'a' : append which dont overwrite the previous content it append in that file with prev content too\n",
    "    file.write(\"This a course im following\\n\")\n",
    "    file.write(\"This side subrat kumar singh.\\n\")"
   ]
  },
  {
   "cell_type": "code",
   "execution_count": 30,
   "id": "f488667f",
   "metadata": {},
   "outputs": [],
   "source": [
    "#writing list of lines to a file\n",
    "lines = ['First line \\n', 'Second line \\n', 'Third line \\n']\n",
    "with open('example.txt', 'a') as file :\n",
    "    file.writelines(lines) #writelines : append the list of lines to the example.txt"
   ]
  },
  {
   "cell_type": "code",
   "execution_count": 40,
   "id": "ebc21c43",
   "metadata": {},
   "outputs": [
    {
     "name": "stdout",
     "output_type": "stream",
     "text": [
      "b'\\x00\\x01\\x02\\x03\\x04'\n",
      "5\n"
     ]
    }
   ],
   "source": [
    "#Binary files \n",
    "\n",
    "#Writing in binary file\n",
    "data = b'\\x00\\x01\\x02\\x03\\x04'\n",
    "with open('example.bin', 'wb') as file :\n",
    "    file.write(data)\n",
    "\n",
    "#now want to read \n",
    "with open('example.bin', 'rb') as file :\n",
    "    content = file.read()\n",
    "    print(content)\n",
    "    print(len(content)) #it will print the no. of character is the file in this case the len is 9 because 5 byte + 4 spaces (count char + spaces too)"
   ]
  },
  {
   "cell_type": "code",
   "execution_count": 42,
   "id": "3a3f4395",
   "metadata": {},
   "outputs": [],
   "source": [
    "#Read the content from source text file and write it to the destination file\n",
    "with open('example.txt', 'r') as file :\n",
    "    content = file.read()\n",
    "\n",
    "#now write it in the destination file\n",
    "with open('destination.txt', 'w') as destination_file :\n",
    "    destination_file.write(content)"
   ]
  },
  {
   "cell_type": "code",
   "execution_count": 57,
   "id": "ee129df5",
   "metadata": {},
   "outputs": [
    {
     "name": "stdout",
     "output_type": "stream",
     "text": [
      "The number of lines in example.txt are : 18\n",
      "The number of words in example.txt are : 57\n",
      "The number of characters in example.txt are : 329\n"
     ]
    }
   ],
   "source": [
    "#Assignment : Read a text file and count the number of lines, words and character \n",
    "\n",
    "def operation_in_file(file_path) :\n",
    "    with open(file_path, 'r') as file :\n",
    "        #we have to read the file\n",
    "        readlines = file.readlines() #readlines() append all the lines in the file into the list and then we can calculate the len of list \n",
    "        lines = len(readlines)\n",
    "        words = sum(len(line.split()) for line in readlines) #sum is used to add up all the elements in the iterable \n",
    "        characters = sum(len(line) for line in readlines) #len(line) count all the spaces and special character too\n",
    "        return lines, words, characters\n",
    "\n",
    "file_path = 'example.txt'\n",
    "lines, words, characters = operation_in_file(file_path)\n",
    "print(f\"The number of lines in {file_path} are : {lines}\")\n",
    "print(f\"The number of words in {file_path} are : {words}\")\n",
    "print(f\"The number of characters in {file_path} are : {characters}\")"
   ]
  },
  {
   "cell_type": "code",
   "execution_count": 59,
   "id": "7d57f393",
   "metadata": {},
   "outputs": [
    {
     "name": "stdout",
     "output_type": "stream",
     "text": [
      "Hello World! \n",
      "This side subrat kumar singh \n",
      "Welcome to the course \n",
      "\n"
     ]
    }
   ],
   "source": [
    "#Writing and then reading a file \n",
    "#w+ : open the file for both read and write mode. If file not there it gets created and if already exist they the content we write get overwritten \n",
    "with open('example.txt', 'w+') as file :\n",
    "    file.write(\"Hello World! \\n\")\n",
    "    file.write(\"This side subrat kumar singh \\n\")\n",
    "    file.write(\"Welcome to the course \\n\")\n",
    "\n",
    "    #if wont print anything because now our cursor is at 4th line and 4th line dont have any kind of content to read we have to move cursor and line1\n",
    "    file.seek(0) #this will move the cursor at the begin line \n",
    "    content = file.read()\n",
    "    print(content)"
   ]
  }
 ],
 "metadata": {
  "kernelspec": {
   "display_name": "myvenv",
   "language": "python",
   "name": "python3"
  },
  "language_info": {
   "codemirror_mode": {
    "name": "ipython",
    "version": 3
   },
   "file_extension": ".py",
   "mimetype": "text/x-python",
   "name": "python",
   "nbconvert_exporter": "python",
   "pygments_lexer": "ipython3",
   "version": "3.13.5"
  }
 },
 "nbformat": 4,
 "nbformat_minor": 5
}
