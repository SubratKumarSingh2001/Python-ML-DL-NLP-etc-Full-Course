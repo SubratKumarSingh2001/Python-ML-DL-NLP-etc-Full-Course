{
 "cells": [
  {
   "cell_type": "markdown",
   "metadata": {},
   "source": [
    "# Module 3: Data Structures Assignments\n",
    "## Lesson 3.3: Sets\n",
    "### Assignment 1: Creating and Accessing Sets\n",
    "\n",
    "Create a set with the first 10 positive integers. Print the set.\n",
    "\n",
    "### Assignment 2: Adding and Removing Elements\n",
    "\n",
    "Add the number 11 to the set created in Assignment 1. Then remove the number 1 from the set. Print the modified set.\n",
    "\n",
    "### Assignment 3: Set Operations\n",
    "\n",
    "Create two sets: one with the first 5 positive integers and another with the first 5 even integers. Perform and print the results of union, intersection, difference, and symmetric difference operations on these sets.\n",
    "\n",
    "### Assignment 4: Set Comprehensions\n",
    "\n",
    "Create a new set containing the squares of the first 10 positive integers using a set comprehension. Print the new set.\n",
    "\n",
    "### Assignment 5: Filtering Sets\n",
    "\n",
    "Create a new set containing only the even numbers from the set created in Assignment 1 using a set comprehension. Print the new set.\n",
    "\n",
    "### Assignment 6: Set Methods\n",
    "\n",
    "Create a set with duplicate elements and remove the duplicates using set methods. Print the modified set.\n",
    "\n",
    "### Assignment 7: Subsets and Supersets\n",
    "\n",
    "Create two sets: one with the first 5 positive integers and another with the first 3 positive integers. Check if the second set is a subset of the first set and if the first set is a superset of the second set. Print the results.\n",
    "\n",
    "### Assignment 8: Frozenset\n",
    "\n",
    "Create a frozenset with the first 5 positive integers. Print the frozenset.\n",
    "\n",
    "### Assignment 9: Set and List Conversion\n",
    "\n",
    "Create a set with the first 5 positive integers. Convert it to a list, append the number 6, and convert it back to a set. Print the resulting set.\n",
    "\n",
    "### Assignment 10: Set and Dictionary\n",
    "\n",
    "Create a dictionary with set keys and integer values. Print the dictionary.\n",
    "\n",
    "### Assignment 11: Iterating Over Sets\n",
    "\n",
    "Create a set and iterate over the elements, printing each element.\n",
    "\n",
    "### Assignment 12: Removing Elements from Sets\n",
    "\n",
    "Create a set and remove elements from it until it is empty. Print the set after each removal.\n",
    "\n",
    "### Assignment 13: Set Symmetric Difference Update\n",
    "\n",
    "Create two sets and update the first set with the symmetric difference of the two sets. Print the modified first set.\n",
    "\n",
    "### Assignment 14: Set Membership Testing\n",
    "\n",
    "Create a set and test if certain elements are present in the set. Print the results.\n",
    "\n",
    "### Assignment 15: Set of Tuples\n",
    "\n",
    "Create a set containing tuples, where each tuple contains two elements. Print the set."
   ]
  },
  {
   "cell_type": "code",
   "execution_count": 11,
   "metadata": {},
   "outputs": [
    {
     "name": "stdout",
     "output_type": "stream",
     "text": [
      "{1, 2, 3, 4, 5, 6, 7, 8, 9, 10}\n"
     ]
    }
   ],
   "source": [
    "#Question:1\n",
    "set1 = set(range(1,11))\n",
    "print(set1)"
   ]
  },
  {
   "cell_type": "code",
   "execution_count": 13,
   "id": "9c99cec0",
   "metadata": {},
   "outputs": [
    {
     "name": "stdout",
     "output_type": "stream",
     "text": [
      "{1, 2, 3, 4, 5, 6, 7, 8, 9, 10, 11}\n",
      "{2, 3, 4, 5, 6, 7, 8, 9, 10, 11}\n"
     ]
    }
   ],
   "source": [
    "#Question:2\n",
    "set1.add(11)\n",
    "print(set1)\n",
    "set1.remove(1)\n",
    "print(set1)\n"
   ]
  },
  {
   "cell_type": "code",
   "execution_count": null,
   "id": "002f2408",
   "metadata": {},
   "outputs": [
    {
     "name": "stdout",
     "output_type": "stream",
     "text": [
      "{1, 2, 3, 4, 5} {2, 4, 6, 8, 10}\n",
      "The union of {1, 2, 3, 4, 5} and {2, 4, 6, 8, 10} is : {1, 2, 3, 4, 5, 6, 8, 10}\n",
      "The intersection of {1, 2, 3, 4, 5} and {2, 4, 6, 8, 10} is : {2, 4}\n",
      "The difference of {1, 2, 3, 4, 5} and {2, 4, 6, 8, 10} is : {1, 3, 5}\n",
      "The symmetric difference of {1, 2, 3, 4, 5} and {2, 4, 6, 8, 10} is : {1, 3, 5, 6, 8, 10}\n",
      "81\n"
     ]
    }
   ],
   "source": [
    "#Question:3\n",
    "set1 = set(range(1,6))\n",
    "set2 = {x for x in range(1,11) if x%2 ==0}\n",
    "print(set1, set2)\n",
    "print(f\"The union of {set1} and {set2} is : {set1.union(set2)}\")\n",
    "print(f\"The intersection of {set1} and {set2} is : {set1.intersection(set2)}\")\n",
    "print(f\"The difference of {set1} and {set2} is : {set1.difference(set2)}\")\n",
    "print(f\"The symmetric difference of {set1} and {set2} is : {set1.symmetric_difference(set2)}\")"
   ]
  },
  {
   "cell_type": "code",
   "execution_count": null,
   "id": "34df036c",
   "metadata": {},
   "outputs": [
    {
     "name": "stdout",
     "output_type": "stream",
     "text": [
      "{64, 1, 4, 36, 100, 9, 16, 49, 81, 25} <class 'set'>\n",
      "[64, 1, 4, 36, 100, 9, 16, 49, 81, 25] <class 'list'>\n"
     ]
    }
   ],
   "source": [
    "#Question:4\n",
    "set1 = {x**2 for x in range(1,11)}\n",
    "print(set1, type(set1))\n"
   ]
  },
  {
   "cell_type": "code",
   "execution_count": 26,
   "id": "42471dd6",
   "metadata": {},
   "outputs": [
    {
     "name": "stdout",
     "output_type": "stream",
     "text": [
      "{2, 4, 6, 8, 10}\n"
     ]
    }
   ],
   "source": [
    "#Question:5\n",
    "set1 = set(range(1,11))\n",
    "set2 = {x for x in set1 if x%2==0} \n",
    "print(set2)"
   ]
  },
  {
   "cell_type": "code",
   "execution_count": 29,
   "id": "b5399b04",
   "metadata": {},
   "outputs": [
    {
     "name": "stdout",
     "output_type": "stream",
     "text": [
      "{1, 2, 3, 4, 5, 6}\n"
     ]
    }
   ],
   "source": [
    "#Question:6\n",
    "lst = [1,2,3,3,3,4,5,5,6]\n",
    "print(set(lst))"
   ]
  },
  {
   "cell_type": "code",
   "execution_count": 33,
   "id": "56b7c900",
   "metadata": {},
   "outputs": [
    {
     "name": "stdout",
     "output_type": "stream",
     "text": [
      "False\n",
      "False\n"
     ]
    }
   ],
   "source": [
    "#Question:7\n",
    "set1 = {1,2,3,4}\n",
    "set2 = {1,2,3,5,6,7,8,9}\n",
    "print(set1.issubset(set2))\n",
    "print(set2.issuperset(set1))"
   ]
  },
  {
   "cell_type": "code",
   "execution_count": null,
   "id": "e5d6ffd4",
   "metadata": {},
   "outputs": [
    {
     "name": "stdout",
     "output_type": "stream",
     "text": [
      "frozenset({1, 2, 3, 4}) <class 'frozenset'>\n",
      "True\n"
     ]
    }
   ],
   "source": [
    "#Question:8 Frozen Set\n",
    "fset1 = frozenset({1,2,3,4})\n",
    "print(fset1, type(fset1))\n",
    "print(fset1.isdisjoint({5,6}))\n"
   ]
  },
  {
   "cell_type": "code",
   "execution_count": 8,
   "id": "6ed05220",
   "metadata": {},
   "outputs": [
    {
     "name": "stdout",
     "output_type": "stream",
     "text": [
      "[1, 2, 3, 4, 5] <class 'list'>\n",
      "{1, 2, 3, 4, 5, 6}\n"
     ]
    }
   ],
   "source": [
    "#Question:9\n",
    "lst = list(range(1,6))\n",
    "print(lst, type(lst))\n",
    "lst.append(6)\n",
    "set1 = set(lst)\n",
    "print(set1)"
   ]
  },
  {
   "cell_type": "code",
   "execution_count": 43,
   "id": "c30fbfd9",
   "metadata": {},
   "outputs": [
    {
     "name": "stdout",
     "output_type": "stream",
     "text": [
      "{frozenset({1, 2, 3}): 1, frozenset({3, 4, 5}): 2, frozenset({5, 6, 7}): 3, frozenset({8, 9, 7}): 4} <class 'dict'>\n",
      "{frozenset({1, 2, 3}): 1, frozenset({3, 4, 5}): 2, frozenset({5, 6, 7}): 9, frozenset({8, 9, 7}): 4} <class 'dict'>\n"
     ]
    }
   ],
   "source": [
    "#Question:10\n",
    "dictionary = {\n",
    "    frozenset({1,2,3}):1, #we have use the frozenset because they are the immutable version of set and key in dictionary are also unique cant change so we have use the frozenset() to make the key value unique means immutable\n",
    "    frozenset({3,4,5}):2,\n",
    "    frozenset({5,6,7}):3,\n",
    "    frozenset({7,8,9}):4,\n",
    "}\n",
    "print(dictionary, type(dictionary))\n",
    "dictionary[frozenset({5,6,7})] = 9 #we have change the value using its key\n",
    "print(dictionary, type(dictionary))\n"
   ]
  },
  {
   "cell_type": "code",
   "execution_count": 13,
   "id": "a4c1988d",
   "metadata": {},
   "outputs": [
    {
     "name": "stdout",
     "output_type": "stream",
     "text": [
      "1 2 3 4 5 "
     ]
    }
   ],
   "source": [
    "#Question:11\n",
    "set1 = {1,2,3,4,5}\n",
    "for ele in set1 :\n",
    "    print(ele, end=\" \")"
   ]
  },
  {
   "cell_type": "code",
   "execution_count": null,
   "id": "7c42b8f3",
   "metadata": {},
   "outputs": [
    {
     "name": "stdout",
     "output_type": "stream",
     "text": [
      "{2, 3, 4, 5, 6}\n",
      "{3, 4, 5, 6}\n",
      "{4, 5, 6}\n",
      "{5, 6}\n",
      "{6}\n",
      "set()\n",
      "We are outside the loop\n"
     ]
    }
   ],
   "source": [
    "#Question:12\n",
    "set1 = {1,2,3,4,5,6}\n",
    "while set1 : #while loop will work until the set is empty\n",
    "    set1.pop()\n",
    "    print(set1)\n",
    "print(\"We are outside the loop\")"
   ]
  },
  {
   "cell_type": "code",
   "execution_count": 18,
   "id": "d9dbabae",
   "metadata": {},
   "outputs": [
    {
     "name": "stdout",
     "output_type": "stream",
     "text": [
      "{1, 2, 5, 6, 7, 8, 9}\n"
     ]
    }
   ],
   "source": [
    "#Question:13\n",
    "set1 = {1,2,3,4,5}\n",
    "set2 = {3,4,6,7,8,9}\n",
    "set1.symmetric_difference_update(set2)\n",
    "print(set1)"
   ]
  },
  {
   "cell_type": "code",
   "execution_count": 20,
   "id": "10e428bc",
   "metadata": {},
   "outputs": [
    {
     "name": "stdout",
     "output_type": "stream",
     "text": [
      "True False True False True\n"
     ]
    }
   ],
   "source": [
    "#Question:14\n",
    "set1 = {1,2,3,4,5}\n",
    "print(1 in set1, 6 in set1, 7 not in set1, 4 not in set1, 5 in set1)"
   ]
  },
  {
   "cell_type": "code",
   "execution_count": 31,
   "id": "b1f70514",
   "metadata": {},
   "outputs": [
    {
     "name": "stdout",
     "output_type": "stream",
     "text": [
      "{(7, 9), (1, 2), (3, 4), (5, 6)} <class 'set'>\n"
     ]
    }
   ],
   "source": [
    "#Question:15\n",
    "set1 ={(1,2), (3,4), (5,6), (7,9)}\n",
    "print(set1, type(set1))\n"
   ]
  }
 ],
 "metadata": {
  "kernelspec": {
   "display_name": "myvenv",
   "language": "python",
   "name": "python3"
  },
  "language_info": {
   "codemirror_mode": {
    "name": "ipython",
    "version": 3
   },
   "file_extension": ".py",
   "mimetype": "text/x-python",
   "name": "python",
   "nbconvert_exporter": "python",
   "pygments_lexer": "ipython3",
   "version": "3.13.5"
  }
 },
 "nbformat": 4,
 "nbformat_minor": 5
}
