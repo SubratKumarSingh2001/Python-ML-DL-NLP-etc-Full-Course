{
 "cells": [
  {
   "cell_type": "markdown",
   "metadata": {},
   "source": [
    "# Module 3: Data Structures Assignments\n",
    "## Lesson 3.4: Dictionaries\n",
    "### Assignment 1: Creating and Accessing Dictionaries\n",
    "\n",
    "Create a dictionary with the first 10 positive integers as keys and their squares as values. Print the dictionary.\n",
    "\n",
    "### Assignment 2: Accessing Dictionary Elements\n",
    "\n",
    "Print the value of the key 5 and the keys of the dictionary created in Assignment 1.\n",
    "\n",
    "### Assignment 3: Dictionary Methods\n",
    "\n",
    "Add a new key-value pair (11, 121) to the dictionary created in Assignment 1 and then remove the key-value pair with key 1. Print the modified dictionary.\n",
    "\n",
    "### Assignment 4: Iterating Over Dictionaries\n",
    "\n",
    "Iterate over the dictionary created in Assignment 1 and print each key-value pair.\n",
    "\n",
    "### Assignment 5: Dictionary Comprehensions\n",
    "\n",
    "Create a new dictionary containing the cubes of the first 10 positive integers using a dictionary comprehension. Print the new dictionary.\n",
    "\n",
    "### Assignment 6: Merging Dictionaries\n",
    "\n",
    "Create two dictionaries: one with keys as the first 5 positive integers and values as their squares, and another with keys as the next 5 positive integers and values as their squares. Merge these dictionaries into a single dictionary and print it.\n",
    "\n",
    "### Assignment 7: Nested Dictionaries\n",
    "\n",
    "Create a nested dictionary representing a student with keys 'name', 'age', 'grades', where 'grades' is another dictionary with keys 'math', 'science', and 'english'. Print the nested dictionary.\n",
    "\n",
    "### Assignment 8: Dictionary of Lists\n",
    "\n",
    "Create a dictionary where the keys are the first 5 positive integers and the values are lists containing the first 5 multiples of the key. Print the dictionary.\n",
    "\n",
    "### Assignment 9: Dictionary of Tuples\n",
    "\n",
    "Create a dictionary where the keys are the first 5 positive integers and the values are tuples containing the key and its square. Print the dictionary.\n",
    "\n",
    "### Assignment 10: Dictionary and List Conversion\n",
    "\n",
    "Create a dictionary with the first 5 positive integers as keys and their squares as values. Convert the dictionary to a list of tuples and print it.\n",
    "\n",
    "### Assignment 11: Dictionary Filtering\n",
    "\n",
    "Create a dictionary with the first 10 positive integers as keys and their squares as values. Create a new dictionary containing only the key-value pairs where the key is even. Print the new dictionary.\n",
    "\n",
    "### Assignment 12: Dictionary Key and Value Transformation\n",
    "\n",
    "Create a dictionary with the first 5 positive integers as keys and their squares as values. Create a new dictionary with keys and values swapped. Print the new dictionary.\n",
    "\n",
    "### Assignment 13: Default Dictionary\n",
    "\n",
    "Create a default dictionary where each key has a default value of an empty list. Add some elements to the lists and print the dictionary.\n",
    "\n",
    "### Assignment 14: Counting with Dictionaries\n",
    "\n",
    "Write a function that takes a string and returns a dictionary with the count of each character in the string. Print the dictionary.\n",
    "\n",
    "### Assignment 15: Dictionary and JSON\n",
    "\n",
    "Create a dictionary representing a book with keys 'title', 'author', 'year', and 'genre'. Convert the dictionary to a JSON string and print it."
   ]
  },
  {
   "cell_type": "code",
   "execution_count": 11,
   "metadata": {},
   "outputs": [
    {
     "name": "stdout",
     "output_type": "stream",
     "text": [
      "{1: 1, 2: 4, 3: 9, 4: 16, 5: 25, 6: 36, 7: 49, 8: 64, 9: 81, 10: 100}\n"
     ]
    }
   ],
   "source": [
    "#Question1\n",
    "squares = {x:x**2 for x in range(1,11)}\n",
    "print(squares)"
   ]
  },
  {
   "cell_type": "code",
   "execution_count": 5,
   "id": "fa9768f8",
   "metadata": {},
   "outputs": [
    {
     "name": "stdout",
     "output_type": "stream",
     "text": [
      "25\n",
      "dict_keys([1, 2, 3, 4, 5, 6, 7, 8, 9, 10])\n"
     ]
    }
   ],
   "source": [
    "#Question:2\n",
    "print(squares[5])\n",
    "print(squares.keys())"
   ]
  },
  {
   "cell_type": "code",
   "execution_count": 13,
   "id": "62189ba2",
   "metadata": {},
   "outputs": [
    {
     "name": "stdout",
     "output_type": "stream",
     "text": [
      "{1: 1, 2: 4, 3: 9, 4: 16, 5: 25, 6: 36, 7: 49, 8: 64, 9: 81, 10: 100, 11: 121}\n",
      "{2: 4, 3: 9, 4: 16, 5: 25, 6: 36, 7: 49, 8: 64, 9: 81, 10: 100, 11: 121}\n"
     ]
    }
   ],
   "source": [
    "#Question:3\n",
    "squares[11] = 121\n",
    "print(squares)\n",
    "\n",
    "del squares[1]\n",
    "print(squares)\n"
   ]
  },
  {
   "cell_type": "code",
   "execution_count": 15,
   "id": "6ecb6ef2",
   "metadata": {},
   "outputs": [
    {
     "name": "stdout",
     "output_type": "stream",
     "text": [
      "2 is paired with 4\n",
      "3 is paired with 9\n",
      "4 is paired with 16\n",
      "5 is paired with 25\n",
      "6 is paired with 36\n",
      "7 is paired with 49\n",
      "8 is paired with 64\n",
      "9 is paired with 81\n",
      "10 is paired with 100\n",
      "11 is paired with 121\n"
     ]
    }
   ],
   "source": [
    "#Question:4\n",
    "for key,value in squares.items() :\n",
    "    print(f\"{key} is paired with {value}\")"
   ]
  },
  {
   "cell_type": "code",
   "execution_count": 16,
   "id": "84d5cc2e",
   "metadata": {},
   "outputs": [
    {
     "name": "stdout",
     "output_type": "stream",
     "text": [
      "{1: 1, 2: 8, 3: 27, 4: 64, 5: 125, 6: 216, 7: 343, 8: 512, 9: 729, 10: 1000}\n"
     ]
    }
   ],
   "source": [
    "#Question:5\n",
    "cubes = {x:x**3 for x in range(1,11)}\n",
    "print(cubes)"
   ]
  },
  {
   "cell_type": "code",
   "execution_count": null,
   "id": "d0c5f53e",
   "metadata": {},
   "outputs": [
    {
     "name": "stdout",
     "output_type": "stream",
     "text": [
      "{1: 1, 2: 4, 3: 9, 4: 16, 5: 25}\n",
      "{6: 36, 7: 49, 8: 64, 9: 81, 10: 100}\n",
      "{1: 1, 2: 4, 3: 9, 4: 16, 5: 25, 6: 36, 7: 49, 8: 64, 9: 81, 10: 100}\n",
      "{1: 1, 2: 4, 3: 9, 4: 16, 5: 25, 6: 36, 7: 49, 8: 64, 9: 81, 10: 100}\n"
     ]
    }
   ],
   "source": [
    "#Question:6\n",
    "squares1 = {x:x**2 for x in range(1,6)}\n",
    "squares2 = {x:x**2 for x in range(6,11)}\n",
    "print(squares1)\n",
    "print(squares2)\n",
    "\n",
    "merge_squares = {**squares1, **squares2}\n",
    "print(merge_squares)\n",
    "\n",
    "#we can also use .update() method to merge two dictionary, if more than 2 use above way\n",
    "squares1.update(squares2) #the update will happen in squares1 dictionary\n",
    "print(squares1) "
   ]
  },
  {
   "cell_type": "code",
   "execution_count": 26,
   "id": "bd645f69",
   "metadata": {},
   "outputs": [
    {
     "name": "stdout",
     "output_type": "stream",
     "text": [
      "{'Name': 'Subrat', 'Age': 23, 'Grades': {'Maths': 98, 'Science': 99, 'English': 96}}\n",
      "Name : Subrat\n",
      "Age : 23\n",
      "Grades : {'Maths': 98, 'Science': 99, 'English': 96}\n"
     ]
    }
   ],
   "source": [
    "#Question:7\n",
    "student = {\n",
    "    \"Name\":\"Subrat\",\n",
    "    \"Age\":23,\n",
    "    \"Grades\":{\"Maths\":98, \"Science\":99, \"English\":96}\n",
    "}\n",
    "print(student)\n",
    "for key, value in student.items() :\n",
    "    print(f\"{key} : {value}\")"
   ]
  },
  {
   "cell_type": "code",
   "execution_count": 28,
   "id": "e158602c",
   "metadata": {},
   "outputs": [
    {
     "name": "stdout",
     "output_type": "stream",
     "text": [
      "{1: [1, 2, 3, 4, 5], 2: [2, 4, 6, 8, 10], 3: [3, 6, 9, 12, 15], 4: [4, 8, 12, 16, 20], 5: [5, 10, 15, 20, 25]}\n"
     ]
    }
   ],
   "source": [
    "#Question:8\n",
    "dictionary = {i : [i*j for j in range(1,6)] for i in range(1,6)}\n",
    "print(dictionary)"
   ]
  },
  {
   "cell_type": "code",
   "execution_count": 30,
   "id": "daf70a5f",
   "metadata": {},
   "outputs": [
    {
     "name": "stdout",
     "output_type": "stream",
     "text": [
      "{1: (1, 1), 2: (2, 4), 3: (3, 9), 4: (4, 16), 5: (5, 25)}\n"
     ]
    }
   ],
   "source": [
    "#Question:9\n",
    "dictionary1 = {i : (i,i**2) for i in range(1,6)}\n",
    "print(dictionary1)"
   ]
  },
  {
   "cell_type": "code",
   "execution_count": 35,
   "id": "c6a7fab9",
   "metadata": {},
   "outputs": [
    {
     "name": "stdout",
     "output_type": "stream",
     "text": [
      "{1: 1, 2: 4, 3: 9, 4: 16, 5: 25}\n",
      "dict_items([(1, 1), (2, 4), (3, 9), (4, 16), (5, 25)])\n",
      "[(1, 1), (2, 4), (3, 9), (4, 16), (5, 25)]\n"
     ]
    }
   ],
   "source": [
    "#Question:10\n",
    "dct = {x:x**2 for x in range(1,6)}\n",
    "print(dct)\n",
    "\n",
    "print(dct.items()) #we have to convert this is list \n",
    "\n",
    "lst = list(dct.items()) #we have to convert the key pair value into a list\n",
    "print(lst)"
   ]
  },
  {
   "cell_type": "code",
   "execution_count": 40,
   "id": "6aa24663",
   "metadata": {},
   "outputs": [
    {
     "name": "stdout",
     "output_type": "stream",
     "text": [
      "{1: 1, 2: 4, 3: 9, 4: 16, 5: 25, 6: 36, 7: 49, 8: 64, 9: 81, 10: 100}\n",
      "{2: 4, 4: 16, 6: 36, 8: 64, 10: 100}\n"
     ]
    }
   ],
   "source": [
    "#Question:11\n",
    "dct1 = {x:x**2 for x in range(1,11)}\n",
    "print(dct1)\n",
    "\n",
    "even_dict = {key:value for key,value in dct1.items() if key%2==0}\n",
    "print(even_dict)"
   ]
  },
  {
   "cell_type": "code",
   "execution_count": null,
   "id": "ff1198c6",
   "metadata": {},
   "outputs": [
    {
     "name": "stdout",
     "output_type": "stream",
     "text": [
      "{1: 1, 2: 4, 3: 9, 4: 16, 5: 25}\n",
      "{1: 1, 4: 2, 9: 3, 16: 4, 25: 5}\n"
     ]
    }
   ],
   "source": [
    "#Question:12\n",
    "dct2 = {x:x**2 for x in range(1,6)}\n",
    "print(dct2)\n",
    "\n",
    "swaped_dict = {value:key for key,value in dct2.items()}\n",
    "print(swaped_dict)"
   ]
  },
  {
   "cell_type": "code",
   "execution_count": null,
   "id": "ff178d04",
   "metadata": {},
   "outputs": [
    {
     "name": "stdout",
     "output_type": "stream",
     "text": [
      "defaultdict(<class 'list'>, {})\n",
      "defaultdict(<class 'list'>, {'a': [], 'b': [], 'c': []})\n",
      "defaultdict(<class 'list'>, {'a': ['Apple', 'Orange', 'Banana'], 'b': [], 'c': []})\n"
     ]
    }
   ],
   "source": [
    "#Question:13 (Understand it properly) Important\n",
    "from collections import defaultdict \n",
    "#it automatically provide the default value to the key which does not exist in the dictionary\n",
    "default_dict = defaultdict(list) #the default value to a key not present inside the dictionary is list\n",
    "print(default_dict)\n",
    "default_dict[\"a\"] #here key \"a\" was not present inside default_dict but the default value will be list i.e empty list and later we can append ele to it \n",
    "default_dict[\"b\"]\n",
    "default_dict[\"c\"]\n",
    "print(default_dict)\n",
    "#this all will be appended in a key value, whereas the key b and c will still hold the empty list value\n",
    "default_dict[\"a\"].append(\"Apple\")\n",
    "default_dict[\"a\"].append(\"Orange\")\n",
    "default_dict[\"a\"].append(\"Banana\")\n",
    "print(default_dict)"
   ]
  },
  {
   "cell_type": "code",
   "execution_count": 46,
   "id": "90a47e0e",
   "metadata": {},
   "outputs": [
    {
     "name": "stdout",
     "output_type": "stream",
     "text": [
      "The count of each character in the string is : {'S': 2, 'u': 2, 'b': 1, 'r': 2, 'a': 2, 't': 1, ' ': 2, 'K': 1, 'm': 1, 'i': 1, 'n': 1, 'g': 1, 'h': 1}\n"
     ]
    }
   ],
   "source": [
    "#Question:14\n",
    "def count_chars(string) :\n",
    "    cnt_dict = {}\n",
    "    for char in string :\n",
    "        if char in cnt_dict :\n",
    "            cnt_dict[char] += 1\n",
    "        else :\n",
    "            cnt_dict[char] = 1\n",
    "    return cnt_dict\n",
    "\n",
    "string = \"Subrat Kumar Singh\"\n",
    "print(f\"The count of each character in the string is : {count_chars(string)}\")"
   ]
  },
  {
   "cell_type": "code",
   "execution_count": 48,
   "id": "414dbcb2",
   "metadata": {},
   "outputs": [
    {
     "name": "stdout",
     "output_type": "stream",
     "text": [
      "{\"title\": \"When life gives you tangerines\", \"year\": 2025, \"author\": \"Xiong Ming\", \"genre\": \"Romance\"}\n"
     ]
    }
   ],
   "source": [
    "#Question15 \n",
    "import json\n",
    "book = {\n",
    "    \"title\" : \"When life gives you tangerines\",\n",
    "    \"year\" : 2025,\n",
    "    \"author\" : \"Xiong Ming\",\n",
    "    \"genre\" : \"Romance\"\n",
    "}\n",
    "\n",
    "#jso.dumps convert the python objects into the JSON(Javascript object notation) strings whereas json.loads() parse the json strings into python objects\n",
    "json_strings = json.dumps(book) \n",
    "print(json_strings)"
   ]
  }
 ],
 "metadata": {
  "kernelspec": {
   "display_name": "myvenv",
   "language": "python",
   "name": "python3"
  },
  "language_info": {
   "codemirror_mode": {
    "name": "ipython",
    "version": 3
   },
   "file_extension": ".py",
   "mimetype": "text/x-python",
   "name": "python",
   "nbconvert_exporter": "python",
   "pygments_lexer": "ipython3",
   "version": "3.13.5"
  }
 },
 "nbformat": 4,
 "nbformat_minor": 5
}
