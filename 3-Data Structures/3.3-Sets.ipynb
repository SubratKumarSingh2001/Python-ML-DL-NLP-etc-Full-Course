{
 "cells": [
  {
   "cell_type": "code",
   "execution_count": null,
   "id": "c2fe1465",
   "metadata": {},
   "outputs": [
    {
     "name": "stdout",
     "output_type": "stream",
     "text": [
      "{1, 2, 3} <class 'set'>\n",
      "set() <class 'set'>\n"
     ]
    }
   ],
   "source": [
    "#In this we will study about the sets\n",
    "#Sets : are the in-built datatypes which store the unique items, They are unordered means the items dont follow specific order and they dont \n",
    "#contain the duplicates element and help in checking the membership test\n",
    "\n",
    "my_Set = {1,2,3}\n",
    "print(my_Set, type(my_Set))\n",
    "\n",
    "my_empty_set = set()\n",
    "print(my_empty_set, type(my_empty_set))"
   ]
  },
  {
   "cell_type": "code",
   "execution_count": null,
   "id": "9f3be7fa",
   "metadata": {},
   "outputs": [
    {
     "name": "stdout",
     "output_type": "stream",
     "text": [
      "[1, 23, 3, 4, 5] <class 'list'>\n",
      "{1, 3, 4, 5, 23} <class 'set'>\n"
     ]
    }
   ],
   "source": [
    "#type conversion from list to set\n",
    "lst = [1,23,3,4,5]\n",
    "print(lst, type(lst))\n",
    "\n",
    "my_set = set(lst)\n",
    "print(my_set, type(my_set))"
   ]
  },
  {
   "cell_type": "code",
   "execution_count": 9,
   "id": "f2255669",
   "metadata": {},
   "outputs": [
    {
     "name": "stdout",
     "output_type": "stream",
     "text": [
      "{1, 2, 3, 4, 5} <class 'set'>\n"
     ]
    }
   ],
   "source": [
    "my_set = {1,2,3,3,4,4,5,5}\n",
    "print(my_set, type(my_set))"
   ]
  },
  {
   "cell_type": "code",
   "execution_count": null,
   "id": "e8f48425",
   "metadata": {},
   "outputs": [
    {
     "name": "stdout",
     "output_type": "stream",
     "text": [
      "{1, 2, 3, 4, 5, 6}\n",
      "{1, 2, 4, 5, 6}\n",
      "{1, 2, 4, 5, 6}\n",
      "{1, 2, 4, 6}\n",
      "1 {2, 4, 6}\n",
      "set()\n"
     ]
    }
   ],
   "source": [
    "#Basic Operations in Set\n",
    "\n",
    "#Add elements in set in list we use append and in set we use add method\n",
    "my_set = {1,2,3,3,4,4,5,5}\n",
    "my_set.add(6)\n",
    "print(my_set)\n",
    "\n",
    "#Remove the elements from the set use remove as same we use in list\n",
    "my_set.remove(3)\n",
    "print(my_set)\n",
    "\n",
    "#if we want to remove the element that is not present in set using remove will give error, so we can use discard: if ele is member of set remove else not\n",
    "my_set.discard(10)\n",
    "print(my_set)\n",
    "my_set.discard(5)\n",
    "print(my_set)\n",
    "\n",
    "#pop method also in list in set pop remove the first element of the set\n",
    "rem_ele = my_set.pop();\n",
    "print(rem_ele, my_set)\n",
    "\n",
    "my_set.clear(); #remove all ele from set\n",
    "print(my_set)"
   ]
  },
  {
   "cell_type": "code",
   "execution_count": 4,
   "id": "553571ad",
   "metadata": {},
   "outputs": [
    {
     "name": "stdout",
     "output_type": "stream",
     "text": [
      "(1, 2, 3, 3, 4, 5)\n",
      "True\n",
      "True\n",
      "False\n"
     ]
    }
   ],
   "source": [
    "#Set membership test\n",
    "my_set = (1,2,3,3,4,5)\n",
    "print(my_set)\n",
    "print(1 in my_set)\n",
    "print(10 not in my_set)\n",
    "print(10 in my_set)"
   ]
  },
  {
   "cell_type": "code",
   "execution_count": 12,
   "id": "4b976142",
   "metadata": {},
   "outputs": [
    {
     "name": "stdout",
     "output_type": "stream",
     "text": [
      "{1, 2, 3, 4, 5, 6}\n",
      "{3, 4}\n",
      "{3, 4}\n",
      "set()\n",
      "{5, 6}\n",
      "{5, 6}\n"
     ]
    }
   ],
   "source": [
    "#Mathematical Operation on set: Union , intersection, difference etc\n",
    "set1 = {1,2,3,4}\n",
    "set2 = {3,4,5,6}\n",
    "\n",
    "#union\n",
    "print(set1.union(set2))\n",
    "\n",
    "#intersection \n",
    "print(set1.intersection(set2))\n",
    "#we can update the set1 : which can have the intersection of set1 and set2\n",
    "set1.intersection_update(set2)\n",
    "print(set1) #now set1 is updated and contains the intersection elements in set1 and set2\n",
    "\n",
    "#difference : set1-set2\n",
    "print(set1.difference(set2)) #there is also a difference_update which works same as the intersection_update\n",
    "print(set2.difference(set1))\n",
    "\n",
    "#symmetric difference \n",
    "print(set1.symmetric_difference(set2)) #both the set unique elements will get combined into a single set \n",
    "\n"
   ]
  },
  {
   "cell_type": "code",
   "execution_count": 18,
   "id": "3b71de18",
   "metadata": {},
   "outputs": [
    {
     "name": "stdout",
     "output_type": "stream",
     "text": [
      "False\n",
      "True\n"
     ]
    }
   ],
   "source": [
    "#set methods\n",
    "set1 = {3,4,5,6,7,8}\n",
    "set2 = {3,4,5}\n",
    "\n",
    "#subset \n",
    "print(set1.issubset(set2))\n",
    "#superset\n",
    "print(set1.issuperset(set2))"
   ]
  },
  {
   "cell_type": "code",
   "execution_count": 22,
   "id": "2fa3b335",
   "metadata": {},
   "outputs": [
    {
     "name": "stdout",
     "output_type": "stream",
     "text": [
      "[1, 2, 3, 4, 5]\n"
     ]
    }
   ],
   "source": [
    "lst = [1,2,2,3,4,4,5]\n",
    "print(list(set(lst))) #first the list is converted into set to print only unique element and then the set is converted into the list again"
   ]
  },
  {
   "cell_type": "code",
   "execution_count": 29,
   "id": "dbbef74e",
   "metadata": {},
   "outputs": [
    {
     "name": "stdout",
     "output_type": "stream",
     "text": [
      "['In', 'this', 'tutorials', 'we', 'are', 'discussing', 'about', 'the', 'sets', 'this', 'is', 'good', 'example', 'of', 'sets']\n",
      "{'tutorials', 'example', 'is', 'sets', 'this', 'of', 'In', 'good', 'the', 'discussing', 'are', 'about', 'we'}\n",
      "13\n"
     ]
    }
   ],
   "source": [
    "#Counting unique word in text\n",
    "txt = \"In this tutorials we are discussing about the sets this is good example of sets\"\n",
    "words = txt.split() #this will convert the sentence with each word as a item in the list\n",
    "print(words)\n",
    "\n",
    "#now convert this list into set\n",
    "unique_words = set(words)\n",
    "print(unique_words)\n",
    "print(len(unique_words))"
   ]
  }
 ],
 "metadata": {
  "kernelspec": {
   "display_name": "myvenv",
   "language": "python",
   "name": "python3"
  },
  "language_info": {
   "codemirror_mode": {
    "name": "ipython",
    "version": 3
   },
   "file_extension": ".py",
   "mimetype": "text/x-python",
   "name": "python",
   "nbconvert_exporter": "python",
   "pygments_lexer": "ipython3",
   "version": "3.13.5"
  }
 },
 "nbformat": 4,
 "nbformat_minor": 5
}
