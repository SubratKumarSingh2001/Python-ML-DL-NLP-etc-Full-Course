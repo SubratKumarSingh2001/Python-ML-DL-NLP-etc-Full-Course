{
 "cells": [
  {
   "cell_type": "code",
   "execution_count": 2,
   "id": "67b1cec3",
   "metadata": {},
   "outputs": [
    {
     "name": "stdout",
     "output_type": "stream",
     "text": [
      "The sum of all the elements inside the numbers is: 18\n"
     ]
    }
   ],
   "source": [
    "#Question:1\n",
    "\n",
    "def sum_list(numbers):\n",
    "    # Your code goes here\n",
    "    sum = 0\n",
    "    for ele in numbers :\n",
    "        sum += ele\n",
    "    return sum\n",
    "\n",
    "numbers = [10, -5, 7, 8, -2]\n",
    "print(f\"The sum of all the elements inside the numbers is: {sum_list(numbers)}\")"
   ]
  },
  {
   "cell_type": "code",
   "execution_count": 4,
   "id": "923ee2f1",
   "metadata": {},
   "outputs": [
    {
     "name": "stdout",
     "output_type": "stream",
     "text": [
      "The largest number in the numbers list is : -1\n"
     ]
    }
   ],
   "source": [
    "#Question:2\n",
    "\n",
    "def find_largest(numbers):\n",
    "    # Your code goes here\n",
    "    largest = numbers[0]\n",
    "    for ele in numbers :\n",
    "        if largest <= ele :\n",
    "            largest = ele\n",
    "    return largest\n",
    "\n",
    "numbers = [-5, -10, -2, -1, -7]\n",
    "print(f\"The largest number in the numbers list is : {find_largest(numbers)}\")"
   ]
  },
  {
   "cell_type": "code",
   "execution_count": 51,
   "id": "ddc5d90a",
   "metadata": {},
   "outputs": [
    {
     "name": "stdout",
     "output_type": "stream",
     "text": [
      "The list with unique elements are : [4, 5, 6, 7]\n"
     ]
    }
   ],
   "source": [
    "#Question:3\n",
    "\n",
    "def remove_duplicates(lst):\n",
    "    # Your code goes here\n",
    "    #One way\n",
    "    lst = list(set(lst))\n",
    "    return lst\n",
    "    \n",
    "    #Another way\n",
    "    i=0\n",
    "    while i<len(lst) :\n",
    "        j=i+1\n",
    "        while j<len(lst) :\n",
    "            if (lst[i] == lst[j]) :\n",
    "                #.remove() is not preferable because it remove the first occurrence of the duplicate in the list\n",
    "                #ls.pop() remove the last element of the list, but lst.pop(j) remove the jth index element from the lst to avoid the chances of missing any element in lst\n",
    "                lst.pop(j) \n",
    "            else :\n",
    "                j+=1\n",
    "        i+=1\n",
    "    return lst\n",
    "    \n",
    "    #One more way\n",
    "    unique_lst = []\n",
    "    for ele in lst :\n",
    "        if ele not in unique_lst :\n",
    "            unique_lst.append(ele)\n",
    "    # return unique_lst\n",
    "\n",
    "lst = [4,5,5,4,6,7]\n",
    "print(F\"The list with unique elements are : {remove_duplicates(lst)}\")"
   ]
  },
  {
   "cell_type": "code",
   "execution_count": 11,
   "id": "7a853a4f",
   "metadata": {},
   "outputs": [
    {
     "name": "stdout",
     "output_type": "stream",
     "text": [
      "False\n"
     ]
    }
   ],
   "source": [
    "#Question:4\n",
    "\n",
    "def check_unique(lst):\n",
    "    # Your code goes here\n",
    "    unique_lst = []\n",
    "    flag = True\n",
    "    for ele in lst : \n",
    "        if ele in unique_lst :\n",
    "            flag = False\n",
    "            break\n",
    "        else :\n",
    "            unique_lst.append(ele)\n",
    "    return flag\n",
    "\n",
    "lst = [1, 2, 3, 3, 4, 5]\n",
    "print(check_unique(lst))"
   ]
  },
  {
   "cell_type": "code",
   "execution_count": 14,
   "id": "1c935ed0",
   "metadata": {},
   "outputs": [
    {
     "name": "stdout",
     "output_type": "stream",
     "text": [
      "[5, 4, 3, 2, 1]\n"
     ]
    }
   ],
   "source": [
    "#Question:5\n",
    "\n",
    "def reverse_list(lst):\n",
    "    # Your code goes here\n",
    "    i=0\n",
    "    while i < len(lst)//2 :\n",
    "        temp = lst[i]\n",
    "        lst[i] = lst[len(lst)-i-1]\n",
    "        lst[len(lst)-i-1] = temp\n",
    "        i+=1 \n",
    "    return lst\n",
    "\n",
    "lst = [1, 2, 3, 4, 5]\n",
    "print(reverse_list(lst))"
   ]
  },
  {
   "cell_type": "code",
   "execution_count": 16,
   "id": "e51cc3b2",
   "metadata": {},
   "outputs": [
    {
     "name": "stdout",
     "output_type": "stream",
     "text": [
      "(2, 3)\n"
     ]
    }
   ],
   "source": [
    "#Question:6\n",
    "\n",
    "def count_even_odd(lst):\n",
    "    # Your code goes heree\n",
    "    even_cnt=0; odd_cnt=0\n",
    "    for ele in lst :\n",
    "        if ele%2 == 0 :\n",
    "            even_cnt +=1 \n",
    "        else :\n",
    "            odd_cnt +=1 \n",
    "    \n",
    "    tpl = (even_cnt, odd_cnt)\n",
    "    return tpl\n",
    "\n",
    "lst = [1, 2, 3, 4, 5]\n",
    "print(count_even_odd(lst))"
   ]
  },
  {
   "cell_type": "code",
   "execution_count": 33,
   "id": "eaaf1128",
   "metadata": {},
   "outputs": [
    {
     "name": "stdout",
     "output_type": "stream",
     "text": [
      "True\n"
     ]
    }
   ],
   "source": [
    "#Question:7\n",
    "\n",
    "def is_subset(lst1, lst2):\n",
    "    # Your code goes here\n",
    "    i=0; j=0\n",
    "    while i<len(lst1) :\n",
    "        while j <len(lst2) :\n",
    "            if (lst1[i] == lst2[j]) :\n",
    "                break\n",
    "            j +=1\n",
    "        if (j == len(lst2)) :\n",
    "            return False\n",
    "        i+=1\n",
    "    return True\n",
    "    \n",
    "    for ele in lst1 : \n",
    "        found = False\n",
    "        for item in lst2 :\n",
    "            if ele == item :\n",
    "                found = True\n",
    "                break\n",
    "        else :\n",
    "            return found\n",
    "    return True\n",
    "\n",
    "lst1 = [1, 2, 5]\n",
    "lst2 = [1, 2, 3, 4, 5]\n",
    "print(is_subset(lst1, lst2))"
   ]
  },
  {
   "cell_type": "code",
   "execution_count": 24,
   "id": "3c060a3c",
   "metadata": {},
   "outputs": [
    {
     "name": "stdout",
     "output_type": "stream",
     "text": [
      "7\n"
     ]
    }
   ],
   "source": [
    "#Question:8\n",
    "\n",
    "def max_consecutive_difference(lst):\n",
    "    # Your code goes here\n",
    "    maxDiff=0\n",
    "    for i in range(len(lst)-1) :\n",
    "        maxDiff = max(maxDiff, abs(lst[i] - lst[i+1]))\n",
    "    return maxDiff\n",
    "\n",
    "lst = [1, 7, 3, 10, 5]\n",
    "print(max_consecutive_difference(lst))"
   ]
  },
  {
   "cell_type": "code",
   "execution_count": 27,
   "id": "541afa7c",
   "metadata": {},
   "outputs": [
    {
     "name": "stdout",
     "output_type": "stream",
     "text": [
      "[1, 2, 3, 4, 5, 7, 8]\n"
     ]
    }
   ],
   "source": [
    "#Question:9\n",
    "\n",
    "def merge_two_sorted_lists(list1, list2):\n",
    "    # Your code goes here\n",
    "    lst = []\n",
    "    i=0;j=0\n",
    "    while (i<len(list1) and j<len(list2)) :\n",
    "        if list1[i] <= list2[j] :\n",
    "            lst.append(list1[i])\n",
    "            i+=1 \n",
    "        else :\n",
    "            lst.append(list2[j])\n",
    "            j+=1 \n",
    "            \n",
    "    while i<len(list1) :\n",
    "        lst.append(list1[i])\n",
    "        i+=1\n",
    "    while j<len(list2) :\n",
    "        lst.append(list2[j])\n",
    "        j+=1 \n",
    "    return lst\n",
    "\n",
    "list1 = [1, 4, 7]\n",
    "list2 = [2, 3, 5, 8]\n",
    "print(merge_two_sorted_lists(list1, list2))"
   ]
  },
  {
   "cell_type": "code",
   "execution_count": 29,
   "id": "53f91376",
   "metadata": {},
   "outputs": [
    {
     "name": "stdout",
     "output_type": "stream",
     "text": [
      "[1, 2, 4, 5, 6, 7]\n"
     ]
    }
   ],
   "source": [
    "#Question:10\n",
    "\n",
    "def rotate_list(lst, k) :\n",
    "    # Your code goes here\n",
    "    if len(lst) == 0 :\n",
    "        return []\n",
    "    for i in range(k) :\n",
    "        last_ele = lst.pop() #it pop the last element from the list and we can use .insert() to insert element at the beginning of list\n",
    "        lst.insert(0, last_ele)\n",
    "    return lst\n",
    "\n",
    "lst = [1,2,4,5,6,7]\n",
    "k=6\n",
    "print(rotate_list(lst, k))"
   ]
  },
  {
   "cell_type": "code",
   "execution_count": 34,
   "id": "3314723d",
   "metadata": {},
   "outputs": [
    {
     "name": "stdout",
     "output_type": "stream",
     "text": [
      "False\n"
     ]
    }
   ],
   "source": [
    "#Question:11\n",
    "\n",
    "def merge_lists_to_dictionary(keys, values):\n",
    "    # Your code goes here\n",
    "    #we have to make the key pair value of both the list no key or value should be remain without forming the pair\n",
    "    if(len(keys) != len(values)) :\n",
    "        return False\n",
    "        \n",
    "    dictionary = {}\n",
    "    i=0; j=0\n",
    "    while i<len(keys) and j<len(values) :\n",
    "        dictionary[keys[i]] = values[j] \n",
    "        i+=1; j+=1 \n",
    "    return dictionary\n",
    "\n",
    "keys = ['a', 'b']\n",
    "values = [1, 2, 3]\n",
    "print(merge_lists_to_dictionary(keys,values))"
   ]
  },
  {
   "cell_type": "code",
   "execution_count": null,
   "id": "e959300c",
   "metadata": {},
   "outputs": [
    {
     "name": "stdout",
     "output_type": "stream",
     "text": [
      "{'a': 1, 'b': 2, 'c': 3, 'd': 4, 'e': 5, 'f': 6}\n"
     ]
    }
   ],
   "source": [
    "#Question:12\n",
    "\n",
    "def merge_three_dictionaries(dict1, dict2, dict3):\n",
    "    # Your code goes here\n",
    "    # dict = {**dict1, **dict2, **dict3}\n",
    "    # return dict\n",
    "    \n",
    "    merge_dict = dict1.copy() #shallow copy of dictionary dict1 in merge_dict\n",
    "    for key, value in dict2.items() :\n",
    "        merge_dict[key] = value\n",
    "    for key,value in dict3.items() :\n",
    "        merge_dict[key] = value\n",
    "    return merge_dict\n",
    "\n",
    "dict1 = {'a': 1, 'b': 2}\n",
    "dict2 = {'c': 3, 'd': 4}\n",
    "dict3 = {'e': 5, 'f': 6}\n",
    "print(merge_three_dictionaries(dict1, dict2, dict3))"
   ]
  },
  {
   "cell_type": "code",
   "execution_count": null,
   "id": "024cb88c",
   "metadata": {},
   "outputs": [
    {
     "name": "stdout",
     "output_type": "stream",
     "text": [
      "{'Hello': 2, 'world': 1}\n"
     ]
    }
   ],
   "source": [
    "#Question:13\n",
    "\n",
    "def count_word_frequency(sentence):\n",
    "    # Your code goes here\n",
    "    words = sentence.split() #this will consists of list of each word in the sentence and then we can check the frequency of each word in the list\n",
    "    dict1 = {}\n",
    "    for word in words :\n",
    "        if word in dict1 :\n",
    "            dict1[word] += 1 \n",
    "        else :\n",
    "            dict1[word] = 1 \n",
    "            \n",
    "    return dict1\n",
    "\n",
    "sentence = \"Hello world Hello\"\n",
    "print(count_word_frequency(sentence))"
   ]
  },
  {
   "cell_type": "code",
   "execution_count": 44,
   "id": "1760cd7d",
   "metadata": {},
   "outputs": [
    {
     "name": "stdout",
     "output_type": "stream",
     "text": [
      "True\n"
     ]
    }
   ],
   "source": [
    "#Question:14\n",
    "\n",
    "def is_palindromic_tuple(tup):\n",
    "    # Your code goes here\n",
    "    i=0\n",
    "    j=len(tup)-1\n",
    "    while i<=j :\n",
    "        if(tup[i] != tup[j]) :\n",
    "            return False\n",
    "        i+=1;j-=1;\n",
    "    return True\n",
    "\n",
    "tup = (1, 2, 3, 2, 1)\n",
    "print(is_palindromic_tuple(tup))"
   ]
  },
  {
   "cell_type": "code",
   "execution_count": 47,
   "id": "691fa2bb",
   "metadata": {},
   "outputs": [
    {
     "name": "stdout",
     "output_type": "stream",
     "text": [
      "{'a': 1, 'b': 5, 'c': 9, 'd': 6}\n"
     ]
    }
   ],
   "source": [
    "#Question:15\n",
    "\n",
    "def merge_dicts_with_overlapping_keys(dicts):\n",
    "    # Your code goes here\n",
    "    dict1 = {}\n",
    "    for dictionary in dicts :\n",
    "        for key, value in dictionary.items() :\n",
    "            if key in dict1 :\n",
    "                dict1[key] += value\n",
    "            else :\n",
    "                dict1[key] = value\n",
    "    return dict1\n",
    "\n",
    "dicts = [{'a': 1, 'b': 2}, {'b': 3, 'c': 4}, {'c': 5, 'd': 6}]\n",
    "print(merge_dicts_with_overlapping_keys(dicts))"
   ]
  }
 ],
 "metadata": {
  "kernelspec": {
   "display_name": "myvenv",
   "language": "python",
   "name": "python3"
  },
  "language_info": {
   "codemirror_mode": {
    "name": "ipython",
    "version": 3
   },
   "file_extension": ".py",
   "mimetype": "text/x-python",
   "name": "python",
   "nbconvert_exporter": "python",
   "pygments_lexer": "ipython3",
   "version": "3.13.5"
  }
 },
 "nbformat": 4,
 "nbformat_minor": 5
}
