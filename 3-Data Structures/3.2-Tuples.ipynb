{
 "cells": [
  {
   "cell_type": "code",
   "execution_count": 37,
   "id": "8747e8e7",
   "metadata": {},
   "outputs": [
    {
     "name": "stdout",
     "output_type": "stream",
     "text": [
      "() <class 'tuple'>\n"
     ]
    }
   ],
   "source": [
    "#IN THIS WE WILL STUDY ABOUT THE TUPLES \n",
    "\n",
    "#Creating tuples\n",
    "tpl1 = ()\n",
    "print(tpl1, type(tpl1))"
   ]
  },
  {
   "cell_type": "code",
   "execution_count": 39,
   "id": "582305f0",
   "metadata": {},
   "outputs": [
    {
     "name": "stdout",
     "output_type": "stream",
     "text": [
      "<class 'list'>\n",
      "(1, 2, 3, 4, 5) <class 'tuple'>\n",
      "<class 'tuple'>\n"
     ]
    }
   ],
   "source": [
    "lst = list()\n",
    "print(type(lst))\n",
    "\n",
    "tpl = (1,2,3,4,5)\n",
    "print(tpl, type(tpl)) \n",
    "\n",
    "tpl2 = tuple()\n",
    "print(type(tpl2))"
   ]
  },
  {
   "cell_type": "code",
   "execution_count": 43,
   "id": "31b8a6b9",
   "metadata": {},
   "outputs": [
    {
     "name": "stdout",
     "output_type": "stream",
     "text": [
      "(1, 23, 4, 4)\n",
      "[1, 23, 4, 4]\n"
     ]
    }
   ],
   "source": [
    "numbers = tuple([1,23,4,4])\n",
    "print(numbers)\n",
    "\n",
    "numbers = list(numbers)\n",
    "print(numbers)"
   ]
  },
  {
   "cell_type": "code",
   "execution_count": 45,
   "id": "92a39442",
   "metadata": {},
   "outputs": [
    {
     "name": "stdout",
     "output_type": "stream",
     "text": [
      "(1, 'Subrat', 2, 'Khushi') <class 'tuple'>\n"
     ]
    }
   ],
   "source": [
    "#mixed tuples : different datatypes\n",
    "mixed = (1, \"Subrat\", 2, \"Khushi\")\n",
    "print(mixed, type(mixed))"
   ]
  },
  {
   "cell_type": "code",
   "execution_count": 52,
   "id": "14567f5e",
   "metadata": {},
   "outputs": [
    {
     "name": "stdout",
     "output_type": "stream",
     "text": [
      "1 2 7\n",
      "(1, 2, 3, 45, 5)\n",
      "(45, 5, 6, 7) (1, 2, 3, 45)\n",
      "(1, 3, 5, 7)\n",
      "(7, 6, 5, 45, 3, 2, 1)\n"
     ]
    }
   ],
   "source": [
    "#Accessing the element of the tuples is same as list\n",
    "print(numbers[0], numbers[1], numbers[-1])\n",
    "\n",
    "#Slicing in tuples are also same as list in tuples\n",
    "numbers = (1,2,3,45,5,6,7)\n",
    "print(numbers[0:5])\n",
    "print(numbers[3:], numbers[:4])\n",
    "print(numbers[::2])\n",
    "print(numbers[::-1])"
   ]
  },
  {
   "cell_type": "code",
   "execution_count": 56,
   "id": "edb5e6d9",
   "metadata": {},
   "outputs": [
    {
     "name": "stdout",
     "output_type": "stream",
     "text": [
      "(1, 2, 3, 45, 5, 6, 7, 1, 'Subrat', 2, 'Khushi')\n",
      "(1, 2, 3, 45, 5, 6, 7, 1, 2, 3, 45, 5, 6, 7, 1, 2, 3, 45, 5, 6, 7, 1, 2, 3, 45, 5, 6, 7) "
     ]
    }
   ],
   "source": [
    "#Tuples operations\n",
    "concatinate = numbers + mixed\n",
    "print(concatinate)\n",
    "\n",
    "print(numbers * 4, end=\" \") #tuple get duplicated for 4 times"
   ]
  },
  {
   "cell_type": "code",
   "execution_count": null,
   "id": "62e94f2b",
   "metadata": {},
   "outputs": [],
   "source": [
    "#immutable nature of tuples\n",
    "#tuples are immutable : once elements assigned cant be change \n",
    "\n",
    "lst = [1,2,3,4]\n",
    "print(lst)\n",
    "lst[3]=6\n",
    "print(lst)\n",
    "\n",
    "numbers[0] = 6 #tuples are immutabe \n",
    "print(numbers)"
   ]
  },
  {
   "cell_type": "code",
   "execution_count": 61,
   "id": "1183ee23",
   "metadata": {},
   "outputs": [
    {
     "name": "stdout",
     "output_type": "stream",
     "text": [
      "2\n",
      "2\n"
     ]
    }
   ],
   "source": [
    "#Methods of tuples\n",
    "numbers = (1,3,4,4,5,6,7,8)\n",
    "print(numbers.count(4)) #occurrence of 4 in tuple\n",
    "print(numbers.index(4)) #first encountered index of 4 will be returned\n"
   ]
  },
  {
   "cell_type": "code",
   "execution_count": null,
   "id": "e69e73b0",
   "metadata": {},
   "outputs": [
    {
     "name": "stdout",
     "output_type": "stream",
     "text": [
      "(1, 'Hello', 3, 'World') <class 'tuple'>\n",
      "1 Hello 3 World\n",
      "1 ['Hello', 3] World\n",
      "<class 'list'>\n"
     ]
    }
   ],
   "source": [
    "#packing and unpacking tuples\n",
    "unpacked_items = 1, \"Hello\", 3, \"World\"\n",
    "print(unpacked_items, type(unpacked_items)) #by default tuple me convert ho jata hai\n",
    "\n",
    "#we want to unpack it \n",
    "a,b,c,d = unpacked_items\n",
    "print(a,b,c,d)\n",
    "\n",
    "#we can access the first and last and remaining item of unpacked item\n",
    "first, *middle, last = unpacked_items;\n",
    "print(first, middle, last)  #*middle will hold the 2 index to 2nd last index item of the tuple as first and last index hold the first and last item of tuple\n",
    "print(type(middle)) #*middle will be of type list"
   ]
  },
  {
   "cell_type": "code",
   "execution_count": null,
   "id": "12365257",
   "metadata": {},
   "outputs": [
    {
     "name": "stdout",
     "output_type": "stream",
     "text": [
      "1 2 3 \n",
      "5 6 7 \n",
      "8 9 19 \n",
      "[1, 2, 3]\n",
      "7\n",
      "(9, 19)\n",
      "<class 'tuple'>\n"
     ]
    }
   ],
   "source": [
    "#nested list : list within the list\n",
    "lst = [[1,2,3],[5,6,7],(8,9,19)]\n",
    "#if we want to print the list\n",
    "for sub_lst in lst :\n",
    "    for item in sub_lst :\n",
    "        print(item, end=\" \")\n",
    "    print()\n",
    "\n",
    "#if we want to the access the nested list\n",
    "print(lst[0])\n",
    "print(lst[1][2])\n",
    "print(lst[2][1:]) #slicing in nested list\n",
    "print(type(lst[2])) #nested list cna also have the tuple inside it"
   ]
  },
  {
   "cell_type": "code",
   "execution_count": 83,
   "id": "ab030187",
   "metadata": {},
   "outputs": [
    {
     "name": "stdout",
     "output_type": "stream",
     "text": [
      "1 2 3 \n",
      "4 Subrat Hello \n",
      "3.14 738 Khushi \n",
      "(1, 2, 3) (4, 'Subrat', 'Hello') (3.14, 738, 'Khushi')\n",
      "('Subrat', 'Hello')\n",
      "Hello\n"
     ]
    }
   ],
   "source": [
    "#similarly we can use the nested  tuples\n",
    "tpl = ((1,2,3), (4,\"Subrat\", \"Hello\"), (3.14, 738, \"Khushi\"))\n",
    "#if we want to print the nested tuple\n",
    "for sub_tpl in tpl : \n",
    "    for item in sub_tpl :\n",
    "        print(item, end=\" \")\n",
    "    print()\n",
    "\n",
    "#if we want to access the elements of the tuple too same like of list\n",
    "print(tpl[0], tpl[1], tpl[2])\n",
    "print(tpl[1][1:]) #slicing used in tuple\n",
    "print(tpl[1][2])"
   ]
  }
 ],
 "metadata": {
  "kernelspec": {
   "display_name": "myvenv",
   "language": "python",
   "name": "python3"
  },
  "language_info": {
   "codemirror_mode": {
    "name": "ipython",
    "version": 3
   },
   "file_extension": ".py",
   "mimetype": "text/x-python",
   "name": "python",
   "nbconvert_exporter": "python",
   "pygments_lexer": "ipython3",
   "version": "3.13.5"
  }
 },
 "nbformat": 4,
 "nbformat_minor": 5
}
