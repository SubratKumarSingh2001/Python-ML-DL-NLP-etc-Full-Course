{
 "cells": [
  {
   "cell_type": "code",
   "execution_count": 6,
   "id": "bc37fb6f",
   "metadata": {},
   "outputs": [
    {
     "name": "stdout",
     "output_type": "stream",
     "text": [
      "[1, 2, 3, 4, 5] <class 'list'>\n",
      "['Subrat', 'Khushi', 'Raj'] <class 'list'>\n",
      "[1, 'Subrat', 2, 'Khushi'] <class 'list'>\n"
     ]
    }
   ],
   "source": [
    "#Lists : the are the collection of mutable items which are ordered, they can contain items of different datatypes\n",
    "\n",
    "#Introduction tot list\n",
    "\n",
    "#list of integers\n",
    "lst = [1,2,3,4,5]\n",
    "print(lst, type(lst))\n",
    "\n",
    "#list of strings\n",
    "names = [\"Subrat\", \"Khushi\", \"Raj\"]\n",
    "print(names, type(names))\n",
    "\n",
    "#mixed datatypes list\n",
    "mixed = [1, \"Subrat\", 2, \"Khushi\"]\n",
    "print(mixed, type(mixed))"
   ]
  },
  {
   "cell_type": "code",
   "execution_count": 19,
   "id": "becda35b",
   "metadata": {},
   "outputs": [
    {
     "name": "stdout",
     "output_type": "stream",
     "text": [
      "apple cherry banana kiwi gauva melon\n",
      "melon\n",
      "['banana', 'cherry', 'kiwi', 'melon']\n",
      "['banana', 'cherry', 'kiwi', 'melon', 'gauva']\n"
     ]
    }
   ],
   "source": [
    "#Accessing the list elements\n",
    "fruits = [\"apple\", \"banana\", \"cherry\", \"kiwi\", \"melon\", \"gauva\"]\n",
    "print(fruits[0], fruits[2], fruits[1], fruits[3], fruits[5], fruits[4])\n",
    "print(fruits[-2]) #from last the index start form -1 \n",
    "\n",
    "#if i want all the fruits from 1 index till 4 index\n",
    "print(fruits[1:5])\n",
    "print(fruits[1:]) #it will start from begin and go till last "
   ]
  },
  {
   "cell_type": "code",
   "execution_count": null,
   "id": "f3e856c6",
   "metadata": {},
   "outputs": [
    {
     "name": "stdout",
     "output_type": "stream",
     "text": [
      "['apple', 'banana', 'Appricot', 'kiwi', 'melon', 'gauva'] <class 'list'>\n"
     ]
    }
   ],
   "source": [
    "#modify the list elements: list are mutable \n",
    "fruits[2] = \"Appricot\"\n",
    "print(fruits, type(fruits))"
   ]
  },
  {
   "cell_type": "code",
   "execution_count": null,
   "id": "af848879",
   "metadata": {},
   "outputs": [
    {
     "name": "stdout",
     "output_type": "stream",
     "text": [
      "['apple', 'banana', 'cherry', 'kiwi', 'melon', 'gauva', 'orange']\n",
      "['apple', 'banana', 'Chicku', 'cherry', 'kiwi', 'melon', 'gauva', 'orange']\n",
      "['apple', 'banana', 'Chicku', 'kiwi', 'melon', 'gauva', 'orange']\n",
      "orange\n",
      "['apple', 'banana', 'Chicku', 'kiwi', 'melon', 'gauva']\n",
      "4\n",
      "2\n",
      "['Chicku', 'apple', 'banana', 'banana', 'gauva', 'kiwi', 'melon']\n",
      "['melon', 'kiwi', 'gauva', 'banana', 'banana', 'apple', 'Chicku']\n",
      "[]\n"
     ]
    }
   ],
   "source": [
    "#different methods in list\n",
    "fruits = [\"apple\", \"banana\", \"cherry\", \"kiwi\", \"melon\", \"gauva\"]\n",
    "\n",
    "#if we want to add a item to the end of the list\n",
    "fruits.append(\"orange\")\n",
    "print(fruits)\n",
    "\n",
    "#if want to add item at specific index\n",
    "fruits.insert(2, \"Chicku\")\n",
    "print(fruits)\n",
    "\n",
    "#if you want to remove an item from the list, if duplicate items delete it will remove the first occurrence of that item\n",
    "fruits.remove(\"cherry\")\n",
    "print(fruits)\n",
    "\n",
    "#with the help of pop we can remove the last item of list\n",
    "print(fruits.pop())\n",
    "print(fruits)\n",
    "\n",
    "#if you want the index of an item in list\n",
    "print(fruits.index(\"melon\"))\n",
    "\n",
    "#we can count the occurrence of an item in list\n",
    "fruits.insert(2, \"banana\")\n",
    "print(fruits.count(\"banana\"))\n",
    "\n",
    "#we can also sort the list\n",
    "fruits.sort()\n",
    "print(fruits)\n",
    "\n",
    "#we can also reverse the list\n",
    "fruits.reverse()\n",
    "print(fruits)\n",
    "\n",
    "#to remove all the items from the list\n",
    "fruits.clear()\n",
    "print(fruits)\n"
   ]
  },
  {
   "cell_type": "code",
   "execution_count": 41,
   "id": "019decea",
   "metadata": {},
   "outputs": [
    {
     "name": "stdout",
     "output_type": "stream",
     "text": [
      "[2, 3, 4]\n",
      "[4, 5, 6, 7, 8, 9, 10]\n",
      "[1, 2, 3, 4, 5]\n",
      "[1, 3, 5, 7, 9]\n",
      "[10, 9, 8, 7, 6, 5, 4, 3, 2, 1]\n",
      "[1, 4, 7, 10]\n",
      "[10, 7, 4, 1]\n"
     ]
    }
   ],
   "source": [
    "#slicing list\n",
    "num = [1,2,3,4,5,6,7,8,9,10]\n",
    "print(num[1:4])\n",
    "print(num[3:])\n",
    "print(num[:5])\n",
    "print(num[::2])\n",
    "print(num[::-1])\n",
    "print(num[::3])\n",
    "print(num[::-3])"
   ]
  },
  {
   "cell_type": "code",
   "execution_count": 62,
   "id": "1cdb4039",
   "metadata": {},
   "outputs": [
    {
     "name": "stdout",
     "output_type": "stream",
     "text": [
      "apple banana cherry kiwi melon gauva \n",
      "index : 0, value : 1\n",
      "index : 1, value : 2\n",
      "index : 2, value : 3\n",
      "index : 3, value : 4\n",
      "index : 4, value : 5\n",
      "index : 5, value : 6\n",
      "index : 6, value : 7\n",
      "index : 7, value : 8\n",
      "index : 8, value : 9\n",
      "index : 9, value : 10\n"
     ]
    }
   ],
   "source": [
    "#iterating over the list\n",
    "fruits = [\"apple\", \"banana\", \"cherry\", \"kiwi\", \"melon\", \"gauva\"]\n",
    "for fruit in fruits :\n",
    "    print(fruit, end=\" \")\n",
    "\n",
    "print()\n",
    "#if we want index and their corresponding values\n",
    "num = [1,2,3,4,5,6,7,8,9,10]\n",
    "for index, value in enumerate(num): #enumerate provide the (index, value) pair and for index, value in ... increase the readability\n",
    "    print(f\"index : {index}, value : {value}\")"
   ]
  },
  {
   "cell_type": "code",
   "execution_count": 57,
   "id": "b98180b6",
   "metadata": {},
   "outputs": [
    {
     "name": "stdout",
     "output_type": "stream",
     "text": [
      "[0, 1, 4, 9, 16, 25, 36, 49, 64, 81]\n",
      "[0, 1, 4, 9, 16, 25, 36, 49, 64, 81]\n"
     ]
    }
   ],
   "source": [
    "#List Comprehension \n",
    "lst = []\n",
    "for i in range(10) :\n",
    "    lst.append(i**2)\n",
    "\n",
    "print(lst)\n",
    "\n",
    "#easy way of doing above thing is into a single line lst = [what we wan to do  what the operation we are following on]\n",
    "lst = [i**2  for i in range(10)]\n",
    "print(lst)"
   ]
  },
  {
   "cell_type": "code",
   "execution_count": 60,
   "id": "21e414e8",
   "metadata": {},
   "outputs": [
    {
     "name": "stdout",
     "output_type": "stream",
     "text": [
      "[2, 3, 4, 5, 6, 7, 8, 9, 10, 11]\n",
      "[0, 2, 4, 6, 8]\n",
      "[5, 6, 6, 4, 5, 5]\n"
     ]
    }
   ],
   "source": [
    "#Syntax of list comprehension \n",
    "\n",
    "#Basic Syntax: [expression for item in iterate]\n",
    "lst1 = [x+2 for x in range(10)]\n",
    "print(lst1)\n",
    "\n",
    "#intermediate syntax: [expression for item in iterate with if condition]\n",
    "lst2 = [x for x in range(10) if x%2 == 0]\n",
    "print(lst2)\n",
    "\n",
    "# lc with function calls \n",
    "fruits = [\"apple\", \"banana\", \"cherry\", \"kiwi\", \"melon\", \"gauva\"]\n",
    "length = [len(word) for word in fruits]\n",
    "print(length)"
   ]
  }
 ],
 "metadata": {
  "kernelspec": {
   "display_name": "myvenv",
   "language": "python",
   "name": "python3"
  },
  "language_info": {
   "codemirror_mode": {
    "name": "ipython",
    "version": 3
   },
   "file_extension": ".py",
   "mimetype": "text/x-python",
   "name": "python",
   "nbconvert_exporter": "python",
   "pygments_lexer": "ipython3",
   "version": "3.13.5"
  }
 },
 "nbformat": 4,
 "nbformat_minor": 5
}
