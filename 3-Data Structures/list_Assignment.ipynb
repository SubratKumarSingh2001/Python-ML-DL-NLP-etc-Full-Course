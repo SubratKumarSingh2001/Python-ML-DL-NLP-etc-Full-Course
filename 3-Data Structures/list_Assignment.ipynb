{
 "cells": [
  {
   "cell_type": "markdown",
   "metadata": {},
   "source": [
    "# Module 3: Data Structures Assignments\n",
    "## Lesson 3.1: Lists\n",
    "### Assignment 1: Creating and Accessing Lists\n",
    "\n",
    "Create a list of the first 20 positive integers. Print the list.\n",
    "\n",
    "### Assignment 2: Accessing List Elements\n",
    "\n",
    "Print the first, middle, and last elements of the list created in Assignment 1.\n",
    "\n",
    "### Assignment 3: List Slicing\n",
    "\n",
    "Print the first five elements, the last five elements, and the elements from index 5 to 15 of the list created in Assignment 1.\n",
    "\n",
    "### Assignment 4: List Comprehensions\n",
    "\n",
    "Create a new list containing the squares of the first 10 positive integers using a list comprehension. Print the new list.\n",
    "\n",
    "### Assignment 5: Filtering Lists\n",
    "\n",
    "Create a new list containing only the even numbers from the list created in Assignment 1 using a list comprehension. Print the new list.\n",
    "\n",
    "### Assignment 6: List Methods\n",
    "\n",
    "Create a list of random numbers and sort it in ascending and descending order. Remove the duplicates from the list and print the modified list.\n",
    "\n",
    "### Assignment 7: Nested Lists\n",
    "\n",
    "Create a nested list representing a 3x3 matrix and print the matrix. Access and print the element at the second row and third column.\n",
    "\n",
    "### Assignment 8: List of Dictionaries\n",
    "\n",
    "Create a list of dictionaries where each dictionary represents a student with keys 'name' and 'score'. Sort the list of dictionaries by the 'score' in descending order and print the sorted list.\n",
    "\n",
    "### Assignment 9: Matrix Transposition\n",
    "\n",
    "Write a function that takes a 3x3 matrix (nested list) as input and returns its transpose. Print the original and transposed matrices.\n",
    "\n",
    "### Assignment 10: Flattening a Nested List\n",
    "\n",
    "Write a function that takes a nested list and flattens it into a single list. Print the original and flattened lists.\n",
    "\n",
    "### Assignment 11: List Manipulation\n",
    "\n",
    "Create a list of the first 10 positive integers. Remove the elements at indices 2, 4, and 6, and insert the element '99' at index 5. Print the modified list.\n",
    "\n",
    "### Assignment 12: List Zipping\n",
    "\n",
    "Create two lists of the same length. Use the `zip` function to combine these lists into a list of tuples and print the result.\n",
    "\n",
    "### Assignment 13: List Reversal\n",
    "\n",
    "Write a function that takes a list and returns a new list with the elements in reverse order. Print the original and reversed lists.\n",
    "\n",
    "### Assignment 14: List Rotation\n",
    "\n",
    "Write a function that rotates a list by n positions. Print the original and rotated lists.\n",
    "\n",
    "### Assignment 15: List Intersection\n",
    "\n",
    "Write a function that takes two lists and returns a new list containing only the elements that are present in both lists. Print the intersected list."
   ]
  },
  {
   "cell_type": "code",
   "execution_count": 20,
   "metadata": {},
   "outputs": [
    {
     "name": "stdout",
     "output_type": "stream",
     "text": [
      "[1, 2, 3, 4, 5, 6, 7, 8, 9, 10, 11, 12, 13, 14, 15, 16, 17, 18, 19, 20]\n",
      "[1, 2, 3, 4, 5, 6, 7, 8, 9, 10, 11, 12, 13, 14, 15, 16, 17, 18, 19, 20]\n"
     ]
    }
   ],
   "source": [
    "#Question:1\n",
    "lst = [1,2,3,4,5,6,7,8,9,10,11,12,13,14,15,16,17,18,19,20]\n",
    "print(lst)\n",
    "\n",
    "#Another way \n",
    "lst1 = list(range(1,21))\n",
    "print(lst1)"
   ]
  },
  {
   "cell_type": "code",
   "execution_count": 14,
   "id": "42df9c53",
   "metadata": {},
   "outputs": [
    {
     "name": "stdout",
     "output_type": "stream",
     "text": [
      "1\n",
      "11 11\n",
      "20 20\n"
     ]
    }
   ],
   "source": [
    "#Question:2\n",
    "n = len(lst)\n",
    "print(lst[0]) #first element of lst\n",
    "print(lst[int(n/2)], lst[n//2]) #middle element both way are correct second is floor division\n",
    "print(lst[n-1], lst[-1]) #last element of the list, we can use either of way"
   ]
  },
  {
   "cell_type": "code",
   "execution_count": null,
   "id": "d8ee45f4",
   "metadata": {},
   "outputs": [
    {
     "name": "stdout",
     "output_type": "stream",
     "text": [
      "[1, 2, 3, 4, 5]\n",
      "[16, 17, 18, 19, 20] [16, 17, 18, 19, 20]\n",
      "[6, 7, 8, 9, 10, 11, 12, 13, 14, 15, 16]\n"
     ]
    }
   ],
   "source": [
    "#Question:3\n",
    "print(lst[:5])\n",
    "print(lst[15:], lst[-5:]) #-1,-2,-3... are indexes from the last\n",
    "print(lst[5:16])"
   ]
  },
  {
   "cell_type": "code",
   "execution_count": 1,
   "id": "070bf0ee",
   "metadata": {},
   "outputs": [
    {
     "name": "stdout",
     "output_type": "stream",
     "text": [
      "[1, 4, 9, 16, 25, 36, 49, 64, 81, 100]\n"
     ]
    }
   ],
   "source": [
    "#Question:4\n",
    "lst = [x**2 for x in range(1,11)]\n",
    "print(lst)"
   ]
  },
  {
   "cell_type": "code",
   "execution_count": 18,
   "id": "b50c1985",
   "metadata": {},
   "outputs": [
    {
     "name": "stdout",
     "output_type": "stream",
     "text": [
      "[2, 4, 6, 8, 10, 12, 14, 16, 18, 20]\n"
     ]
    }
   ],
   "source": [
    "#Question:5\n",
    "lst = [1,2,3,4,5,6,7,8,9,10,11,12,13,14,15,16,17,18,19,20]\n",
    "even_no = [val for val in lst if val%2 == 0]\n",
    "print(even_no)"
   ]
  },
  {
   "cell_type": "code",
   "execution_count": null,
   "id": "c528eb55",
   "metadata": {},
   "outputs": [
    {
     "name": "stdout",
     "output_type": "stream",
     "text": [
      "[8, 2, 12, 17, 7, 5, 3, 10, 12, 6, 2, 18, 17, 17, 18, 20, 12, 20, 20, 10]\n",
      "[2, 2, 3, 5, 6, 7, 8, 10, 10, 12, 12, 12, 17, 17, 17, 18, 18, 20, 20, 20]\n",
      "[20, 20, 20, 18, 18, 17, 17, 17, 12, 12, 12, 10, 10, 8, 7, 6, 5, 3, 2, 2]\n",
      "[2, 3, 5, 6, 7, 8, 10, 12, 17, 18, 20]\n"
     ]
    }
   ],
   "source": [
    "#Question:6\n",
    "import random\n",
    "random_nums = [random.randint(1,20) for i in range(20)] #here i is the ith random integer and so on we have to create the 20 random integer\n",
    "#.randint generate the random num between (a,b) including a and b but .randrange() also generates the random number but include a and exclude b\n",
    "#.randrange can also take the step as input if the random number is 1 and step is  2 then 2 wont be present in the list there would be 3 somewhere in list\n",
    "print(random_nums)\n",
    "random_nums.sort() #ascending order sort \n",
    "print(random_nums)\n",
    "\n",
    "random_nums.sort(reverse=True) #reverse=\"True\" will reverse the list in reverse order\n",
    "print(random_nums)\n",
    "\n",
    "#to remove the duplicates from the list, set dont contain the duplicates\n",
    "random_nums = list(set(random_nums))\n",
    "print(random_nums);\n"
   ]
  },
  {
   "cell_type": "code",
   "execution_count": 38,
   "id": "fe094b61",
   "metadata": {},
   "outputs": [
    {
     "name": "stdout",
     "output_type": "stream",
     "text": [
      "1 2 3 \n",
      "4 5 6 \n",
      "7 8 9 \n",
      "The second row and third column element is:  6\n"
     ]
    }
   ],
   "source": [
    "#Question:7 : nested list\n",
    "lst = [[1,2,3], [4,5,6], [7,8,9]]\n",
    "for sub_lst in lst : \n",
    "    for item in sub_lst :\n",
    "        print(item, end=\" \")\n",
    "    print()\n",
    "\n",
    "#to access the 2nd row and 3rd column element\n",
    "print(\"The second row and third column element is: \", lst[1][2])"
   ]
  },
  {
   "cell_type": "code",
   "execution_count": null,
   "id": "dd295181",
   "metadata": {},
   "outputs": [
    {
     "name": "stdout",
     "output_type": "stream",
     "text": [
      "[95, 88, 78, 72, 65]\n"
     ]
    }
   ],
   "source": [
    "#Question:8\n",
    "students = [\n",
    "    {'name': 'Alice', 'score': 88},\n",
    "    {'name': 'Bob', 'score': 72},\n",
    "    {'name': 'Charlie', 'score': 95},\n",
    "    {'name': 'David', 'score': 65},\n",
    "    {'name': 'Eve', 'score': 78}\n",
    "]\n",
    "#This is another way of doing sorting using lambda and map function \n",
    "print(sorted(list(map(lambda students:students['score'], students)), reverse=True))"
   ]
  },
  {
   "cell_type": "code",
   "execution_count": 7,
   "id": "257f57a8",
   "metadata": {},
   "outputs": [
    {
     "name": "stdout",
     "output_type": "stream",
     "text": [
      "Original matrix:\n",
      "[1, 2]\n",
      "[4, 5]\n",
      "[7, 8]\n",
      "Transposed matrix:\n",
      "[1, 4, 7]\n",
      "[2, 5, 8]\n"
     ]
    }
   ],
   "source": [
    "#Question:9\n",
    "#[[#the inside list is of the rows(which will be no.of columns)] outside list is of the cols(which will be no.of rows)]\n",
    "def transpose_matrix(matrix):\n",
    "    transpose = [[matrix[j][i] for j in range(len(matrix))] for i in range(len(matrix[0]))]\n",
    "    return transpose\n",
    "\n",
    "matrix = [\n",
    "    [1, 2],\n",
    "    [4, 5],\n",
    "    [7, 8]\n",
    "]\n",
    "transposed = transpose_matrix(matrix)\n",
    "print(\"Original matrix:\")\n",
    "for row in matrix:\n",
    "    print(row)\n",
    "print(\"Transposed matrix:\")\n",
    "for rows in transposed:\n",
    "    print(rows)\n",
    "\n",
    "\n"
   ]
  },
  {
   "cell_type": "code",
   "execution_count": 10,
   "id": "46382ed7",
   "metadata": {},
   "outputs": [
    {
     "name": "stdout",
     "output_type": "stream",
     "text": [
      "[1, 2, 3, 4, 5, 6, 7, 8, 9]\n"
     ]
    }
   ],
   "source": [
    "#Question:10\n",
    "list = [[1,2,3],[4,5,6],[7,8,9]]\n",
    "flattern_lst = []\n",
    "for sub_list in list : \n",
    "    for item in sub_list :\n",
    "        flattern_lst.append(item)\n",
    "print(flattern_lst)"
   ]
  },
  {
   "cell_type": "code",
   "execution_count": 26,
   "id": "04ccf66f",
   "metadata": {},
   "outputs": [
    {
     "name": "stdout",
     "output_type": "stream",
     "text": [
      "[1, 2, 3, 4, 5, 6, 7, 8, 9, 10, 11, 12, 13, 14, 15, 16, 17, 18, 19, 20]\n",
      "[1, 2, 4, 5, 7, 8, 10, 11, 12, 13, 14, 15, 16, 17, 18, 19, 20]\n",
      "[1, 2, 4, 5, 7, 99, 8, 10, 11, 12, 13, 14, 15, 16, 17, 18, 19, 20]\n"
     ]
    }
   ],
   "source": [
    "#Question:11\n",
    "lst = list(range(1,21))\n",
    "print(lst)\n",
    "#del lst[i] remove the ith index element of the list\n",
    "del lst[2]\n",
    "del lst[4]\n",
    "del lst[6]\n",
    "print(lst)\n",
    "lst.insert(5,99)\n",
    "print(lst)"
   ]
  },
  {
   "cell_type": "code",
   "execution_count": null,
   "id": "7eefa981",
   "metadata": {},
   "outputs": [
    {
     "name": "stdout",
     "output_type": "stream",
     "text": [
      "[(1, 'a'), (2, 'b'), (3, 'c'), (4, 'd'), (5, 'e')]\n"
     ]
    }
   ],
   "source": [
    "#Question:12\n",
    "#zip(): contains two or more iterables(list, string, tuples etc) and pair each elements of the iterable on the basis of index/position\n",
    "#0th index of list1 pair with-> 0th index of list2 and so on... must be of same length else the pair is done till the shorter length of the iterable \n",
    "list1 = [1, 2, 3, 4, 5]\n",
    "list2 = ['a', 'b', 'c', 'd', 'e']\n",
    "print(list(zip(list1, list2))) "
   ]
  },
  {
   "cell_type": "code",
   "execution_count": 29,
   "id": "5fc1a25d",
   "metadata": {},
   "outputs": [
    {
     "name": "stdout",
     "output_type": "stream",
     "text": [
      "[1, 2, 4, 5, 7, 99, 8, 10, 11, 12, 13, 14, 15, 16, 17, 18, 19, 20]\n",
      "[20, 19, 18, 17, 16, 15, 14, 13, 12, 11, 10, 8, 99, 7, 5, 4, 2, 1]\n"
     ]
    }
   ],
   "source": [
    "#Question:13\n",
    "print(lst)\n",
    "print(lst[::-1])"
   ]
  },
  {
   "cell_type": "code",
   "execution_count": 32,
   "id": "2504c005",
   "metadata": {},
   "outputs": [
    {
     "name": "stdout",
     "output_type": "stream",
     "text": [
      "[13, 14, 15, 16, 1, 2, 4, 5, 7, 99, 8, 10, 11, 12]\n",
      "[8, 10, 11, 12, 13, 14, 15, 16, 1, 2, 4, 5, 7, 99]\n"
     ]
    }
   ],
   "source": [
    "#Question:14\n",
    "def rotate_list(lst, n) :\n",
    "    for i in range(n) :\n",
    "        last_ele = lst.pop()\n",
    "        lst.insert(0, last_ele)\n",
    "    return lst\n",
    "\n",
    "print(lst)\n",
    "print(rotate_list(lst, 4))"
   ]
  },
  {
   "cell_type": "code",
   "execution_count": 36,
   "id": "6e31176e",
   "metadata": {},
   "outputs": [
    {
     "name": "stdout",
     "output_type": "stream",
     "text": [
      "List 1: [1, 2, 3, 4, 5]\n",
      "List 2: [3, 4, 5, 6, 7]\n",
      "Intersection: [3, 4, 5]\n"
     ]
    }
   ],
   "source": [
    "#Question:15\n",
    "def intersection(lst1, lst2) :\n",
    "    intersection_lst = []\n",
    "    for x in lst1 : \n",
    "        found = False\n",
    "        for y in lst2 :\n",
    "            if x == y :\n",
    "                found = True\n",
    "                break\n",
    "        if found :\n",
    "            intersection_lst.append(x)\n",
    "    return intersection_lst\n",
    "\n",
    "lst1 = [1, 2, 3, 4, 5]\n",
    "lst2 = [3, 4, 5, 6, 7]\n",
    "intersection_lst = intersection(lst1, lst2)\n",
    "print(f\"List 1: {lst1}\")\n",
    "print(f\"List 2: {lst2}\")\n",
    "print(f\"Intersection: {intersection_lst}\")"
   ]
  },
  {
   "cell_type": "code",
   "execution_count": 37,
   "id": "958f716e",
   "metadata": {},
   "outputs": [
    {
     "name": "stdout",
     "output_type": "stream",
     "text": [
      "List 1: [1, 2, 3, 4, 5]\n",
      "List 2: [3, 4, 5, 6, 7]\n",
      "Intersection: [3, 4, 5]\n"
     ]
    }
   ],
   "source": [
    "#another way\n",
    "def intersection(lst1, lst2) :\n",
    "    intersection_lst = [x for x in lst1 if x in lst2] #means for x(each ele) in lst1 if it is present in lst 2 means true than add that to lst\n",
    "    return intersection_lst\n",
    "\n",
    "lst1 = [1, 2, 3, 4, 5]\n",
    "lst2 = [3, 4, 5, 6, 7]\n",
    "intersection_lst = intersection(lst1, lst2)\n",
    "print(f\"List 1: {lst1}\")\n",
    "print(f\"List 2: {lst2}\")\n",
    "print(f\"Intersection: {intersection_lst}\")"
   ]
  }
 ],
 "metadata": {
  "kernelspec": {
   "display_name": "myvenv",
   "language": "python",
   "name": "python3"
  },
  "language_info": {
   "codemirror_mode": {
    "name": "ipython",
    "version": 3
   },
   "file_extension": ".py",
   "mimetype": "text/x-python",
   "name": "python",
   "nbconvert_exporter": "python",
   "pygments_lexer": "ipython3",
   "version": "3.13.5"
  }
 },
 "nbformat": 4,
 "nbformat_minor": 5
}
