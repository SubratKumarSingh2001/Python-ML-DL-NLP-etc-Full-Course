{
 "cells": [
  {
   "cell_type": "code",
   "execution_count": null,
   "id": "0fb86cec",
   "metadata": {},
   "outputs": [
    {
     "name": "stdout",
     "output_type": "stream",
     "text": [
      "['Get up early', 'Study for atleast 6hrs', 'Play games', 'Read Books']\n",
      "['Get up early', 'Study for atleast 6hrs', 'Play games', 'Read Books', 'Pay the bills', 'Gardenary']\n",
      "['Get up early', 'Study for atleast 6hrs', 'Read Books', 'Pay the bills', 'Gardenary']\n",
      "Bills are not paid yet, paying the bills right now None\n",
      "After paying bills the remaining task is : ['Get up early', 'Study for atleast 6hrs', 'Read Books', 'Gardenary']\n"
     ]
    }
   ],
   "source": [
    "#TASK:1 TO CREATE A TO DO LIST (In which we can add the task, remove the task etc)\n",
    "to_do_lst = [\"Get up early\", \"Study for atleast 6hrs\", \"Play games\", \"Read Books\"]\n",
    "print(to_do_lst)\n",
    "\n",
    "#if want to add a new task to it\n",
    "to_do_lst.append(\"Pay the bills\")\n",
    "to_do_lst.append(\"Gardenary\")\n",
    "#check the to do list\n",
    "print(to_do_lst)\n",
    "\n",
    "#now we have done with the playing games we have to remove it\n",
    "to_do_lst.remove(\"Play games\")\n",
    "#check whether it is removed or not\n",
    "print(to_do_lst)\n",
    "\n",
    "#to check whether my bills are not payed or not if not payed just pay it and remove from the to to list\n",
    "if \"Pay the bills\" in to_do_lst :\n",
    "    print(\"Bills are not paid yet, paying the bills right now\", to_do_lst.remove(\"Pay the bills\"))\n",
    "else :\n",
    "    print(\"Bills are already payed\")\n",
    "\n",
    "print(\"After paying bills the remaining task is :\", to_do_lst)\n"
   ]
  },
  {
   "cell_type": "code",
   "execution_count": 12,
   "id": "7f2f9864",
   "metadata": {},
   "outputs": [
    {
     "name": "stdout",
     "output_type": "stream",
     "text": [
      "[45, 67, 89, 65, 78, 67, 90, 89, 99]\n",
      "The average grade of a student is : 76.55555555555556\n",
      "The highest grade of students is : 99\n",
      "The lowest grade of student is : 45\n"
     ]
    }
   ],
   "source": [
    "#TASK:2 CREATE A LIST TO STORE AND CALCULATE THE AVERAGE GRADES FOR STUDENTS \n",
    "grades = [45, 67, 89, 65, 78, 67, 90, 89]\n",
    "grades.append(99)\n",
    "print(grades)\n",
    "\n",
    "#calculate the average grades of the student\n",
    "avg_grade = sum(grades) / len(grades)\n",
    "highest_grade = max(grades)\n",
    "lowest_grades = min(grades)\n",
    "print(f\"The average grade of a student is : {avg_grade}\")\n",
    "print(f\"The highest grade of students is : {highest_grade}\")\n",
    "print(f\"The lowest grade of student is : {lowest_grades}\")"
   ]
  },
  {
   "cell_type": "code",
   "execution_count": 18,
   "id": "a3a0530b",
   "metadata": {},
   "outputs": [
    {
     "name": "stdout",
     "output_type": "stream",
     "text": [
      "['Apple', 'Banana', 'Grapes', 'Orange']\n",
      "['Apple', 'Banana', 'Grapes', 'Orange', 'Appicrot']\n",
      "Grapes present in the inventory\n",
      "inventory:\n",
      "- Apple\n",
      "- Banana\n",
      "- Grapes\n",
      "- Orange\n",
      "- Appicrot\n"
     ]
    }
   ],
   "source": [
    "#TASK:3 MANAGING THE INVENTORY \n",
    "inventory = [\"Apple\", \"Banana\", \"Grapes\", \"Orange\"]\n",
    "print(inventory)\n",
    "\n",
    "#add an item ot the inventory\n",
    "inventory.append(\"Appicrot\")\n",
    "print(inventory)\n",
    "\n",
    "#now check whether the item is present in the inventory or not\n",
    "item = \"Grapes\"\n",
    "if item in inventory :\n",
    "    print(f\"{item} present in the inventory\")\n",
    "else :\n",
    "    print(f\"{item} not present the inventory\")\n",
    "\n",
    "print(\"inventory:\")\n",
    "for item in inventory :\n",
    "    print(f\"- {item}\")"
   ]
  },
  {
   "cell_type": "code",
   "execution_count": null,
   "id": "581c35f2",
   "metadata": {},
   "outputs": [
    {
     "name": "stdout",
     "output_type": "stream",
     "text": [
      "['Great feedback', 'Excellent Feedback', 'Outstanding Feedback', 'Not satisfactory', 'Not met up to the mark']\n",
      "['Great feedback', 'Excellent Feedback', 'Outstanding Feedback', 'Not satisfactory', 'Not met up to the mark']\n",
      "The number of positive feedback in feedback is : 2\n",
      "Feedback:\n",
      "- Great feedback\n",
      "- Excellent Feedback\n",
      "- Outstanding Feedback\n",
      "- Not satisfactory\n",
      "- Not met up to the mark\n"
     ]
    }
   ],
   "source": [
    "#TASK:4 LIST OF THE FACEBOOK FEEDBACK\n",
    "feedbacks = [\"Great feedback\", \"Excellent Feedback\", \"Outstanding Feedback\", \"Not satisfactory\"]\n",
    "print(feedback)\n",
    "\n",
    "#add one more feedback \n",
    "feedbacks.append(\"Not met up to the mark\")\n",
    "print(feedback)\n",
    "\n",
    "#now suppose we want to count the no of positive feedback (in which there are words like great outstanding) consider them as positive feedback\n",
    "pos_feedback_cnt = 0\n",
    "for comment in feedbacks : \n",
    "    if \"great\" in comment.lower() or \"outstanding\" in comment.lower() : #comment.lower() convert the word into the lowercase \n",
    "        pos_feedback_cnt += 1\n",
    "print(f\"The number of positive feedback in feedback is : {pos_feedback_cnt}\")\n",
    "\n",
    "#print all the feedback \n",
    "print('Feedback:')\n",
    "for feedback in feedbacks :\n",
    "    print(f\"- {feedback}\")\n"
   ]
  }
 ],
 "metadata": {
  "kernelspec": {
   "display_name": "myvenv",
   "language": "python",
   "name": "python3"
  },
  "language_info": {
   "codemirror_mode": {
    "name": "ipython",
    "version": 3
   },
   "file_extension": ".py",
   "mimetype": "text/x-python",
   "name": "python",
   "nbconvert_exporter": "python",
   "pygments_lexer": "ipython3",
   "version": "3.13.5"
  }
 },
 "nbformat": 4,
 "nbformat_minor": 5
}
