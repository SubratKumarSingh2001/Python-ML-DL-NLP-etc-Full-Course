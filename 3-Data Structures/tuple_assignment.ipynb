{
 "cells": [
  {
   "cell_type": "markdown",
   "id": "6cade624",
   "metadata": {},
   "source": [
    "# Module 3: Data Structures Assignments\n",
    "## Lesson 3.2: Tuples\n",
    "### Assignment 1: Creating and Accessing Tuples\n",
    "\n",
    "Create a tuple with the first 10 positive integers. Print the tuple.\n",
    "\n",
    "### Assignment 2: Accessing Tuple Elements\n",
    "\n",
    "Print the first, middle, and last elements of the tuple created in Assignment 1.\n",
    "\n",
    "### Assignment 3: Tuple Slicing\n",
    "\n",
    "Print the first three elements, the last three elements, and the elements from index 2 to 5 of the tuple created in Assignment 1.\n",
    "\n",
    "### Assignment 4: Nested Tuples\n",
    "\n",
    "Create a nested tuple representing a 3x3 matrix and print the matrix. Access and print the element at the second row and third column.\n",
    "\n",
    "### Assignment 5: Tuple Concatenation\n",
    "\n",
    "Concatenate two tuples: (1, 2, 3) and (4, 5, 6). Print the resulting tuple.\n",
    "\n",
    "### Assignment 6: Tuple Methods\n",
    "\n",
    "Create a tuple with duplicate elements and count the occurrences of an element. Find the index of the first occurrence of an element in the tuple.\n",
    "\n",
    "### Assignment 7: Unpacking Tuples\n",
    "\n",
    "Create a tuple with 5 elements and unpack it into 5 variables. Print the variables.\n",
    "\n",
    "### Assignment 8: Tuple Conversion\n",
    "\n",
    "Convert a list of the first 5 positive integers to a tuple. Print the tuple.\n",
    "\n",
    "### Assignment 9: Tuple of Tuples\n",
    "\n",
    "Create a tuple containing 3 tuples, each with 3 elements. Print the tuple of tuples.\n",
    "\n",
    "### Assignment 10: Tuple and List\n",
    "\n",
    "Create a tuple with the first 5 positive integers. Convert it to a list, append the number 6, and convert it back to a tuple. Print the resulting tuple.\n",
    "\n",
    "### Assignment 11: Tuple and String\n",
    "\n",
    "Create a tuple with the characters of a string. Join the tuple elements into a single string. Print the string.\n",
    "\n",
    "### Assignment 12: Tuple and Dictionary\n",
    "\n",
    "Create a dictionary with tuple keys and integer values. Print the dictionary.\n",
    "\n",
    "### Assignment 13: Nested Tuple Iteration\n",
    "\n",
    "Create a nested tuple and iterate over the elements, printing each element.\n",
    "\n",
    "### Assignment 14: Tuple and Set\n",
    "\n",
    "Create a tuple with duplicate elements. Convert it to a set to remove duplicates and print the resulting set.\n",
    "\n",
    "### Assignment 15: Tuple Functions\n",
    "\n",
    "Write functions that take a tuple and return the minimum, maximum, and sum of the elements. Print the results for a sample tuple."
   ]
  },
  {
   "cell_type": "code",
   "execution_count": 2,
   "metadata": {},
   "outputs": [
    {
     "name": "stdout",
     "output_type": "stream",
     "text": [
      "(1, 2, 3, 4, 5, 6, 7, 8, 9)\n"
     ]
    }
   ],
   "source": [
    "#Question:1 \n",
    "tpl = tuple(range(1, 10))\n",
    "print(tpl)"
   ]
  },
  {
   "cell_type": "code",
   "execution_count": 6,
   "id": "791e7b4e",
   "metadata": {},
   "outputs": [
    {
     "name": "stdout",
     "output_type": "stream",
     "text": [
      "The first element of the above tuple is : 1\n",
      "The middle element of the above tuple is : 5 or 5 both way can be used\n",
      "The last element of the above tuple is : 9 or 9 both way can be used\n"
     ]
    }
   ],
   "source": [
    "#Question:2\n",
    "n = len(tpl)\n",
    "print(f\"The first element of the above tuple is : {tpl[0]}\")\n",
    "print(f\"The middle element of the above tuple is : {tpl[n // 2]} or {tpl[int(n/2)]} both way can be used\")\n",
    "print(f\"The last element of the above tuple is : {tpl[-1]} or {tpl[n-1]} both way can be used\")"
   ]
  },
  {
   "cell_type": "code",
   "execution_count": 14,
   "id": "50805637",
   "metadata": {},
   "outputs": [
    {
     "name": "stdout",
     "output_type": "stream",
     "text": [
      "The first three element of the above tuple is : (1, 2, 3)\n",
      "The last three element of the above tuple is : (7, 8, 9)\n",
      "The element from index two to five in above tuple is : (3, 4, 5, 6)\n"
     ]
    }
   ],
   "source": [
    "#Question:3\n",
    "print(f\"The first three element of the above tuple is : {tpl[:3]}\")\n",
    "print(f\"The last three element of the above tuple is : {tpl[-3:]}\")\n",
    "print(f\"The element from index two to five in above tuple is : {tpl[2:6]}\")"
   ]
  },
  {
   "cell_type": "code",
   "execution_count": 18,
   "id": "ef5a6319",
   "metadata": {},
   "outputs": [
    {
     "name": "stdout",
     "output_type": "stream",
     "text": [
      "1 2 3 \n",
      "4 5 6 \n",
      "7 8 9 \n",
      "The second row and third column element is : 6\n"
     ]
    }
   ],
   "source": [
    "#Question:4\n",
    "tpl = ((1,2,3),(4,5,6),(7,8,9))\n",
    "for sub_tpl in tpl :\n",
    "    for ele in sub_tpl : \n",
    "        print(ele, end=\" \")\n",
    "    print()\n",
    "print(f\"The second row and third column element is : {tpl[1][2]}\")"
   ]
  },
  {
   "cell_type": "code",
   "execution_count": 26,
   "id": "52dc2f16",
   "metadata": {},
   "outputs": [
    {
     "name": "stdout",
     "output_type": "stream",
     "text": [
      "(1, 2, 3, 4, 5, 6)\n"
     ]
    }
   ],
   "source": [
    "#Question:5\n",
    "tpl1= (1,2,3)\n",
    "tpl2 = (4,5,6)\n",
    "concatinate = tpl1 + tpl2\n",
    "print(concatinate) "
   ]
  },
  {
   "cell_type": "code",
   "execution_count": 30,
   "id": "00b6b1c7",
   "metadata": {},
   "outputs": [
    {
     "name": "stdout",
     "output_type": "stream",
     "text": [
      "4 2\n",
      "3 8\n"
     ]
    }
   ],
   "source": [
    "#Question:6\n",
    "tpl = (1,2,3,4,4,4,4,5,6,6)\n",
    "print(tpl.count(4), tpl.count(6))\n",
    "print(tpl.index(4), tpl. index(6))"
   ]
  },
  {
   "cell_type": "code",
   "execution_count": 24,
   "id": "4085e76b",
   "metadata": {},
   "outputs": [
    {
     "name": "stdout",
     "output_type": "stream",
     "text": [
      "(1, 'Subrat', 'Khushi', 2, 3.14)\n",
      "1 Subrat Khushi 2 3.14\n"
     ]
    }
   ],
   "source": [
    "#Question:7\n",
    "#unpacking and packing with five items and print with 5 different variables\n",
    "packed = 1, \"Subrat\", \"Khushi\", 2, 3.14\n",
    "print(packed)\n",
    "#now, unpacked them and print\n",
    "a,b,c,d,e = packed\n",
    "print(a, b, c, d, e)"
   ]
  },
  {
   "cell_type": "code",
   "execution_count": 32,
   "id": "539a49fc",
   "metadata": {},
   "outputs": [
    {
     "name": "stdout",
     "output_type": "stream",
     "text": [
      "(1, 2, 3, 4, 5)\n"
     ]
    }
   ],
   "source": [
    "#Question:8\n",
    "tpl = tuple(list(range(1,6)))\n",
    "print(tpl)"
   ]
  },
  {
   "cell_type": "code",
   "execution_count": 35,
   "id": "9760eae5",
   "metadata": {},
   "outputs": [
    {
     "name": "stdout",
     "output_type": "stream",
     "text": [
      "((1, 2, 3), (4, 5, 6), (7, 8, 9))\n",
      "1 2 3 \n",
      "4 5 6 \n",
      "7 8 9 \n"
     ]
    }
   ],
   "source": [
    "#Question:9 \n",
    "tpl = ((1,2,3),(4,5,6),(7,8,9))\n",
    "print(tpl)\n",
    "for sub_tpl in tpl :\n",
    "    for ele in sub_tpl :\n",
    "        print(ele, end=\" \")\n",
    "    print()"
   ]
  },
  {
   "cell_type": "code",
   "execution_count": 41,
   "id": "385872a0",
   "metadata": {},
   "outputs": [
    {
     "name": "stdout",
     "output_type": "stream",
     "text": [
      "[1, 2, 3, 4, 5]\n",
      "(1, 2, 3, 4, 5, 6)\n"
     ]
    }
   ],
   "source": [
    "#Question:10\n",
    "tpl = list(tuple(range(1,6)))\n",
    "print(tpl)\n",
    "tpl.append(6)\n",
    "tpl = tuple(tpl)\n",
    "print(tpl)"
   ]
  },
  {
   "cell_type": "code",
   "execution_count": 50,
   "id": "1003c8be",
   "metadata": {},
   "outputs": [
    {
     "name": "stdout",
     "output_type": "stream",
     "text": [
      "('S', 'u', 'b', 'r', 'a', 't')\n",
      "Subrat\n"
     ]
    }
   ],
   "source": [
    "#Question:11\n",
    "string = \"Subrat\"\n",
    "tpl = tuple(string)\n",
    "print(tpl)\n",
    "empty_str = ''\n",
    "string = empty_str.join(tpl) #the empty string will be used to form the single strings from the characters present inside the tuple\n",
    "print(string)\n"
   ]
  },
  {
   "cell_type": "code",
   "execution_count": 56,
   "id": "337f524c",
   "metadata": {},
   "outputs": [
    {
     "name": "stdout",
     "output_type": "stream",
     "text": [
      "{(1, 2, 3): 1, (4, 5, 6): 2, (7, 8, 9): 3} <class 'dict'>\n"
     ]
    }
   ],
   "source": [
    "#Question:12\n",
    "dictionary = {(1,2,3):1, (4,5,6):2, (7,8,9):3}\n",
    "print(dictionary, type(dictionary))"
   ]
  },
  {
   "cell_type": "code",
   "execution_count": 64,
   "id": "b98c371b",
   "metadata": {},
   "outputs": [
    {
     "name": "stdout",
     "output_type": "stream",
     "text": [
      "The element is 1\n",
      "The element is 2\n",
      "The element is 3\n",
      "The element is 4\n",
      "The element is 5\n",
      "The element is 6\n",
      "The element is 7\n",
      "The element is 8\n",
      "The element is 9\n"
     ]
    }
   ],
   "source": [
    "#Question:13\n",
    "tpl = ((1,2,3),(4,5,6),(7,8,9))\n",
    "for sub_tpl in tpl :\n",
    "    for ele in sub_tpl : \n",
    "        print(f\"The element is {ele}\")"
   ]
  },
  {
   "cell_type": "code",
   "execution_count": 67,
   "id": "912bf857",
   "metadata": {},
   "outputs": [
    {
     "name": "stdout",
     "output_type": "stream",
     "text": [
      "(1, 2, 3, 3, 3, 4, 5, 6, 7, 7, 7, 8, 9)\n",
      "{1, 2, 3, 4, 5, 6, 7, 8, 9} <class 'set'>\n"
     ]
    }
   ],
   "source": [
    "#QUestion:14\n",
    "tpl = (1,2,3,3,3,4,5,6,7,7,7,8,9)\n",
    "print(tpl)\n",
    "unique = set(tpl)\n",
    "print(unique, type(unique))"
   ]
  },
  {
   "cell_type": "code",
   "execution_count": 75,
   "id": "8d59d78e",
   "metadata": {},
   "outputs": [
    {
     "name": "stdout",
     "output_type": "stream",
     "text": [
      "The maximum, minimum and sum of all the elements in (1, 2, 3, 4, 5) is max: 5, min: 1 and  sum: 15\n"
     ]
    }
   ],
   "source": [
    "#Question:15\n",
    "\n",
    "def sumEle(tpl) :\n",
    "    sum=0\n",
    "    for ele in tpl :\n",
    "        sum += ele\n",
    "    return sum\n",
    "\n",
    "tpl = (1,2,3,4,5)\n",
    "maxEle = max(tpl)\n",
    "minEle = min(tpl)\n",
    "print(f\"The maximum, minimum and sum of all the elements in {tpl} is max: {maxEle}, min: {minEle} and  sum: {sumEle(tpl)}\")"
   ]
  }
 ],
 "metadata": {
  "kernelspec": {
   "display_name": "myvenv",
   "language": "python",
   "name": "python3"
  },
  "language_info": {
   "codemirror_mode": {
    "name": "ipython",
    "version": 3
   },
   "file_extension": ".py",
   "mimetype": "text/x-python",
   "name": "python",
   "nbconvert_exporter": "python",
   "pygments_lexer": "ipython3",
   "version": "3.13.5"
  }
 },
 "nbformat": 4,
 "nbformat_minor": 5
}
