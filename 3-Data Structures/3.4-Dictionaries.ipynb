{
 "cells": [
  {
   "cell_type": "code",
   "execution_count": 4,
   "id": "38061f05",
   "metadata": {},
   "outputs": [
    {
     "name": "stdout",
     "output_type": "stream",
     "text": [
      "{} <class 'dict'>\n",
      "{} <class 'dict'>\n"
     ]
    }
   ],
   "source": [
    "#In this we will study about the dictionaries\n",
    "#Dictionaries are unordered collection of item. Data are stored in key value pairs where key is unique and values are mutable \n",
    "\n",
    "#Creating Dictionaries\n",
    "dictionary = dict()\n",
    "print(dictionary, type(dictionary))\n",
    "\n",
    "empty_dict = {}\n",
    "print(empty_dict, type(empty_dict))"
   ]
  },
  {
   "cell_type": "code",
   "execution_count": 3,
   "id": "0efd0649",
   "metadata": {},
   "outputs": [
    {
     "name": "stdout",
     "output_type": "stream",
     "text": [
      "{'Name': 'Subrat', 'Age': 23, 'Course': 'MCA'} <class 'dict'>\n",
      "{'Name': 'Khushi', 'Age': 23}\n"
     ]
    }
   ],
   "source": [
    "#examples \n",
    "student = {\"Name\":\"Subrat\", \"Age\":23, \"Course\":\"MCA\"} #key must be unique and values can be change\n",
    "print(student, type(student))\n",
    "\n",
    "student = {\"Name\":\"Subrat\", \"Age\":23, \"Name\":\"Khushi\"} #key must be unique so it will update the to the latest value to the same key\n",
    "print(student) "
   ]
  },
  {
   "cell_type": "code",
   "execution_count": 16,
   "id": "927fc21f",
   "metadata": {},
   "outputs": [
    {
     "name": "stdout",
     "output_type": "stream",
     "text": [
      "Subrat 23 MCA\n",
      "Subrat\n",
      "MCA\n",
      "None\n",
      "Not Available\n"
     ]
    }
   ],
   "source": [
    "#Accessing dictionaries elements\n",
    "student = {\"Name\":\"Subrat\", \"Age\":23, \"Course\":\"MCA\"} \n",
    "print(student[\"Name\"], student[\"Age\"], student[\"Course\"])\n",
    "\n",
    "#We can also access the dictionaries values with get method\n",
    "print(student.get(\"Name\"))\n",
    "print(student.get(\"Course\"))\n",
    "\n",
    "#what if we use the get method and use the key which is not present\n",
    "print(student.get(\"Roll No\")) #gives None\n",
    "#what if we want to give our own message if key value is not present\n",
    "print(student.get(\"Roll No\", \"Not Available\"))"
   ]
  },
  {
   "cell_type": "code",
   "execution_count": 23,
   "id": "5a224809",
   "metadata": {},
   "outputs": [
    {
     "name": "stdout",
     "output_type": "stream",
     "text": [
      "{'Name': 'Subrat', 'Age': 23, 'Address': 'India', 'Course': 'MCA(SE)'}\n",
      "{'Name': 'Subrat', 'Age': 23, 'Address': 'India', 'Course': 'MCA(SE)'}\n",
      "{'Name': 'Subrat', 'Age': 23, 'Address': 'India'}\n"
     ]
    }
   ],
   "source": [
    "#Modifying the dictionaries values as key are unique but values are mutable \n",
    "student[\"Course\"] = \"MCA(SE)\" #update value\n",
    "print(student)\n",
    "student[\"Address\"] = \"India\" #new key and value\n",
    "print(student)\n",
    "\n",
    "del student[\"Course\"] #to delete a key then its corresponding value will also get delete\n",
    "print(student)"
   ]
  },
  {
   "cell_type": "code",
   "execution_count": 28,
   "id": "854cef5b",
   "metadata": {},
   "outputs": [
    {
     "name": "stdout",
     "output_type": "stream",
     "text": [
      "dict_keys(['Name', 'Age', 'Address']) dict_values(['Subrat', 23, 'India'])\n",
      "dict_items([('Name', 'Subrat'), ('Age', 23), ('Address', 'India')])\n"
     ]
    }
   ],
   "source": [
    "#Methods:\n",
    "\n",
    "#to print keys and values differently\n",
    "keys = student.keys()\n",
    "values = student.values()\n",
    "print(keys, values)\n",
    "items = student.items() #will give all key value pair\n",
    "print(items) "
   ]
  },
  {
   "cell_type": "code",
   "execution_count": 34,
   "id": "9c0283de",
   "metadata": {},
   "outputs": [
    {
     "name": "stdout",
     "output_type": "stream",
     "text": [
      "{'Name': 'Raj', 'Age': 23, 'Address': 'India'}\n",
      "{'Name': 'Raj', 'Age': 23, 'Address': 'India'}\n",
      "{'Name': 'Rahul', 'Age': 23, 'Address': 'India'} {'Name': 'Rahul', 'Age': 23, 'Address': 'India'}\n",
      "{'Name': 'Rahul', 'Age': 23, 'Address': 'India'} {'Name': 'Raj', 'Age': 23, 'Address': 'India'}\n"
     ]
    }
   ],
   "source": [
    "#creating the copy of dictionaries \n",
    "student_cpy =student\n",
    "print(student_cpy)\n",
    "print(student) #both will point to the same value\n",
    "\n",
    "#if we make any changes to the original dictionary\n",
    "student[\"Name\"] = \"Rahul\"\n",
    "print(student_cpy, student) #changes have been made to the both of in original and copy as well \n",
    "\n",
    "#to avoid this we can use the shallow copy \n",
    "student_cpy = student.copy()\n",
    "student[\"Name\"] = \"Raj\"\n",
    "print(student_cpy, student) #now the changes are reflected back to the student_cpy its beneficial to use when we are creating multiple copies and no change in original dictionary\n"
   ]
  },
  {
   "cell_type": "code",
   "execution_count": 39,
   "id": "b62a46a4",
   "metadata": {},
   "outputs": [
    {
     "name": "stdout",
     "output_type": "stream",
     "text": [
      "Name Age Address \n",
      "Raj 23 India \n",
      "The Name and its corresponding values is : Raj\n",
      "The Age and its corresponding values is : 23\n",
      "The Address and its corresponding values is : India\n"
     ]
    }
   ],
   "source": [
    "#Iterating over the dictionaries\n",
    "\n",
    "#iterating over the keys of the dictionaries\n",
    "for keys in student.keys() :\n",
    "    print(keys, end=\" \")\n",
    "\n",
    "print()\n",
    "#iterating over the values of the dictionaries\n",
    "for values in student.values() :\n",
    "    print(values, end= \" \")\n",
    "\n",
    "print()\n",
    "#iterating over the key and values of the dictionaries \n",
    "for key, value in student.items() :\n",
    "    print(f\"The {key} and its corresponding values is : {value}\")\n"
   ]
  },
  {
   "cell_type": "code",
   "execution_count": 45,
   "id": "7b7d99b2",
   "metadata": {},
   "outputs": [
    {
     "name": "stdout",
     "output_type": "stream",
     "text": [
      "subrat 21\n"
     ]
    }
   ],
   "source": [
    "#Nested dictionaries \n",
    "students = {\n",
    "    \"student1\":{\"name\":\"subrat\", \"age\":23},\n",
    "    \"student2\":{\"name\":\"rahul\", \"age\":21}\n",
    "}\n",
    "#how to access it \n",
    "print(students[\"student1\"][\"name\"], students[\"student2\"][\"age\"])"
   ]
  },
  {
   "cell_type": "code",
   "execution_count": 56,
   "id": "8ccb1ee6",
   "metadata": {},
   "outputs": [
    {
     "name": "stdout",
     "output_type": "stream",
     "text": [
      "student1:{'name': 'subrat', 'age': 23}\n",
      "name:subrat\n",
      "age:23\n",
      "student2:{'name': 'rahul', 'age': 21}\n",
      "name:rahul\n",
      "age:21\n"
     ]
    }
   ],
   "source": [
    "#iterating to the nested dictionaries (important to understand it)\n",
    "students.keys()\n",
    "students.values()\n",
    "students.items()\n",
    "\n",
    "for stud_id, stud_info in students.items() :\n",
    "    print(f\"{stud_id}:{stud_info}\")\n",
    "    for key, value in stud_info.items() :\n",
    "        print(f\"{key}:{value}\")"
   ]
  },
  {
   "cell_type": "code",
   "execution_count": null,
   "id": "3b80de07",
   "metadata": {},
   "outputs": [
    {
     "name": "stdout",
     "output_type": "stream",
     "text": [
      "{1: 1, 2: 4, 3: 9, 4: 16} <class 'dict'>\n",
      "{0: 0, 2: 4, 4: 16, 6: 36, 8: 64}\n"
     ]
    }
   ],
   "source": [
    "#Dictionaries comprehension \n",
    "squares = {x:x**2 for x in range(1,5)}\n",
    "print(squares, type(squares))\n",
    "\n",
    "\n",
    "#using the condition in  dictionary comprehension \n",
    "evens = {x:x**2 for x in range(10) if x%2==0}\n",
    "print(evens)"
   ]
  },
  {
   "cell_type": "code",
   "execution_count": null,
   "id": "c7a92f77",
   "metadata": {},
   "outputs": [
    {
     "name": "stdout",
     "output_type": "stream",
     "text": [
      "{1: 1, 2: 4, 3: 3, 4: 2, 5: 2, 6: 2, 7: 2, 8: 1, 9: 2}\n"
     ]
    }
   ],
   "source": [
    "#Some practical examples of the dictionaries \n",
    "#use the dictionaries to count the frequency of elements in list\n",
    "\n",
    "numbers = [1,2,2,2,2,3,3,3,4,4,5,5,6,6,7,7,8,9,9] \n",
    "\n",
    "#one way\n",
    "for i in numbers : \n",
    "    cnt=0\n",
    "    for j in numbers : \n",
    "        if(j == i) :\n",
    "            cnt +=1\n",
    "    dictionary[i] = cnt\n",
    "\n",
    "print(dictionary)"
   ]
  },
  {
   "cell_type": "code",
   "execution_count": 76,
   "id": "8ac251a5",
   "metadata": {},
   "outputs": [
    {
     "name": "stdout",
     "output_type": "stream",
     "text": [
      "{1: 1, 2: 4, 3: 3, 4: 2, 5: 2, 6: 2, 7: 2, 8: 1, 9: 2}\n"
     ]
    }
   ],
   "source": [
    "numbers = [1,2,2,2,2,3,3,3,4,4,5,5,6,6,7,7,8,9,9] \n",
    "\n",
    "#another way to do it \n",
    "dictionary = {}\n",
    "for number in numbers : \n",
    "    if number in dictionary : #if 1,2,3... present in dictionaries and we encountered that value again means we have to increase the frequency\n",
    "        dictionary[number] += 1\n",
    "    else :\n",
    "        dictionary[number] = 1 #else if number not present in frequency means first time coming, therefore 2 frequency it is\n",
    "print(dictionary)"
   ]
  },
  {
   "cell_type": "code",
   "execution_count": 72,
   "id": "796fef77",
   "metadata": {},
   "outputs": [
    {
     "name": "stdout",
     "output_type": "stream",
     "text": [
      "{'a': 1, 'b': 2, 'c': 3, 'd': 4}\n"
     ]
    }
   ],
   "source": [
    "#merge two dictionaries into one\n",
    "dict1 = {\"a\":1, \"b\":2, \"c\":4, \"d\":5}\n",
    "dict2 = {\"c\":3, \"d\":4}\n",
    "merge_dict = {**dict1, **dict2}\n",
    "print(merge_dict)"
   ]
  }
 ],
 "metadata": {
  "kernelspec": {
   "display_name": "myvenv",
   "language": "python",
   "name": "python3"
  },
  "language_info": {
   "codemirror_mode": {
    "name": "ipython",
    "version": 3
   },
   "file_extension": ".py",
   "mimetype": "text/x-python",
   "name": "python",
   "nbconvert_exporter": "python",
   "pygments_lexer": "ipython3",
   "version": "3.13.5"
  }
 },
 "nbformat": 4,
 "nbformat_minor": 5
}
