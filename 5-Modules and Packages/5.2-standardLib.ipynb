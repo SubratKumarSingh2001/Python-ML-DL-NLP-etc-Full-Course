{
 "cells": [
  {
   "cell_type": "code",
   "execution_count": 1,
   "id": "f913938f",
   "metadata": {},
   "outputs": [
    {
     "name": "stdout",
     "output_type": "stream",
     "text": [
      "array('f', [1.0, 2.5, 3.0, 4.0])\n",
      "array('i', [1, 2, -3, 4])\n"
     ]
    }
   ],
   "source": [
    "#Library : it is collection of modules and packages bundled in python providing wide range of functionalities out of the box\n",
    "\n",
    "from array import array\n",
    "arr = array('f', [1,2.5,3,4]) #here type-code is float : means initializer can have int and float values\n",
    "print(arr)\n",
    "\n",
    "arr1 = array('i', [1,2,-3,4]) #here type-code is signed int (means both -ve and +ve int value) : means initializer can have ony int value (-ve,+ve)\n",
    "print(arr1)"
   ]
  },
  {
   "cell_type": "code",
   "execution_count": 13,
   "id": "62b447fe",
   "metadata": {},
   "outputs": [
    {
     "name": "stdout",
     "output_type": "stream",
     "text": [
      "8.831760866327848\n"
     ]
    }
   ],
   "source": [
    "import math\n",
    "\n",
    "print(math.sqrt(78))"
   ]
  },
  {
   "cell_type": "code",
   "execution_count": 46,
   "id": "f9020852",
   "metadata": {},
   "outputs": [
    {
     "name": "stdout",
     "output_type": "stream",
     "text": [
      "[6, 9, 6, 1, 0, 8, 6, 2, 5, 1, 1, 9, 3, 7, 5, 0, 1, 0, 0, 0]\n"
     ]
    }
   ],
   "source": [
    "from numpy import random #numpy random\n",
    "lst = [random.randint(0,10) for i in range(20)]\n",
    "print(lst)"
   ]
  },
  {
   "cell_type": "code",
   "execution_count": 69,
   "id": "17f5db49",
   "metadata": {},
   "outputs": [
    {
     "name": "stdout",
     "output_type": "stream",
     "text": [
      "3\n",
      "9\n",
      "orange\n"
     ]
    }
   ],
   "source": [
    "#python standard library random import\n",
    "import random\n",
    "print(random.randint(1,10))\n",
    "print(random.randrange(1,10))\n",
    "print(random.choice(['apple', 'banana', 'orange', 'cherry'])) #it will ake one choice \n"
   ]
  },
  {
   "cell_type": "code",
   "execution_count": 101,
   "id": "c16d6228",
   "metadata": {},
   "outputs": [
    {
     "name": "stdout",
     "output_type": "stream",
     "text": [
      "c:\\Users\\Subrat Kumar Singh\\Desktop\\Python,ML,DL,NLP-Full Course\\5-Modules and Packages\n",
      "c:\\Users\\Subrat Kumar Singh\\Desktop\\Python,ML,DL,NLP-Full Course\\5-Modules and Packages\\text1.txt\n",
      "File created at c:\\Users\\Subrat Kumar Singh\\Desktop\\Python,ML,DL,NLP-Full Course\\5-Modules and Packages\\text1.txt\n"
     ]
    }
   ],
   "source": [
    "#File and Directory access \n",
    "import os #os module helps in interacting with operating system\n",
    "print(os.getcwd()) #it will give the current working directory \n",
    "\n",
    "#os.mkdir('text_dir') #will create a directory within the cwd\n",
    "\n",
    "#if we want to make a file in cwd\n",
    "curr_dir = os.getcwd()\n",
    "#file = text.txt and path = curr_dir we want to join it so that curr_dir\\text.txt\n",
    "path = os.path.join(curr_dir, 'text1.txt')\n",
    "print(path)\n",
    "#now we will create a file and write inside it \n",
    "with open(path, 'w') as file :\n",
    "    file.write(\"Hello Here!\")\n",
    "print(f\"File created at {path}\")"
   ]
  },
  {
   "cell_type": "code",
   "execution_count": 83,
   "id": "ec757038",
   "metadata": {},
   "outputs": [
    {
     "data": {
      "text/plain": [
       "'destination.txt'"
      ]
     },
     "execution_count": 83,
     "metadata": {},
     "output_type": "execute_result"
    }
   ],
   "source": [
    "#High Level operation on file and collections of file \n",
    "import shutil #module allow to perform high level operations on file and collection of files \n",
    "shutil.copy('source.txt', 'destination.txt') #within dir the destination.txt created and source.txt content copied in that"
   ]
  },
  {
   "cell_type": "code",
   "execution_count": null,
   "id": "79e3f8d2",
   "metadata": {},
   "outputs": [
    {
     "name": "stdout",
     "output_type": "stream",
     "text": [
      "{\"name\": \"subrat\", \"age\": 25} <class 'str'>\n",
      "{'name': 'subrat', 'age': 25} <class 'dict'>\n"
     ]
    }
   ],
   "source": [
    "#Data Serialization\n",
    "import json\n",
    "data = {'name':'subrat', 'age':25}\n",
    "json_string = json.dumps(data) #'{\"name\": \"subrat\", \"age\": 25}' this is a whole string now not a dictionary \n",
    "print(json_string, type(json_string))\n",
    "py_object = json.loads(json_string) # it convert the json string ;'{'name': 'subrat', 'age': 25}' into python object i.e dict {'name': 'subrat', 'age': 25}  \n",
    "print(py_object, type(py_object))\n"
   ]
  },
  {
   "cell_type": "code",
   "execution_count": null,
   "id": "0a8ea3ee",
   "metadata": {},
   "outputs": [
    {
     "name": "stdout",
     "output_type": "stream",
     "text": [
      "['Name', 'age']\n",
      "['Subrat', '23']\n"
     ]
    }
   ],
   "source": [
    "#csv file : comma separated values which store data in tabular form like in excel sheet \n",
    "#raj,subrat,khushi\n",
    "#23,23,23\n",
    "#each line a row and each comma defines the columns and rows are store in the form of list\n",
    "import csv\n",
    "\n",
    "with open('example.csv', mode='w', newline=\"\") as file : #newline='' tells python to not to add the new line let csv file handle it of its own\n",
    "    writer = csv.writer(file) #create the writer object help in doing the formatting easily (where to put \"\" or , it look on it by itself)\n",
    "    #with the help of object can add rows\n",
    "    writer.writerow([\"Name\",\"age\"])\n",
    "    writer.writerow([\"Subrat\", 23])\n",
    "\n",
    "#we have to read the csv file\n",
    "with open('example.csv', 'r') as file :\n",
    "    reader = csv.reader(file) #create the reader object \n",
    "    #with the help of object can read rows\n",
    "    for row in reader :\n",
    "        print(row)"
   ]
  },
  {
   "cell_type": "code",
   "execution_count": 27,
   "id": "57a03269",
   "metadata": {},
   "outputs": [
    {
     "name": "stdout",
     "output_type": "stream",
     "text": [
      "2025-07-24 13:45:00.599634\n",
      "2025-04-05 13:45:00.599634\n"
     ]
    }
   ],
   "source": [
    "#datetime\n",
    "from datetime import datetime, timedelta\n",
    "now = datetime.now()\n",
    "print(now)\n",
    "\n",
    "#if we want to find the previous days time wrt current time\n",
    "yesterday = now - timedelta(days=110) #110 days back time \n",
    "print(yesterday)"
   ]
  },
  {
   "cell_type": "code",
   "execution_count": 112,
   "id": "d90ab1d1",
   "metadata": {},
   "outputs": [
    {
     "name": "stdout",
     "output_type": "stream",
     "text": [
      "1753170716.3892472\n",
      "1753170721.3905852\n"
     ]
    }
   ],
   "source": [
    "#time \n",
    "import time \n",
    "print(time.time())\n",
    "\n",
    "#want to make sleep the time\n",
    "time.sleep(5)\n",
    "print(time.time())"
   ]
  },
  {
   "cell_type": "code",
   "execution_count": 31,
   "id": "9d393321",
   "metadata": {},
   "outputs": [
    {
     "name": "stdout",
     "output_type": "stream",
     "text": [
      "['123', '43']\n"
     ]
    }
   ],
   "source": [
    "#regular expression \n",
    "import re \n",
    "\n",
    "pattern = r'\\d+' #\\d match any digit from (0-9), '\\d+' one or more digits in row(continously) r: is used as raw string to avoid the \\(not consider escape) used in regex\n",
    "text = \"There are 123 apples and 43 bananas\"\n",
    "match = re.findall(pattern, text)\n",
    "print(match)"
   ]
  }
 ],
 "metadata": {
  "kernelspec": {
   "display_name": "myvenv",
   "language": "python",
   "name": "python3"
  },
  "language_info": {
   "codemirror_mode": {
    "name": "ipython",
    "version": 3
   },
   "file_extension": ".py",
   "mimetype": "text/x-python",
   "name": "python",
   "nbconvert_exporter": "python",
   "pygments_lexer": "ipython3",
   "version": "3.13.5"
  }
 },
 "nbformat": 4,
 "nbformat_minor": 5
}
