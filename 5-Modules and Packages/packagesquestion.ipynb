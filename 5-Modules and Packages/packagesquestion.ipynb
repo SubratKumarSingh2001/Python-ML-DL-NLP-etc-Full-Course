{
 "cells": [
  {
   "cell_type": "markdown",
   "metadata": {},
   "source": [
    "# Module 5: Modules and Packages Assignments\n",
    "## Lesson 5.1: Importing Modules\n",
    "### Assignment 1: Importing and Using Modules\n",
    "\n",
    "Import the `math` module and use it to calculate the square root of 25 and the sine of 90 degrees.\n",
    "\n",
    "### Assignment 2: Aliasing Modules\n",
    "\n",
    "Import the `datetime` module with an alias and use it to print the current date and time.\n",
    "\n",
    "### Assignment 3: Importing Specific Functions\n",
    "\n",
    "Import the `randint` function from the `random` module and use it to generate a random integer between 1 and 100.\n",
    "\n",
    "### Assignment 4: Importing Multiple Functions\n",
    "\n",
    "Import the `sqrt` and `pow` functions from the `math` module and use them to calculate the square root of 16 and 2 raised to the power of 3.\n",
    "\n",
    "### Assignment 5: Handling Import Errors\n",
    "\n",
    "Write code that attempts to import a non-existent module and gracefully handles the import error by printing an error message.\n",
    "\n",
    "## Lesson 5.2: Standard Library Overview\n",
    "### Assignment 6: Working with the `os` Module\n",
    "\n",
    "Use the `os` module to create a new directory, list the contents of the current directory, and remove the newly created directory.\n",
    "\n",
    "### Assignment 7: Working with the `sys` Module\n",
    "\n",
    "Use the `sys` module to print the Python version currently in use and the command-line arguments passed to the script.\n",
    "\n",
    "### Assignment 8: Working with the `math` Module\n",
    "\n",
    "Use the `math` module to calculate the greatest common divisor (GCD) of two numbers and the factorial of a number.\n",
    "\n",
    "### Assignment 9: Working with the `datetime` Module\n",
    "\n",
    "Use the `datetime` module to print the current date, calculate the date 100 days from today, and determine the day of the week for a given date.\n",
    "\n",
    "### Assignment 10: Working with the `random` Module\n",
    "\n",
    "Use the `random` module to generate a list of 5 random numbers between 1 and 50 and shuffle the elements of a list.\n",
    "\n",
    "## Lesson 5.3: Creating and Using Packages\n",
    "### Assignment 11: Creating a Simple Package\n",
    "\n",
    "Create a package named `mypackage` with two modules: `module1` and `module2`. `module1` should contain a function that adds two numbers, and `module2` should contain a function that multiplies two numbers. Write code to use these functions.\n",
    "\n",
    "### Assignment 12: Using `__init__.py`\n",
    "\n",
    "Modify the `mypackage` package to include an `__init__.py` file that imports the functions from `module1` and `module2`. Write code to use these functions.\n",
    "\n",
    "### Assignment 13: Importing from a Package\n",
    "\n",
    "Write code to import and use the functions from `mypackage` without explicitly importing `module1` and `module2`.\n",
    "\n",
    "### Assignment 14: Relative Imports\n",
    "\n",
    "Create a subpackage named `subpackage` within `mypackage` and move `module2` into `subpackage`. Modify the import statements in `__init__.py` to use relative imports. Write code to use the functions from both modules.\n",
    "\n",
    "### Assignment 15: Handling Package Import Errors\n",
    "\n",
    "Write code that attempts to import a non-existent function from `mypackage` and gracefully handles the import error by printing an error message."
   ]
  },
  {
   "cell_type": "code",
   "execution_count": 3,
   "metadata": {},
   "outputs": [
    {
     "name": "stdout",
     "output_type": "stream",
     "text": [
      "5.0\n",
      "0.8939966636005579\n"
     ]
    }
   ],
   "source": [
    "#Question:1\n",
    "import math \n",
    "print(math.sqrt(25))\n",
    "print(math.sin(90))"
   ]
  },
  {
   "cell_type": "code",
   "execution_count": null,
   "id": "82842099",
   "metadata": {},
   "outputs": [
    {
     "name": "stdout",
     "output_type": "stream",
     "text": [
      "2025-07-22 14:29:09.641693\n"
     ]
    }
   ],
   "source": [
    "#Question:2 alias : is giving the short name to the package or module so as to find it easy writing that anywhere inside the code\n",
    "import datetime as dt\n",
    "now = dt.datetime.now()\n",
    "print(now)"
   ]
  },
  {
   "cell_type": "code",
   "execution_count": 9,
   "id": "dfa90be0",
   "metadata": {},
   "outputs": [
    {
     "name": "stdout",
     "output_type": "stream",
     "text": [
      "52\n"
     ]
    }
   ],
   "source": [
    "#Question:3\n",
    "from random import randint\n",
    "print(randint(1,100))"
   ]
  },
  {
   "cell_type": "code",
   "execution_count": 11,
   "id": "228eb882",
   "metadata": {},
   "outputs": [
    {
     "name": "stdout",
     "output_type": "stream",
     "text": [
      "4.0\n",
      "8.0\n"
     ]
    }
   ],
   "source": [
    "#Question:4\n",
    "from math import sqrt, pow\n",
    "print(sqrt(16))\n",
    "print(pow(2,3))"
   ]
  },
  {
   "cell_type": "code",
   "execution_count": 3,
   "id": "5d706e21",
   "metadata": {},
   "outputs": [
    {
     "name": "stdout",
     "output_type": "stream",
     "text": [
      "No such module exist : No module named 'name'\n"
     ]
    }
   ],
   "source": [
    "#Question:5\n",
    "try :\n",
    "    import name \n",
    "except ImportError as e :\n",
    "    print(f\"No such module exist : {e}\")"
   ]
  },
  {
   "cell_type": "code",
   "execution_count": null,
   "id": "9e12994f",
   "metadata": {},
   "outputs": [],
   "source": [
    "#Question:6\n",
    "import os\n",
    "#make the new directory\n",
    "os.mkdir(\"new_dir\")\n",
    "\n",
    "#current directory \n",
    "curr_dir = os.getcwd()\n",
    "print(curr_dir)\n",
    "\n",
    "#now list the items of current direct\n",
    "items = os.listdir(curr_dir)\n",
    "print(items)\n",
    "\n",
    "#remove the new directory \n",
    "os.rmdir('new_dir')"
   ]
  },
  {
   "cell_type": "code",
   "execution_count": 22,
   "id": "0913aae6",
   "metadata": {},
   "outputs": [
    {
     "name": "stdout",
     "output_type": "stream",
     "text": [
      "Python version is : 3.13.5 (tags/v3.13.5:6cb20a2, Jun 11 2025, 16:15:46) [MSC v.1943 64 bit (AMD64)]\n",
      "Command line arguments : ['c:\\\\Users\\\\Subrat Kumar Singh\\\\Desktop\\\\Python,ML,DL,NLP-Full Course\\\\myvenv\\\\Lib\\\\site-packages\\\\ipykernel_launcher.py', '--f=\"c:\\\\Users\\\\Subrat Kumar Singh\\\\AppData\\\\Roaming\\\\jupyter\\\\runtime\\\\kernel-v31ac17acf9cb0fe93b089a504863fcc93fb83cc91.json\"']\n",
      "win32\n"
     ]
    }
   ],
   "source": [
    "#Question:7\n",
    "#sys : provide the system specific information, parameters and functions provide python version, command line arguments, knows platform info\n",
    "import sys \n",
    "\n",
    "print(f\"Python version is : {sys.version}\")\n",
    "print(f\"Command line arguments : {sys.argv}\")\n",
    "print(sys.platform)"
   ]
  },
  {
   "cell_type": "code",
   "execution_count": 27,
   "id": "a144ad21",
   "metadata": {},
   "outputs": [
    {
     "name": "stdout",
     "output_type": "stream",
     "text": [
      "3\n",
      "120\n"
     ]
    }
   ],
   "source": [
    "#Question:8\n",
    "import math\n",
    "print(math.gcd(78,99))\n",
    "print(math.factorial(5))"
   ]
  },
  {
   "cell_type": "code",
   "execution_count": 39,
   "id": "5a9d09d1",
   "metadata": {},
   "outputs": [
    {
     "name": "stdout",
     "output_type": "stream",
     "text": [
      "2025-07-24\n",
      "2025-07-24\n",
      "3\n",
      "Thursday\n"
     ]
    }
   ],
   "source": [
    "#Question:9\n",
    "import datetime as dt\n",
    "\n",
    "date = dt.date.today()\n",
    "print(date)\n",
    "\n",
    "#date 100 days before from today\n",
    "date1 = date - dt.timedelta(days=100)\n",
    "print(date)\n",
    "\n",
    "#day today \n",
    "day = date.weekday() #this will return the index of today day monday=0 and sunday=6\n",
    "print(day)\n",
    "print(date.strftime(\"%A\")) #this will return the actual day\n"
   ]
  },
  {
   "cell_type": "code",
   "execution_count": 62,
   "id": "629fe485",
   "metadata": {},
   "outputs": [
    {
     "name": "stdout",
     "output_type": "stream",
     "text": [
      "[39, 18, 10, 2, 30]\n",
      "[2, 5, 3, 4, 1]\n"
     ]
    }
   ],
   "source": [
    "#Question:10\n",
    "import random \n",
    "lst = [random.randint(1,50) for i in range(5)]\n",
    "print(lst)\n",
    "\n",
    "#shuffle the elements of list\n",
    "lst1 = [1,2,3,4,5]\n",
    "random.shuffle(lst1)\n",
    "print(lst1)"
   ]
  },
  {
   "cell_type": "code",
   "execution_count": 67,
   "id": "2ada8b11",
   "metadata": {},
   "outputs": [
    {
     "name": "stdout",
     "output_type": "stream",
     "text": [
      "14\n",
      "396\n"
     ]
    }
   ],
   "source": [
    "#Question:11\n",
    "\n",
    "#package and modules created and function definition written \n",
    "from my_package import add, mul\n",
    "print(add.addition(5,9))\n",
    "print(mul.multiply(4,99))\n"
   ]
  },
  {
   "cell_type": "code",
   "execution_count": 68,
   "id": "d7677a0e",
   "metadata": {},
   "outputs": [
    {
     "name": "stdout",
     "output_type": "stream",
     "text": [
      "14\n",
      "396\n"
     ]
    }
   ],
   "source": [
    "#Question12\n",
    "\n",
    "#for the above question created the __init__.py file \n",
    "from my_package.add import addition\n",
    "from my_package.mul import multiply\n",
    "\n",
    "print(addition(5,9))\n",
    "print(multiply(4,99))"
   ]
  },
  {
   "cell_type": "code",
   "execution_count": 69,
   "id": "1e4be1d8",
   "metadata": {},
   "outputs": [
    {
     "name": "stdout",
     "output_type": "stream",
     "text": [
      "14\n",
      "396\n"
     ]
    }
   ],
   "source": [
    "#Question13\n",
    "import my_package\n",
    "\n",
    "print(my_package.add.addition(5,9))\n",
    "print(my_package.mul.multiply(4,99))"
   ]
  },
  {
   "cell_type": "code",
   "execution_count": 71,
   "id": "e6240e25",
   "metadata": {},
   "outputs": [
    {
     "name": "stdout",
     "output_type": "stream",
     "text": [
      "14\n",
      "396\n"
     ]
    }
   ],
   "source": [
    "#Question14\n",
    "from my_package.add import addition\n",
    "from my_package.sub_package.mul import  multiply\n",
    "\n",
    "print(addition(5,9))\n",
    "print(multiply(4,99))"
   ]
  },
  {
   "cell_type": "code",
   "execution_count": null,
   "id": "81a9a04d",
   "metadata": {},
   "outputs": [
    {
     "name": "stdout",
     "output_type": "stream",
     "text": [
      "In-build method not found in module : cannot import name 'divide' from 'my_package.add' (c:\\Users\\Subrat Kumar Singh\\Desktop\\Python,ML,DL,NLP-Full Course\\5-Modules and Packages\\my_package\\add.py)\n"
     ]
    }
   ],
   "source": [
    "#Question15\n",
    "try : \n",
    "    from my_package.add import divide #as divide method is not present\n",
    "\n",
    "except ImportError as e :\n",
    "    print(f\"In-build method not found in module : {e}\") \n",
    "\n"
   ]
  }
 ],
 "metadata": {
  "kernelspec": {
   "display_name": "myvenv",
   "language": "python",
   "name": "python3"
  },
  "language_info": {
   "codemirror_mode": {
    "name": "ipython",
    "version": 3
   },
   "file_extension": ".py",
   "mimetype": "text/x-python",
   "name": "python",
   "nbconvert_exporter": "python",
   "pygments_lexer": "ipython3",
   "version": "3.13.5"
  }
 },
 "nbformat": 4,
 "nbformat_minor": 5
}
