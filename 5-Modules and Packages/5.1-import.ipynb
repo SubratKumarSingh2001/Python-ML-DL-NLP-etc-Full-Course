{
 "cells": [
  {
   "cell_type": "code",
   "execution_count": null,
   "id": "c80e9cb4",
   "metadata": {},
   "outputs": [
    {
     "data": {
      "text/plain": [
       "10.770329614269007"
      ]
     },
     "execution_count": 3,
     "metadata": {},
     "output_type": "execute_result"
    }
   ],
   "source": [
    "#Import modules in python: Modules and packages \n",
    "\n",
    "#In python we can use the modules and packages to reuse and organize the code \n",
    "\n",
    "import math #here we have import the math module and can use any in-built function\n",
    "math.sqrt(14)\n",
    "math.sqrt(116)"
   ]
  },
  {
   "cell_type": "code",
   "execution_count": 6,
   "id": "72146740",
   "metadata": {},
   "outputs": [
    {
     "name": "stdout",
     "output_type": "stream",
     "text": [
      "4.0\n",
      "3.141592653589793\n"
     ]
    }
   ],
   "source": [
    "#we can also import required built-in function (when we are sure of using it) from the module \n",
    "from math import sqrt, pi\n",
    "\n",
    "#now we don't need to do math.sqrt() because we have import the specific built-in method, earlier we were having only access of parent and now we have\n",
    "#the access of that specific built-in method \n",
    "print(sqrt(16))  \n",
    "print(pi)\n"
   ]
  },
  {
   "cell_type": "code",
   "execution_count": 9,
   "id": "715490a8",
   "metadata": {},
   "outputs": [
    {
     "data": {
      "text/plain": [
       "array([1, 2, 3, 4])"
      ]
     },
     "execution_count": 9,
     "metadata": {},
     "output_type": "execute_result"
    }
   ],
   "source": [
    "import numpy as np #here np is alias means dont need to write numpy every where we use np\n",
    "np.array([1,2,3,4])"
   ]
  },
  {
   "cell_type": "code",
   "execution_count": 12,
   "id": "9094fa92",
   "metadata": {},
   "outputs": [
    {
     "name": "stdout",
     "output_type": "stream",
     "text": [
      "6.0\n",
      "9.873576911282205\n"
     ]
    }
   ],
   "source": [
    "#we can also import all the in-built methods from the module\n",
    "from math import * #math is a module(is a .py code which consists of classes, methods, variables, function etc)\n",
    "print(sqrt(36))\n",
    "print(pi*22/7)"
   ]
  },
  {
   "cell_type": "code",
   "execution_count": 2,
   "id": "eca6790a",
   "metadata": {},
   "outputs": [
    {
     "name": "stdout",
     "output_type": "stream",
     "text": [
      "34\n"
     ]
    }
   ],
   "source": [
    "#creating our custom packages \n",
    "from package.maths import addition  #I have imported a specific in-built function\n",
    "print(addition(56,90))"
   ]
  },
  {
   "cell_type": "code",
   "execution_count": 3,
   "id": "cdcd297a",
   "metadata": {},
   "outputs": [
    {
     "name": "stdout",
     "output_type": "stream",
     "text": [
      "76\n"
     ]
    }
   ],
   "source": [
    "#another way\n",
    "from package import maths\n",
    "print(maths.addition(23,99))"
   ]
  }
 ],
 "metadata": {
  "kernelspec": {
   "display_name": "myvenv",
   "language": "python",
   "name": "python3"
  },
  "language_info": {
   "codemirror_mode": {
    "name": "ipython",
    "version": 3
   },
   "file_extension": ".py",
   "mimetype": "text/x-python",
   "name": "python",
   "nbconvert_exporter": "python",
   "pygments_lexer": "ipython3",
   "version": "3.13.5"
  }
 },
 "nbformat": 4,
 "nbformat_minor": 5
}
