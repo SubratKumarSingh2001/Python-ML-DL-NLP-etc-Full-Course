{
 "cells": [
  {
   "cell_type": "code",
   "execution_count": 3,
   "id": "6cddbf55",
   "metadata": {},
   "outputs": [
    {
     "name": "stdout",
     "output_type": "stream",
     "text": [
      "Under Age\n"
     ]
    }
   ],
   "source": [
    "# Conditional Statement \n",
    "\n",
    "#if-else statement \n",
    "age = 12\n",
    "if age>8 :\n",
    "    print(\"Under Age\")\n",
    "else :\n",
    "    print(age-8)"
   ]
  },
  {
   "cell_type": "code",
   "execution_count": 5,
   "id": "00168791",
   "metadata": {},
   "outputs": [
    {
     "name": "stdout",
     "output_type": "stream",
     "text": [
      "Not eligible to vote\n"
     ]
    }
   ],
   "source": [
    "age = 12\n",
    "if age>=18 :\n",
    "    print(\"You are eligible to vote\")\n",
    "else :\n",
    "    print(\"Not eligible to vote\")"
   ]
  },
  {
   "cell_type": "code",
   "execution_count": 9,
   "id": "13eba2fd",
   "metadata": {},
   "outputs": [
    {
     "name": "stdout",
     "output_type": "stream",
     "text": [
      "You are teenager\n"
     ]
    }
   ],
   "source": [
    "#if we have multiple statements we use elif else\n",
    "\n",
    "age = 14\n",
    "if age < 10 :\n",
    "    print(\"You are a child\")\n",
    "elif (age<18) :\n",
    "    print(\"You are teenager\")\n",
    "else :\n",
    "    print(\"You are an adult\")"
   ]
  },
  {
   "cell_type": "code",
   "execution_count": 16,
   "id": "76f54eea",
   "metadata": {},
   "outputs": [
    {
     "name": "stdout",
     "output_type": "stream",
     "text": [
      "Num is a odd number\n"
     ]
    }
   ],
   "source": [
    "#nested conditional statements\n",
    "num = int(input(\"Enter the num : \"))\n",
    "if num>0 :\n",
    "    if num%2 == 0 :\n",
    "        print(\"Num is an even number\")\n",
    "    else :\n",
    "        print(\"Num is a odd number\")\n",
    "elif num == 0 :\n",
    "    print(\"Num is zero\")\n",
    "else :\n",
    "    print(\"Num is negative\")"
   ]
  },
  {
   "cell_type": "code",
   "execution_count": 27,
   "id": "f8301074",
   "metadata": {},
   "outputs": [
    {
     "name": "stdout",
     "output_type": "stream",
     "text": [
      "Year is not a leap year\n"
     ]
    }
   ],
   "source": [
    "# determine the year is leap year or not\n",
    "# a year is leap year if it is divisible by 4 and 400\n",
    "\n",
    "year = int(input(\"Enter the year ;\"))\n",
    "if year%4==0 or year%100 == 0 or year%400 ==0 :\n",
    "    print(\"Year is a leap year\")\n",
    "else :\n",
    "    print(\"Year is not a leap year\")"
   ]
  },
  {
   "cell_type": "code",
   "execution_count": 33,
   "id": "c0952614",
   "metadata": {},
   "outputs": [
    {
     "name": "stdout",
     "output_type": "stream",
     "text": [
      "5776.0\n"
     ]
    }
   ],
   "source": [
    "#Simple Calculator which take operation from user \n",
    "num1 = float(input(\"Enter the num1 :\"))\n",
    "num2 = float(input(\"Enter the num2 :\"))\n",
    "operation = input(\"Enter the operation (+,-,*,/) : \")\n",
    "\n",
    "if operation == \"+\" :\n",
    "    print(num1 + num2)\n",
    "elif operation == \"-\" :\n",
    "    if(num1 > num2) :\n",
    "        print(num1 - num2)\n",
    "    else :\n",
    "        print(num2 - num1)\n",
    "elif operation == \"*\" :\n",
    "    print(num1 * num2)\n",
    "elif operation == \"/\" :\n",
    "    if num2 != 0 :\n",
    "        print(num1 / num2)\n",
    "    else :\n",
    "        print(\"Division is not possible as num2 is 0 and denominator cant be 0\")"
   ]
  },
  {
   "cell_type": "code",
   "execution_count": 37,
   "id": "8a0831b5",
   "metadata": {},
   "outputs": [
    {
     "name": "stdout",
     "output_type": "stream",
     "text": [
      "The price of the ticket is :  Rs 999\n"
     ]
    }
   ],
   "source": [
    "#Determine the ticket price based on the age and whether the person is student\n",
    "age = int(input(\"Enter the age : \"))\n",
    "price = None\n",
    "is_Student = False\n",
    "\n",
    "if age < 5 : \n",
    "    price = \"Rs 5\"\n",
    "elif age < 15 :\n",
    "    price = \"Rs 200\"\n",
    "elif age < 25 and is_Student :\n",
    "    price = \"Rs 599\"\n",
    "elif age < 56 and is_Student :\n",
    "    price = \"Rs 899\"\n",
    "else : \n",
    "    price = \"Rs 999\"\n",
    "\n",
    "print(\"The price of the ticket is : \", price)\n"
   ]
  }
 ],
 "metadata": {
  "kernelspec": {
   "display_name": "myvenv",
   "language": "python",
   "name": "python3"
  },
  "language_info": {
   "codemirror_mode": {
    "name": "ipython",
    "version": 3
   },
   "file_extension": ".py",
   "mimetype": "text/x-python",
   "name": "python",
   "nbconvert_exporter": "python",
   "pygments_lexer": "ipython3",
   "version": "3.13.5"
  }
 },
 "nbformat": 4,
 "nbformat_minor": 5
}
