{
 "cells": [
  {
   "cell_type": "code",
   "execution_count": 7,
   "id": "991599bc",
   "metadata": {},
   "outputs": [
    {
     "name": "stdout",
     "output_type": "stream",
     "text": [
      "0 1 2 3 4 5 6 7 8 9 "
     ]
    }
   ],
   "source": [
    "#In this we will study about loops \n",
    "\n",
    "#for loop\n",
    "for i in range(0,10) :\n",
    "    print(i, end=\" \")"
   ]
  },
  {
   "cell_type": "code",
   "execution_count": 18,
   "id": "72b5e110",
   "metadata": {},
   "outputs": [
    {
     "name": "stdout",
     "output_type": "stream",
     "text": [
      "0 2 4 6 8 \n",
      "10 8 6 4 2 "
     ]
    }
   ],
   "source": [
    "#using the step size \n",
    "for i in range(0, 10, 2) :\n",
    "    print(i, end=\" \") \n",
    "\n",
    "print()\n",
    "\n",
    "for i in range(10,0,-2) :\n",
    "    print(i, end=\" \")"
   ]
  },
  {
   "cell_type": "code",
   "execution_count": 21,
   "id": "fd5c1a33",
   "metadata": {},
   "outputs": [
    {
     "name": "stdout",
     "output_type": "stream",
     "text": [
      "S u b r a t "
     ]
    }
   ],
   "source": [
    "# for loop in strings\n",
    "for i in \"Subrat\" :\n",
    "    print(i, end=\" \")"
   ]
  },
  {
   "cell_type": "code",
   "execution_count": 24,
   "id": "de3badf3",
   "metadata": {},
   "outputs": [
    {
     "name": "stdout",
     "output_type": "stream",
     "text": [
      "0 1 2 3 4 "
     ]
    }
   ],
   "source": [
    "#while loop\n",
    "cnt = 0\n",
    "while cnt<5 : \n",
    "    print(cnt, end=\" \") \n",
    "    cnt += 1\n"
   ]
  },
  {
   "cell_type": "code",
   "execution_count": 27,
   "id": "785c164c",
   "metadata": {},
   "outputs": [
    {
     "name": "stdout",
     "output_type": "stream",
     "text": [
      "0 1 2 3 4 "
     ]
    }
   ],
   "source": [
    "#jump statements in python\n",
    "\n",
    "#break: to come out of the closet loop\n",
    "for i in range(0,10) :\n",
    "    if(i == 5) :\n",
    "        break\n",
    "    print(i, end=\" \")\n"
   ]
  },
  {
   "cell_type": "code",
   "execution_count": null,
   "id": "029d8b05",
   "metadata": {},
   "outputs": [
    {
     "name": "stdout",
     "output_type": "stream",
     "text": [
      "1 3 5 7 9 "
     ]
    }
   ],
   "source": [
    "#continue: used to skip the iteration means the code part below continue will not be executed\n",
    "for i in range(10) :\n",
    "    if i%2 == 0: \n",
    "        continue\n",
    "    print(i, end=\" \")"
   ]
  },
  {
   "cell_type": "code",
   "execution_count": 31,
   "id": "6fe18358",
   "metadata": {},
   "outputs": [
    {
     "name": "stdout",
     "output_type": "stream",
     "text": [
      "0 1 2 3 4 5 6 7 8 9 "
     ]
    }
   ],
   "source": [
    "#pass: is a null operation, it does nothing or we can say to skip the iteration means below pass whatever code written will be executed \n",
    "for i in range(10) :\n",
    "    if i%2 == 0 :\n",
    "        pass\n",
    "    print(i, end= \" \")"
   ]
  },
  {
   "cell_type": "code",
   "execution_count": 37,
   "id": "8f70c200",
   "metadata": {},
   "outputs": [
    {
     "name": "stdout",
     "output_type": "stream",
     "text": [
      "i: 0 and j: 0\n",
      "i: 0 and j: 1\n",
      "i: 1 and j: 0\n",
      "i: 1 and j: 1\n",
      "i: 2 and j: 0\n",
      "i: 2 and j: 1\n",
      "i: 3 and j: 0\n",
      "i: 3 and j: 1\n"
     ]
    }
   ],
   "source": [
    "#nested loops\n",
    "\n",
    "for i in range(4) :\n",
    "    for j in range(2) :\n",
    "        print(f\"i: {i} and j: {j}\")"
   ]
  },
  {
   "cell_type": "code",
   "execution_count": 43,
   "id": "8273949b",
   "metadata": {},
   "outputs": [
    {
     "name": "stdout",
     "output_type": "stream",
     "text": [
      "The sum of 7 natural number is :  28\n"
     ]
    }
   ],
   "source": [
    "#Calculate the sum of first n natural number using for and while loop\n",
    "\n",
    "#for loop\n",
    "num = int(input(\"Enter the num : \"))\n",
    "sum = 0\n",
    "for i in range (num+1) :\n",
    "    sum += i\n",
    "print(f\"The sum of {num} natural number is : \", sum)"
   ]
  },
  {
   "cell_type": "code",
   "execution_count": 47,
   "id": "d4abacda",
   "metadata": {},
   "outputs": [
    {
     "name": "stdout",
     "output_type": "stream",
     "text": [
      "The sum of 8 natural number is :  36\n"
     ]
    }
   ],
   "source": [
    "#using while loop\n",
    "num = int(input(\"Enter the num : \"))\n",
    "sum = 0\n",
    "i=0\n",
    "while i<=num :\n",
    "    sum += i\n",
    "    i += 1\n",
    "print(f\"The sum of {num} natural number is : \", sum)"
   ]
  },
  {
   "cell_type": "code",
   "execution_count": null,
   "id": "cb4d8f70",
   "metadata": {},
   "outputs": [
    {
     "name": "stdout",
     "output_type": "stream",
     "text": [
      "2 3 5 7 11 13 17 19 "
     ]
    }
   ],
   "source": [
    "#display prime number between 0 and 100\n",
    "for i in range(0,20) :\n",
    "    if i==0 or i==1 :\n",
    "        continue\n",
    "    else :\n",
    "        #when for execute completely then only else part will be executed if it breaks means not a prime for any value, then check for other values\n",
    "        for j in range(2,i) :\n",
    "            if i%j == 0 :\n",
    "                break\n",
    "        else : \n",
    "            print(i, end=\" \")\n",
    "        "
   ]
  },
  {
   "cell_type": "code",
   "execution_count": null,
   "id": "d6acfb0d",
   "metadata": {},
   "outputs": [
    {
     "name": "stdout",
     "output_type": "stream",
     "text": [
      "Target not found!\n"
     ]
    }
   ],
   "source": [
    "'''\n",
    "we can use the else statement with for and while loops else part only get executed when the for and while loop completely executed and if \n",
    "either of dont complete the whole execution it comes out of the closed most loop and else part is not executed\n",
    "\n",
    "'''\n",
    "n = 10\n",
    "target = 11\n",
    "\n",
    "while n > 0:\n",
    "    if n == target:\n",
    "        print(\"Target found!\")\n",
    "        break\n",
    "    n -= 1\n",
    "else:\n",
    "    print(\"Target not found!\")\n"
   ]
  }
 ],
 "metadata": {
  "kernelspec": {
   "display_name": "myvenv",
   "language": "python",
   "name": "python3"
  },
  "language_info": {
   "codemirror_mode": {
    "name": "ipython",
    "version": 3
   },
   "file_extension": ".py",
   "mimetype": "text/x-python",
   "name": "python",
   "nbconvert_exporter": "python",
   "pygments_lexer": "ipython3",
   "version": "3.13.5"
  }
 },
 "nbformat": 4,
 "nbformat_minor": 5
}
