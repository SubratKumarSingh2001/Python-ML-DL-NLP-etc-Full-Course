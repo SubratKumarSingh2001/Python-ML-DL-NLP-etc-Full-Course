{
 "cells": [
  {
   "cell_type": "code",
   "execution_count": 2,
   "id": "49924457",
   "metadata": {},
   "outputs": [
    {
     "name": "stdout",
     "output_type": "stream",
     "text": [
      "The person is going to drive the petrol car\n"
     ]
    }
   ],
   "source": [
    "#Inheritance is the fundamental of the OOPs language, It is used to inherit the attribute and methods from the base class or another class\n",
    "#It is used to increase the readability and reusability of the code \n",
    "\n",
    "class Car :\n",
    "    def __init__(self, windows, doors, engineType) :\n",
    "        self.windows = windows\n",
    "        self.doors = doors\n",
    "        self.engineType = engineType\n",
    "    \n",
    "    def drive(self) :\n",
    "        print(f\"The person is going to drive the {self.engineType} car\")\n",
    "    \n",
    "\n",
    "car1 = Car(4, 5, 'petrol')\n",
    "car1.drive()        "
   ]
  },
  {
   "cell_type": "code",
   "execution_count": 8,
   "id": "6f7484ea",
   "metadata": {},
   "outputs": [
    {
     "name": "stdout",
     "output_type": "stream",
     "text": [
      "The supports self driving : True\n",
      "The person is going to drive the electric car\n"
     ]
    }
   ],
   "source": [
    "#Suppose we want to inherit from the parent class\n",
    "#Single Inheritance \n",
    "class Tesla(Car) : #Syntax of inheriting the parent class\n",
    "    def __init__(self, windows, doors, engineType, isSelfDrive) :\n",
    "        #now we want to inherit the attribute from parents class, so that I dont need to initialise it again.\n",
    "        #Using this we have inherited all the instance methods too\n",
    "        super().__init__(windows, doors, engineType) #now this will call the parents class instance variables where we have define this all\n",
    "        self.isSelfDrive = isSelfDrive\n",
    "    \n",
    "    def selfDriving(self) :\n",
    "        print(f\"The supports self driving : {self.isSelfDrive}\")\n",
    "\n",
    "tesla1 = Tesla(4,5,'electric',True)\n",
    "tesla1.selfDriving()\n",
    "tesla1.drive()\n",
    "        \n",
    "        "
   ]
  },
  {
   "cell_type": "code",
   "execution_count": null,
   "id": "930f955d",
   "metadata": {},
   "outputs": [
    {
     "name": "stdout",
     "output_type": "stream",
     "text": [
      "The age of Sheru is : 12\n",
      "Sheru says woof\n",
      "Sheru Raj\n",
      "The owner name is : Raj\n"
     ]
    },
    {
     "data": {
      "text/plain": [
       "'Sheru says woof'"
      ]
     },
     "execution_count": 23,
     "metadata": {},
     "output_type": "execute_result"
    }
   ],
   "source": [
    "#Multiple Inheritance :when a class inherits from one or more base class\n",
    "#Base Class:1\n",
    "class Animal :\n",
    "    def __init__(self, name):\n",
    "        self.name = name\n",
    "\n",
    "    def speak(self) :\n",
    "        print(\"Subclass must implement this method\")\n",
    "\n",
    "#Base Class:2\n",
    "class Pet :\n",
    "    def __init__(self, owner):\n",
    "        self.owner = owner\n",
    "    \n",
    "    def petName(self) :\n",
    "        print(f\"The owner name is : {self.owner}\")\n",
    "\n",
    "#Derived Class\n",
    "class Dog(Animal, Pet) : #Multiple inheritance \n",
    "    def __init__(self, name, owner, age):\n",
    "        #if there is one parent class then it was easy to use the super() to inherit the properties\n",
    "        #here we will use class name and constructor Animal.__init() so on\n",
    "        Animal.__init__(self,name) #this will also inherit the instance methods\n",
    "        Pet.__init__(self, owner) #this will also inherit the instance methods\n",
    "        self.age = age\n",
    "    \n",
    "    def speak(self) :\n",
    "        return f\"{self.name} says woof\"\n",
    "    \n",
    "    \n",
    "    def dogAge(self) :\n",
    "        return f\"The age of {self.name} is : {self.age}\"\n",
    "    \n",
    "\n",
    "dog1 = Dog('Sheru', 'Raj', 12)\n",
    "print(dog1.dogAge())\n",
    "print(dog1.speak())\n",
    "print(dog1.name, dog1.owner)\n",
    "dog1.petName()\n",
    "dog1.speak() #it will print the Dog class speak() method overriding"
   ]
  }
 ],
 "metadata": {
  "kernelspec": {
   "display_name": "myvenv",
   "language": "python",
   "name": "python3"
  },
  "language_info": {
   "codemirror_mode": {
    "name": "ipython",
    "version": 3
   },
   "file_extension": ".py",
   "mimetype": "text/x-python",
   "name": "python",
   "nbconvert_exporter": "python",
   "pygments_lexer": "ipython3",
   "version": "3.13.5"
  }
 },
 "nbformat": 4,
 "nbformat_minor": 5
}
