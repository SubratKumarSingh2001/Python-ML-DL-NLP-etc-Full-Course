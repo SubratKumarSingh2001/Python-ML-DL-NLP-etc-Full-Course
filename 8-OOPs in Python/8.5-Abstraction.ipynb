{
 "cells": [
  {
   "cell_type": "code",
   "execution_count": 1,
   "id": "2be51a4f",
   "metadata": {},
   "outputs": [],
   "source": [
    "# Abstraction : It is also a important fundamental concept of OOPs which is used to hide the important complex implementation details and displaying \n",
    "# the essential functionalities to the user\n",
    "\n",
    "#In short the 4 pillars of the OOPs is nothing, as they all are abstraction as we are is some way trying to hide the complex implementation "
   ]
  },
  {
   "cell_type": "code",
   "execution_count": 6,
   "id": "f418c8ba",
   "metadata": {},
   "outputs": [
    {
     "name": "stdout",
     "output_type": "stream",
     "text": [
      "Car engine started\n"
     ]
    }
   ],
   "source": [
    "from abc import ABC, abstractmethod\n",
    "\n",
    "#Abstract base class\n",
    "class Vehicle(ABC) :\n",
    "    def drive(self) :\n",
    "        print(\"The vehicle is used for writing\")\n",
    "    \n",
    "    @abstractmethod #method is initially empty and it is necessary for the subclass inheriting the abstract class must implement this abstract method\n",
    "    def start_engine(self) :\n",
    "        pass\n",
    "\n",
    "class Car(Vehicle) :\n",
    "    def start_engine(self):\n",
    "        print(\"Car engine started\")\n",
    "\n",
    "def operate_vehicle(vehicle) :\n",
    "    vehicle.start_engine()\n",
    "\n",
    "car = Car()\n",
    "operate_vehicle(car)\n",
    "\n",
    "#this will give error as Vehicle is an abstract class and contain at least one abstract method whose implementation is needed\n",
    "# vehicle = Vehicle()\n",
    "# print(vehicle.drive())\n"
   ]
  }
 ],
 "metadata": {
  "kernelspec": {
   "display_name": "myvenv",
   "language": "python",
   "name": "python3"
  },
  "language_info": {
   "codemirror_mode": {
    "name": "ipython",
    "version": 3
   },
   "file_extension": ".py",
   "mimetype": "text/x-python",
   "name": "python",
   "nbconvert_exporter": "python",
   "pygments_lexer": "ipython3",
   "version": "3.13.5"
  }
 },
 "nbformat": 4,
 "nbformat_minor": 5
}
