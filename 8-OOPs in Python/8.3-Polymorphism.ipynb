{
 "cells": [
  {
   "cell_type": "code",
   "execution_count": 10,
   "id": "83b22184",
   "metadata": {},
   "outputs": [
    {
     "name": "stdout",
     "output_type": "stream",
     "text": [
      "Sound of Dog is bhaw bhaw bhaw\n",
      "Sound of the animal\n",
      "Cat says meow\n",
      "Sound of Dog is bhaw bhaw bhaw\n",
      "Cat says meow\n",
      "Sound of the animal\n"
     ]
    }
   ],
   "source": [
    "#Polymorphism : Poly means many and morphism means forms means a method which is present in different forms. It helps in providing a way to perform a \n",
    "#single action in multiple forms \n",
    "\n",
    "#Method Overriding : It allows the child class to add specific implementation to a method that is already present in the parent class\n",
    "\n",
    "#Base Class\n",
    "class Animal : \n",
    "    def speak(self) :\n",
    "        return \"Sound of the animal\"\n",
    "\n",
    "class Dog(Animal) :\n",
    "    def speak(self):\n",
    "        #This we are inheriting the method speak() from single parent class so thats why we have used super()\n",
    "        #return super().speak() \n",
    "        return \"Sound of Dog is bhaw bhaw bhaw\" #method overriding \n",
    "\n",
    "class Cat(Animal) :\n",
    "    def speak(self):\n",
    "        return \"Cat says meow\"\n",
    "    \n",
    "def animal_speak(animal) : #animal is object passed as parameters and which class object created accordingly that class we will call speak() method\n",
    "    print(animal.speak())\n",
    "    \n",
    "\n",
    "dog = Dog() #derived class object \n",
    "print(dog.speak())\n",
    "animal = Animal() #parent class object\n",
    "print(animal.speak())\n",
    "cat = Cat()\n",
    "print(cat.speak())\n",
    "\n",
    "#function polymorphism\n",
    "animal_speak(dog) #here dog in an object of class Dog so Dog class method speak() will be called \n",
    "animal_speak(cat)\n",
    "animal_speak(animal)"
   ]
  },
  {
   "cell_type": "code",
   "execution_count": 15,
   "id": "8596d57c",
   "metadata": {},
   "outputs": [
    {
     "name": "stdout",
     "output_type": "stream",
     "text": [
      "The area of rectangle is : 120\n",
      "The area of circle is : 301.5656\n"
     ]
    }
   ],
   "source": [
    "#Polymorphism functions and methods\n",
    "#Base Class\n",
    "class Shape :\n",
    "    def area(self) :\n",
    "        return \"The area of the figure\"\n",
    "\n",
    "#Derived Class\n",
    "class Rectangle(Shape) :\n",
    "    def __init__(self, length, breadth) :\n",
    "        self.length = length\n",
    "        self.breadth = breadth\n",
    "    \n",
    "    def area(self) :\n",
    "        return self.length * self.breadth\n",
    "    \n",
    "class Circle(Shape) :\n",
    "    def __init__(self, radius):\n",
    "        self.radius = radius\n",
    "    \n",
    "    def area(self) :\n",
    "        return 3.14 * self.radius * self.radius\n",
    "    \n",
    "#Function that demonstrate the polymorphism\n",
    "#Instead of calling the method which is same in all the class, we can create a function we can call it and pass object as parameter and call that class overriding method\n",
    "def display_area(shape) :\n",
    "    return shape.area()\n",
    "\n",
    "rectangle = Rectangle(10,12)\n",
    "print(f\"The area of rectangle is : {display_area(rectangle)}\")\n",
    "\n",
    "circle = Circle(9.8)\n",
    "print(f\"The area of circle is : {display_area(circle)}\")\n"
   ]
  },
  {
   "cell_type": "code",
   "execution_count": null,
   "id": "a08809fd",
   "metadata": {},
   "outputs": [
    {
     "name": "stdout",
     "output_type": "stream",
     "text": [
      "Car engine Started\n",
      "None\n"
     ]
    }
   ],
   "source": [
    "#Polymorphism Abstract Base Class (IMPORTANT)\n",
    "'''To use the abstract class we need to import a module named abc in which ABC is a special base class used to create the abstract classes if any \n",
    "class inherit the ABC base class than that class is a base class and @abstractmethod is used to tell this method is an abstract method it implementation\n",
    "must be written in the derived class'''\n",
    "\n",
    "#If there are one or more abstract methods in class , then we cannot      hyyyy create the instance of that class\n",
    "from abc import ABC, abstractmethod\n",
    "\n",
    "class Vehicle(ABC) : #now Vehicle inherits the ABC base class, therefore the Vehicle is now a abstract class\n",
    "    @abstractmethod #decorators\n",
    "    def start_engine(self) :\n",
    "        pass\n",
    "\n",
    "class Car(Vehicle) :\n",
    "    def start_engine(self) :\n",
    "        return \"Car engine Started\"\n",
    "\n",
    "class Bike(Vehicle) :\n",
    "    def start_engine(self) :\n",
    "        return \"Bike engine started\"\n",
    "\n",
    "#Function to demonstrate the polymorphism\n",
    "def start_vehicle(vehicle) :\n",
    "    print(vehicle.start_engine())\n",
    "\n",
    "car = Car()\n",
    "print(start_vehicle(car))        \n",
    "        \n"
   ]
  }
 ],
 "metadata": {
  "kernelspec": {
   "display_name": "myvenv",
   "language": "python",
   "name": "python3"
  },
  "language_info": {
   "codemirror_mode": {
    "name": "ipython",
    "version": 3
   },
   "file_extension": ".py",
   "mimetype": "text/x-python",
   "name": "python",
   "nbconvert_exporter": "python",
   "pygments_lexer": "ipython3",
   "version": "3.13.5"
  }
 },
 "nbformat": 4,
 "nbformat_minor": 5
}
