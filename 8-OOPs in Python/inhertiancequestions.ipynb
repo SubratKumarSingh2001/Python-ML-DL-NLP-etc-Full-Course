{
 "cells": [
  {
   "cell_type": "markdown",
   "id": "aeecace3",
   "metadata": {},
   "source": [
    "### Assignment 1: Single Inheritance Basic\n",
    "\n",
    "Create a base class named `Animal` with attributes `name` and `species`. Create a derived class named `Dog` that inherits from `Animal` and adds an attribute `breed`. Create an object of the `Dog` class and print its attributes."
   ]
  },
  {
   "cell_type": "code",
   "execution_count": null,
   "id": "b2254024",
   "metadata": {},
   "outputs": [
    {
     "name": "stdout",
     "output_type": "stream",
     "text": [
      "sheru bulldog german-herphered\n"
     ]
    }
   ],
   "source": [
    "class Animal :\n",
    "    def __init__(self, name, species) :\n",
    "        self.name = name \n",
    "        self.species = species \n",
    "\n",
    "class Dog(Animal) :\n",
    "    def __init__(self, name, species, breed) :\n",
    "        super().__init__(name, species) \n",
    "        self.breed = breed\n",
    "    \n",
    "dog = Dog('sheru', 'bulldog', 'german-herphered')\n",
    "print(dog.name, dog.species, dog.breed)\n",
    "        "
   ]
  },
  {
   "cell_type": "markdown",
   "id": "322b5797",
   "metadata": {},
   "source": [
    "### Assignment 2: Method Overriding in Single Inheritance\n",
    "\n",
    "In the `Dog` class, override the `__str__` method to return a string representation of the object. Create an object of the class and print it."
   ]
  },
  {
   "cell_type": "code",
   "execution_count": 5,
   "id": "b82bbff8",
   "metadata": {},
   "outputs": [
    {
     "name": "stdout",
     "output_type": "stream",
     "text": [
      "Dog(sheru,bulldog,german-herphered)\n"
     ]
    }
   ],
   "source": [
    "class Dog(Animal) :\n",
    "    def __init__(self, name, species, breed) :\n",
    "        super().__init__(name, species) \n",
    "        self.breed = breed\n",
    "\n",
    "    def __str__(self) :\n",
    "        return f\"Dog({self.name},{self.species},{self.breed})\"\n",
    "\n",
    "dog = Dog('sheru', 'bulldog', 'german-herphered')\n",
    "print(dog) #string representation of an object "
   ]
  },
  {
   "cell_type": "markdown",
   "id": "ec103a57",
   "metadata": {},
   "source": [
    "### Assignment 3: Single Inheritance with Additional Methods\n",
    "\n",
    "In the `Dog` class, add a method named `bark` that prints a barking sound. Create an object of the class and call the method."
   ]
  },
  {
   "cell_type": "code",
   "execution_count": 7,
   "id": "25deb08a",
   "metadata": {},
   "outputs": [
    {
     "data": {
      "text/plain": [
       "'sheru is barking'"
      ]
     },
     "execution_count": 7,
     "metadata": {},
     "output_type": "execute_result"
    }
   ],
   "source": [
    "class Dog(Animal) :\n",
    "    def __init__(self, name, species, breed) :\n",
    "        super().__init__(name, species) \n",
    "        self.breed = breed\n",
    "\n",
    "    def bark(self) :\n",
    "        return f\"{self.name} is barking\"\n",
    "\n",
    "dog = Dog('sheru', 'bulldog', 'german-herphered')\n",
    "dog.bark()"
   ]
  },
  {
   "cell_type": "markdown",
   "id": "8e771ea2",
   "metadata": {},
   "source": [
    "### Assignment 4: Multiple Inheritance Basic\n",
    "\n",
    "Create a base class named `Walker` with a method `walk` that prints a walking message. Create another base class named `Runner` with a method `run` that prints a running message. Create a derived class named `Athlete` that inherits from both `Walker` and `Runner`. Create an object of the `Athlete` class and call both methods."
   ]
  },
  {
   "cell_type": "code",
   "execution_count": 11,
   "id": "6f977135",
   "metadata": {},
   "outputs": [
    {
     "name": "stdout",
     "output_type": "stream",
     "text": [
      "Runner is running\n",
      "Walker is walking\n"
     ]
    }
   ],
   "source": [
    "class Walker :\n",
    "    def walk(self) :\n",
    "        print(\"Walker is walking\")\n",
    "\n",
    "class Runner :\n",
    "    def run(self) :\n",
    "        print(\"Runner is running\")\n",
    "\n",
    "class Athlete(Walker, Runner) :\n",
    "    pass \n",
    "\n",
    "athlete = Athlete() \n",
    "athlete.run()\n",
    "athlete.walk()"
   ]
  },
  {
   "cell_type": "markdown",
   "id": "9fdb22b4",
   "metadata": {},
   "source": [
    "### Assignment 5: Method Resolution Order (MRO) in Multiple Inheritance\n",
    "\n",
    "In the `Athlete` class, override the `walk` method to print a different message. Create an object of the class and call the `walk` method. Use the `super()` function to call the `walk` method of the `Walker` class.\n"
   ]
  },
  {
   "cell_type": "code",
   "execution_count": 20,
   "id": "5534d0f1",
   "metadata": {},
   "outputs": [
    {
     "name": "stdout",
     "output_type": "stream",
     "text": [
      "Athlete walking..\n",
      "Walker is walking\n"
     ]
    }
   ],
   "source": [
    "class Athlete(Walker, Runner) :\n",
    "    def walk(self) :\n",
    "        print(\"Athlete walking..\")\n",
    "        super().walk()\n",
    "\n",
    "athlete = Athlete()\n",
    "athlete.walk()"
   ]
  },
  {
   "cell_type": "markdown",
   "id": "69ca1d6c",
   "metadata": {},
   "source": [
    "### Assignment 6: Multiple Inheritance with Additional Attributes\n",
    "\n",
    "In the `Athlete` class, add an attribute `training_hours` and a method `train` that prints the training hours. Create an object of the class and call the method."
   ]
  },
  {
   "cell_type": "code",
   "execution_count": 23,
   "id": "d8b914f1",
   "metadata": {},
   "outputs": [
    {
     "name": "stdout",
     "output_type": "stream",
     "text": [
      "The training hours of an athlete is : 34.89\n"
     ]
    }
   ],
   "source": [
    "class Athlete(Walker, Runner) :\n",
    "    def __init__(self, training_hours) :\n",
    "        self.training_hours = training_hours\n",
    "\n",
    "    def train(self) :\n",
    "        print(f\"The training hours of an athlete is : {self.training_hours}\")\n",
    "\n",
    "athlete = Athlete(34.89)\n",
    "athlete.train() "
   ]
  },
  {
   "cell_type": "markdown",
   "id": "113c0979",
   "metadata": {},
   "source": [
    "### Assignment 7: Diamond Problem in Multiple Inheritance\n",
    "\n",
    "Create a class named `A` with a method `show` that prints a message. Create two derived classes `B` and `C` that inherit from `A` and override the `show` method. Create a class `D` that inherits from both `B` and `C`. Create an object of the `D` class and call the `show` method. Observe the method resolution order."
   ]
  },
  {
   "cell_type": "code",
   "execution_count": 25,
   "id": "c1a0e3bf",
   "metadata": {},
   "outputs": [
    {
     "name": "stdout",
     "output_type": "stream",
     "text": [
      "You are inside the class B\n",
      "None\n"
     ]
    }
   ],
   "source": [
    "class A :\n",
    "    def show(self) :\n",
    "        print(\"You are inside the class A\")\n",
    "\n",
    "class B(A) :\n",
    "    def show(self) :\n",
    "        print(\"You are inside the class B\")\n",
    "\n",
    "class C(A) :\n",
    "    def show(self) :\n",
    "        print(\"You are inside the class C\")\n",
    "\n",
    "class D(B, C) :\n",
    "    pass \n",
    "\n",
    "d = D()\n",
    "print(d.show())"
   ]
  },
  {
   "cell_type": "markdown",
   "id": "5636a706",
   "metadata": {},
   "source": [
    "### Assignment 8: Using `super()` in Single Inheritance\n",
    "\n",
    "Create a base class named `Shape` with an attribute `color`. Create a derived class named `Circle` that inherits from `Shape` and adds an  attribute `radius`. Use the `super()` function to initialize the attributes. Create an object of the `Circle` class and print its attributes."
   ]
  },
  {
   "cell_type": "code",
   "execution_count": 28,
   "id": "b4ee380b",
   "metadata": {},
   "outputs": [
    {
     "name": "stdout",
     "output_type": "stream",
     "text": [
      "red\n",
      "3.15\n"
     ]
    }
   ],
   "source": [
    "class Shape :\n",
    "    def __init__(self, color) :\n",
    "        self.color = color\n",
    "\n",
    "class Circle(Shape) :\n",
    "    def __init__(self, color, radius) :\n",
    "        super().__init__(color)\n",
    "        self.radius = radius\n",
    "\n",
    "circle = Circle('red', 3.15)\n",
    "print(circle.color)\n",
    "print(circle.radius)"
   ]
  },
  {
   "cell_type": "markdown",
   "id": "0dc5d529",
   "metadata": {},
   "source": [
    "### Assignment 9: Using `super()` in Multiple Inheritance\n",
    "\n",
    "Create a class named `Person` with an attribute `name`. Create a class named `Employee` with an attribute `employee_id`. Create a derived class `Manager` that inherits from both `Person` and `Employee`. Use the `super()` function to initialize the attributes. Create an object of the `Manager` class and print its attributes.\n"
   ]
  },
  {
   "cell_type": "code",
   "execution_count": 34,
   "id": "85b81659",
   "metadata": {},
   "outputs": [
    {
     "name": "stdout",
     "output_type": "stream",
     "text": [
      "subrat 12345\n"
     ]
    }
   ],
   "source": [
    "class Person :\n",
    "    def __init__(self, name) :\n",
    "        self.name = name\n",
    "\n",
    "class Employee() :\n",
    "    def __init__(self, employee_id) :\n",
    "        self.employee_id = employee_id\n",
    "\n",
    "class Manager(Person, Employee) :\n",
    "    def __init__(self, name, employee_id) :\n",
    "        super().__init__(name) #super() will consider the first Base class written inside the parameter of inheriting the base classes\n",
    "        Employee.__init__(self, employee_id)\n",
    "\n",
    "manager = Manager('subrat', 12345)\n",
    "print(manager.name, manager.employee_id)\n"
   ]
  },
  {
   "cell_type": "markdown",
   "id": "441468a6",
   "metadata": {},
   "source": [
    "### Assignment 10: Method Overriding and `super()`\n",
    "\n",
    "Create a class named `Vehicle` with a method `start` that prints a starting message. Create a derived class `Car` that overrides the `start` method to print a different message. Use the `super()` function to call the `start` method of the `Vehicle` class. Create an object of the `Car` class and call the `start` method."
   ]
  },
  {
   "cell_type": "code",
   "execution_count": 39,
   "id": "e3c83848",
   "metadata": {},
   "outputs": [
    {
     "name": "stdout",
     "output_type": "stream",
     "text": [
      "We are driving the car\n",
      "Vehicle is starting\n"
     ]
    }
   ],
   "source": [
    "class Vehicle :\n",
    "    def start(self) :\n",
    "        print(\"Vehicle is starting\")\n",
    "\n",
    "class Car(Vehicle) :\n",
    "    def start(self) :\n",
    "        print(\"We are driving the car\")\n",
    "        super().start()\n",
    "\n",
    "car = Car()\n",
    "car.start()"
   ]
  },
  {
   "cell_type": "markdown",
   "id": "7689d430",
   "metadata": {},
   "source": [
    "### Assignment 11: Multiple Inheritance with Different Methods\n",
    "\n",
    "Create a class named `Flyer` with a method `fly` that prints a flying message. Create a class named `Swimmer` with a method `swim` that prints a swimming message. Create a derived class `Superhero` that inherits from both `Flyer` and `Swimmer`. Create an object of the `Superhero` class and call both methods."
   ]
  },
  {
   "cell_type": "code",
   "execution_count": 41,
   "id": "fb065f43",
   "metadata": {},
   "outputs": [
    {
     "name": "stdout",
     "output_type": "stream",
     "text": [
      "Flying....\n",
      "Swimming...\n"
     ]
    }
   ],
   "source": [
    "class Flyer :\n",
    "    def fly(self) :\n",
    "        print(\"Flying....\")\n",
    "    \n",
    "class Swimmer :\n",
    "    def swim(self) :\n",
    "        print(\"Swimming...\")\n",
    "\n",
    "class Superhero(Flyer, Swimmer) :\n",
    "    pass\n",
    "\n",
    "hero = Superhero()\n",
    "hero.fly()\n",
    "hero.swim()"
   ]
  },
  {
   "cell_type": "markdown",
   "id": "9db435f0",
   "metadata": {},
   "source": [
    "### Assignment 12: Complex Multiple Inheritance\n",
    "\n",
    "Create a class named `Base1` with an attribute `a`. Create a class named `Base2` with an attribute `b`. Create a class named `Derived` that inherits from both `Base1` and `Base2` and adds an attribute `c`. Initialize all attributes using the `super()` function. Create an object of the `Derived` class and print its attributes."
   ]
  },
  {
   "cell_type": "code",
   "execution_count": 45,
   "id": "e68da4dc",
   "metadata": {},
   "outputs": [
    {
     "name": "stdout",
     "output_type": "stream",
     "text": [
      "1 2 3\n"
     ]
    }
   ],
   "source": [
    "class Base1 :\n",
    "    def __init__(self, a) :\n",
    "        self.a = a\n",
    "    \n",
    "class Base2 :\n",
    "    def __init__(self, b) :\n",
    "        self.b = b\n",
    "\n",
    "class Derived(Base1, Base2) :\n",
    "    def __init__(self, a, b, c) :\n",
    "        super().__init__(a) #same it will consider the first class in the parameter as a base class \n",
    "        Base2.__init__(self, b)\n",
    "        self.c = c\n",
    "\n",
    "derived = Derived(1,2,3) \n",
    "print(derived.a, derived.b, derived.c)"
   ]
  },
  {
   "cell_type": "markdown",
   "id": "28d4f1f5",
   "metadata": {},
   "source": [
    "### Assignment 13: Checking Instance Types with Inheritance\n",
    "\n",
    "Create a base class named `Animal` and a derived class named `Cat`. Create objects of both classes and use the `isinstance` function to check the instance types."
   ]
  },
  {
   "cell_type": "code",
   "execution_count": 54,
   "id": "99a0d7c1",
   "metadata": {},
   "outputs": [
    {
     "name": "stdout",
     "output_type": "stream",
     "text": [
      "True\n",
      "False\n",
      "True\n"
     ]
    }
   ],
   "source": [
    "class Animal :\n",
    "    pass\n",
    "\n",
    "class Cat :\n",
    "    pass\n",
    "\n",
    "animal = Animal()\n",
    "cat = Cat()\n",
    "print(isinstance(cat, Cat)) #isinstance check whether that the object created is whether it is instance of class of not means the object belongs to that class or not\n",
    "print(isinstance(cat, Animal)) #as the cat instance of the class Cat() not Animal(), thats why it is giving false \n",
    "print(isinstance(animal, Animal))"
   ]
  },
  {
   "cell_type": "markdown",
   "id": "5dcb7796",
   "metadata": {},
   "source": [
    "### Assignment 14: Polymorphism with Inheritance\n",
    "\n",
    "Create a base class named `Bird` with a method `speak`. Create two derived classes `Parrot` and `Penguin` that override the `speak` method. Create a list of `Bird` objects and call the `speak` method on each object to demonstrate polymorphism."
   ]
  },
  {
   "cell_type": "code",
   "execution_count": 58,
   "id": "3a3f82d4",
   "metadata": {},
   "outputs": [
    {
     "name": "stdout",
     "output_type": "stream",
     "text": [
      "Then Parrot is speaking\n",
      "The penguin is speaking\n"
     ]
    }
   ],
   "source": [
    "class Bird :\n",
    "    def speak(self) :\n",
    "        pass\n",
    "\n",
    "class Parrot(Bird) :\n",
    "    def speak(self) :\n",
    "        print(\"Then Parrot is speaking\")\n",
    "\n",
    "class Penguin(Bird) :\n",
    "    def speak(self) :\n",
    "        print(\"The penguin is speaking\")\n",
    "\n",
    "birds = [Parrot(), Penguin()] #Parrot() create the instance of class object, similarly Penguin() also creates the instance of class object\n",
    "for bird in birds : #bird refers to each instance of corresponding class and access it speak() method\n",
    "    bird.speak()\n",
    "    "
   ]
  },
  {
   "cell_type": "markdown",
   "id": "d76566dd",
   "metadata": {},
   "source": [
    "### Assignment 15: Combining Single and Multiple Inheritance\n",
    "\n",
    "Create a base class named `Device` with an attribute `brand`. Create a derived class `Phone` that inherits from `Device` and adds an attribute `model`. Create another base class `Camera` with an attribute `resolution`. Create a derived class `Smartphone` that inherits from both `Phone` and `Camera`. Create an object of the `Smartphone` class and print its attributes."
   ]
  },
  {
   "cell_type": "code",
   "execution_count": 61,
   "id": "9122a58b",
   "metadata": {},
   "outputs": [
    {
     "name": "stdout",
     "output_type": "stream",
     "text": [
      "Nothing Phone 2a 2160p\n"
     ]
    }
   ],
   "source": [
    "class Device :\n",
    "    def __init__(self, brand) :\n",
    "        self.brand = brand\n",
    "\n",
    "class Phone(Device) :\n",
    "    def __init__(self, brand, model):\n",
    "        super().__init__(brand)\n",
    "        self.model = model\n",
    "\n",
    "class Camera :\n",
    "    def __init__(self, resolution) :\n",
    "        self.resolution = resolution\n",
    "\n",
    "class Smartphone(Phone, Camera) :\n",
    "    def __init__(self, brand, model, resolution) :\n",
    "        Phone.__init__(self, brand, model)\n",
    "        Camera.__init__(self, resolution)\n",
    "\n",
    "smartphone = Smartphone('Nothing', 'Phone 2a', '2160p')\n",
    "print(smartphone.brand, smartphone.model, smartphone.resolution) \n"
   ]
  }
 ],
 "metadata": {
  "kernelspec": {
   "display_name": "myvenv",
   "language": "python",
   "name": "python3"
  },
  "language_info": {
   "codemirror_mode": {
    "name": "ipython",
    "version": 3
   },
   "file_extension": ".py",
   "mimetype": "text/x-python",
   "name": "python",
   "nbconvert_exporter": "python",
   "pygments_lexer": "ipython3",
   "version": "3.13.5"
  }
 },
 "nbformat": 4,
 "nbformat_minor": 5
}
