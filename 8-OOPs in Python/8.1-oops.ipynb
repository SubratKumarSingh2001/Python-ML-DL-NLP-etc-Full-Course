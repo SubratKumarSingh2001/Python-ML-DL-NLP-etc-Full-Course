{
 "cells": [
  {
   "cell_type": "code",
   "execution_count": 5,
   "id": "70ad90f2",
   "metadata": {},
   "outputs": [
    {
     "name": "stdout",
     "output_type": "stream",
     "text": [
      "<class '__main__.Car'>\n",
      "<__main__.Car object at 0x0000018273D0D6A0> <__main__.Car object at 0x00000182743147D0>\n"
     ]
    },
    {
     "data": {
      "text/plain": [
       "['__class__',\n",
       " '__delattr__',\n",
       " '__dict__',\n",
       " '__dir__',\n",
       " '__doc__',\n",
       " '__eq__',\n",
       " '__firstlineno__',\n",
       " '__format__',\n",
       " '__ge__',\n",
       " '__getattribute__',\n",
       " '__getstate__',\n",
       " '__gt__',\n",
       " '__hash__',\n",
       " '__init__',\n",
       " '__init_subclass__',\n",
       " '__le__',\n",
       " '__lt__',\n",
       " '__module__',\n",
       " '__ne__',\n",
       " '__new__',\n",
       " '__reduce__',\n",
       " '__reduce_ex__',\n",
       " '__repr__',\n",
       " '__setattr__',\n",
       " '__sizeof__',\n",
       " '__static_attributes__',\n",
       " '__str__',\n",
       " '__subclasshook__',\n",
       " '__weakref__']"
      ]
     },
     "execution_count": 5,
     "metadata": {},
     "output_type": "execute_result"
    }
   ],
   "source": [
    "#Class and Objects are fundamentals of programming language in which we use objects to create the applications and model the real world scenarios using\n",
    "#classes and objects \n",
    "\n",
    "#Class are the blueprint whereas objects are the instance of class ex: building design is class and actual building is an object\n",
    "\n",
    "class Car :\n",
    "    pass\n",
    "\n",
    "#object creation \n",
    "audi = Car() #now the audi can use the features of class Car (all its attributes and methods )\n",
    "mercedes = Car()\n",
    "\n",
    "print(type(audi))\n",
    "\n",
    "print(audi, mercedes)\n",
    "dir(audi)"
   ]
  },
  {
   "cell_type": "code",
   "execution_count": 4,
   "id": "00ee8f37",
   "metadata": {},
   "outputs": [
    {
     "name": "stdout",
     "output_type": "stream",
     "text": [
      "4\n"
     ]
    }
   ],
   "source": [
    "audi.windows = 4\n",
    "print(audi.windows) #here a windows is an attribute(it is same as data members in c++ a variable which define the properties and can use by any method within the class)"
   ]
  },
  {
   "cell_type": "code",
   "execution_count": 10,
   "id": "04dff7be",
   "metadata": {},
   "outputs": [
    {
     "name": "stdout",
     "output_type": "stream",
     "text": [
      "The dog always barks!\n",
      "The dog always barks!\n"
     ]
    }
   ],
   "source": [
    "#Attributes : whose values are shared among all the instance of class , suppose students with same school name in c++ compare with static data members\n",
    "#Instance variable : whose values are different for each instance of class, suppose each student have unique names, age etc, compare it with non static members\n",
    "#Defining the Attributes and Methods \n",
    "class Dog :\n",
    "    #THis is class Attribute\n",
    "    behavior = \"The dog always barks!\"\n",
    "    #Constructor \n",
    "    \n",
    "\n",
    "#object creation\n",
    "Bruno = Dog() \n",
    "print(Bruno.behavior)\n",
    "Rocky = Dog()\n",
    "print(Rocky.behavior)"
   ]
  },
  {
   "cell_type": "code",
   "execution_count": null,
   "id": "605358d1",
   "metadata": {},
   "outputs": [
    {
     "name": "stdout",
     "output_type": "stream",
     "text": [
      "Sheru 12\n",
      "Rocky 10\n"
     ]
    }
   ],
   "source": [
    "#Defining the Instance Variables and Methods \n",
    "class Dog :\n",
    "    #Constructor \n",
    "    #This constructor is use to initialize the attributes(variable) of the class, automatically called when object created\n",
    "    def __init__(self, name, age): #here name and age are parameters\n",
    "        #Instance variables : self.name and self.age\n",
    "        self.name = name \n",
    "        self.age = age\n",
    "\n",
    "dog1 = Dog(\"Sheru\", 12)\n",
    "print(dog1.name, dog1.age)\n",
    "dog2 = Dog(\"Rocky\", 10)\n",
    "print(dog2.name, dog2.age)"
   ]
  },
  {
   "cell_type": "code",
   "execution_count": null,
   "id": "166c593f",
   "metadata": {},
   "outputs": [
    {
     "name": "stdout",
     "output_type": "stream",
     "text": [
      "Sheru is barking\n",
      "Rocky is barking\n"
     ]
    }
   ],
   "source": [
    "#Define a class with Instance Method\n",
    "class Dog :\n",
    "    #Constructor\n",
    "    def __init__(self, name, age) :\n",
    "        self.name = name\n",
    "        self.age = age\n",
    "\n",
    "    #Instance Method : Same as Instance variables as, Instance Methods whose values are different for each instance of class , methods what dogs do\n",
    "    def bark(self) :\n",
    "        print(f\"{self.name} is barking\")\n",
    "\n",
    "dog1 = Dog(\"Sheru\", 12)\n",
    "dog1.bark()\n",
    "dog2 = Dog(\"Rocky\", 10)\n",
    "dog2.bark()"
   ]
  },
  {
   "cell_type": "code",
   "execution_count": 27,
   "id": "18eb2730",
   "metadata": {},
   "outputs": [
    {
     "name": "stdout",
     "output_type": "stream",
     "text": [
      "Amount is deposited. New Balance is : 1000\n",
      "1000\n",
      "The 289 withdrawn. The remaining Balance is : 711\n",
      "711\n"
     ]
    }
   ],
   "source": [
    "#Modeling a Bank Account\n",
    "class BankAccount :\n",
    "    def __init__(self, owner, balance=0) :\n",
    "        #Instance Variables\n",
    "        self.owner = owner\n",
    "        self.balance = balance\n",
    "    \n",
    "    #Instance Methods\n",
    "    def deposit(self, amount) :\n",
    "        self.balance += amount #we wont do self.amount because it is not the attribute(variable) of the class\n",
    "        print(f\"Amount is deposited. New Balance is : {self.balance}\")\n",
    "    \n",
    "    def withdraw(self, amount) :\n",
    "        if self.balance >= amount :\n",
    "            self.balance -= amount\n",
    "            print(f\"The {amount} withdrawn. The remaining Balance is : {self.balance}\")\n",
    "        else :\n",
    "            print(\"The amount cannot be withdrawn as it is more the current balance\")\n",
    "    def getBalance(self) :\n",
    "        return self.balance\n",
    "\n",
    "Subrat_Acc = BankAccount('Subrat')\n",
    "Subrat_Acc.deposit(1000)\n",
    "print(Subrat_Acc.getBalance())\n",
    "Subrat_Acc.withdraw(289)\n",
    "print(Subrat_Acc.getBalance())\n"
   ]
  }
 ],
 "metadata": {
  "kernelspec": {
   "display_name": "myvenv",
   "language": "python",
   "name": "python3"
  },
  "language_info": {
   "codemirror_mode": {
    "name": "ipython",
    "version": 3
   },
   "file_extension": ".py",
   "mimetype": "text/x-python",
   "name": "python",
   "nbconvert_exporter": "python",
   "pygments_lexer": "ipython3",
   "version": "3.13.5"
  }
 },
 "nbformat": 4,
 "nbformat_minor": 5
}
