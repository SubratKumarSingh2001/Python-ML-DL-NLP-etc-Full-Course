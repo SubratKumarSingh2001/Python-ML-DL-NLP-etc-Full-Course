{
 "cells": [
  {
   "cell_type": "code",
   "execution_count": null,
   "id": "28af3eac",
   "metadata": {},
   "outputs": [
    {
     "name": "stdout",
     "output_type": "stream",
     "text": [
      "raj\n"
     ]
    }
   ],
   "source": [
    "#Encapsulation is also an important fundamentals of the OOPs, it is used to wrap the data(variables) and methods(functions) into a single unit\n",
    "#So as to protect from the direct or unauthorized access to the object components\n",
    "\n",
    "#For better encapsulation we can mark all the variables and methods under private sections\n",
    "\n",
    "#There are three different type of access modifiers: private, protected and public \n",
    "#By marking the variable and methods under private section we have encapsulated it, so to access it we need to use getters and setters methods\n",
    "\n",
    "\n",
    "class Person :\n",
    "    def __init__(self, name, age) :\n",
    "        #These are public variables and they can be accessed outside of the class  \n",
    "        self.name = name\n",
    "        self.age = age\n",
    "        \n",
    "person = Person('raj', 23)\n",
    "print(person.name) #the variable is accessed outside the class"
   ]
  },
  {
   "cell_type": "code",
   "execution_count": 25,
   "id": "7df087da",
   "metadata": {},
   "outputs": [
    {
     "name": "stdout",
     "output_type": "stream",
     "text": [
      "raj\n"
     ]
    }
   ],
   "source": [
    "class Person :\n",
    "    def __init__(self, name, age, gender, address) :\n",
    "        #using __name and __age make this variables under private that cant be accessed outside the class\n",
    "        self.__name = name \n",
    "        self.__age = age\n",
    "        self.gender = gender #this is public variable\n",
    "        self._address = address #this is protected variable\n",
    "    \n",
    "    \n",
    "#function to access the name of the person for every instance of the class\n",
    "def get_name(person) :\n",
    "    print(person._Person__name) #in this we are explicitly using the _Person_name \n",
    "\n",
    "person = Person('raj', 23, 'male', 'bahadurgarh')\n",
    "get_name(person) #now you cannot use the name and age of the class Person to use this we need Getters and Setters Methods\n",
    "\n",
    "#to use in a way person.name or person.age use getters and setters"
   ]
  },
  {
   "cell_type": "code",
   "execution_count": 26,
   "id": "631cd1ac",
   "metadata": {},
   "outputs": [
    {
     "name": "stdout",
     "output_type": "stream",
     "text": [
      "raj\n"
     ]
    }
   ],
   "source": [
    "#Use of the Protected variable : can be accessed inside the class in which defined and also inside the derived class which inherits this class\n",
    "class Person : \n",
    "    def __init__(self, name, age, gender):\n",
    "        #these are the protected variables\n",
    "        self._name = name\n",
    "        self._age = age\n",
    "        self._gender = gender\n",
    "\n",
    "class Employee(Person) :\n",
    "    def __init__(self, name, age, gender) :\n",
    "        #now person has protected variables can be accessed inside the derived class\n",
    "        super().__init__(name, age, gender)\n",
    "\n",
    "employee = Employee('raj', 23, 'male')\n",
    "#print(employee.name) #the variable is marked protected can be accessed inside the class defined and inside the derived class to access need getters & setters\n",
    "print(employee._name)\n"
   ]
  },
  {
   "cell_type": "code",
   "execution_count": 40,
   "id": "f0bddb94",
   "metadata": {},
   "outputs": [
    {
     "name": "stdout",
     "output_type": "stream",
     "text": [
      "Subrat\n",
      "khushi\n",
      "23\n",
      "22\n"
     ]
    }
   ],
   "source": [
    "#Encapsulation with getters and setters\n",
    "class Person :\n",
    "    def __init__(self, name, age) :\n",
    "        #private variables pr private access modifiers\n",
    "        self.__name = name\n",
    "        self.__age = age\n",
    "\n",
    "    #now we will use the getters and setters to set the value to private variables and access the private variables\n",
    "    #getter\n",
    "    def get_name(self) :\n",
    "        return self.__name\n",
    "    \n",
    "    #setters\n",
    "    def set_name(self, name) :\n",
    "        self.__name = name\n",
    "\n",
    "    #getter\n",
    "    def get_age(self) :\n",
    "        return self.__age\n",
    "    \n",
    "    #setters\n",
    "    def set_age(self, age) :\n",
    "        self.__age = age\n",
    "\n",
    "\n",
    "person = Person('Subrat', 23) \n",
    "print(person.get_name())\n",
    "person.set_name('khushi')\n",
    "print(person.get_name())\n",
    "print(person.get_age())\n",
    "person.set_age(22)\n",
    "print(person.get_age())\n",
    "\n",
    "        "
   ]
  }
 ],
 "metadata": {
  "kernelspec": {
   "display_name": "myvenv",
   "language": "python",
   "name": "python3"
  },
  "language_info": {
   "codemirror_mode": {
    "name": "ipython",
    "version": 3
   },
   "file_extension": ".py",
   "mimetype": "text/x-python",
   "name": "python",
   "nbconvert_exporter": "python",
   "pygments_lexer": "ipython3",
   "version": "3.13.5"
  }
 },
 "nbformat": 4,
 "nbformat_minor": 5
}
