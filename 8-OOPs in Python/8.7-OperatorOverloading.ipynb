{
 "cells": [
  {
   "cell_type": "code",
   "execution_count": 1,
   "id": "30420934",
   "metadata": {},
   "outputs": [
    {
     "data": {
      "text/plain": [
       "'\\n__add__(self, other): Add two objects using +\\n__sub__(self, other): Subtract two objects using -\\n__mul__(self, other): multiply two objects using *\\n__truediv__(self, other): divide two objects using / operator\\n__eq__(self, other): check whether two objects are equal using == operator\\n__lt__(self, other): check whether one object is less than other object\\n__rt__(self, other): check whether one object is greater than other object\\n\\n'"
      ]
     },
     "execution_count": 1,
     "metadata": {},
     "output_type": "execute_result"
    }
   ],
   "source": [
    "#Operator Overloading : In python operator overloading means redefining the arithmetic operator (+,-,*,/,<, >) how they behaves when they are are applied\n",
    "#on the instance of the class\n",
    "\n",
    "'''\n",
    "__add__(self, other): Add two objects using +\n",
    "__sub__(self, other): Subtract two objects using -\n",
    "__mul__(self, other): multiply two objects using *\n",
    "__truediv__(self, other): divide two objects using / operator\n",
    "__eq__(self, other): check whether two objects are equal using == operator\n",
    "__lt__(self, other): check whether one object is less than other object\n",
    "__rt__(self, other): check whether one object is greater than other object\n",
    "\n",
    "'''"
   ]
  },
  {
   "cell_type": "code",
   "execution_count": 27,
   "id": "d92db0bb",
   "metadata": {},
   "outputs": [
    {
     "name": "stdout",
     "output_type": "stream",
     "text": [
      "Vector(3,7)\n",
      "Vector(-1,-3)\n",
      "Vector(2,10)\n",
      "Vector(0.5,0.4)\n",
      "False\n"
     ]
    }
   ],
   "source": [
    "class Vector :\n",
    "    def __init__(self, x, y) :\n",
    "        self.x = x\n",
    "        self.y = y\n",
    "    \n",
    "    def __add__(self, other) : #here other is an another object we are passing and to access it x and y value obj.x and obj.y \n",
    "        #Vector() means it creates the new Vector() object with new resulting value of x and y and that new object can be used anywhere, without it\n",
    "        #it will return a simple tuple \n",
    "        return Vector(self.x + other.x, self.y + other.y)\n",
    "    \n",
    "    def __sub__(self, other) :\n",
    "        return Vector(self.x - other.x, self.y - other.y)\n",
    "    \n",
    "    def __sub__(self, other) :\n",
    "        return Vector(self.x - other.x, self.y - other.y)\n",
    "    \n",
    "    def __mul__(self, other) :\n",
    "        return Vector(self.x * other.x, self.y * other.y)\n",
    "    \n",
    "    def __truediv__(self, other) :\n",
    "        return Vector(self.x / other.x, self.y / other.y)\n",
    "    \n",
    "    def __eq__(self, other) :\n",
    "        return self.x == other.x and self.y == other.y #no need to make it  another Vector() object as it will return always true or false value\n",
    "\n",
    "    def __str__(self):\n",
    "        return f\"Vector({self.x},{self.y})\"\n",
    "\n",
    "\n",
    "v1 = Vector(1,2)\n",
    "v2 = Vector(2,5)\n",
    "#here v1 is our current object and v2 is the object we are passing on i.e it seems like this v1.__add__(v2)\n",
    "v3 = v1 + v2\n",
    "#this v3 will return the string representation of an object as we have seen earlier, to print Vector(3, 7) we need to override the __str__\n",
    "print(v3) #without Vector() in return it behaves like a tuple not an other object\n",
    "\n",
    "#where v1 is the current object and the v2 is the other object that we are passing on \n",
    "print(v1 - v2) # v1.__sub__(v2)\n",
    "print(v1 * v2) # v1.__mul__(v2)\n",
    "print(v1 / v2) # v1.__truediv(v2)\n",
    "print(v1 == v2) # v1.__eq__(v2)"
   ]
  },
  {
   "cell_type": "code",
   "execution_count": 31,
   "id": "b27467be",
   "metadata": {},
   "outputs": [
    {
     "name": "stdout",
     "output_type": "stream",
     "text": [
      "ComplexNumber(9 + 20i)\n",
      "ComplexNumber(5 + -4i)\n",
      "ComplexNumber(14 + 96i)\n",
      "ComplexNumber(3.5 + 0.6666666666666666i)\n",
      "False\n"
     ]
    }
   ],
   "source": [
    "#Complex Number Operator Overloading \n",
    "class ComplexNumber : \n",
    "    def __init__(self, real, imag) :\n",
    "        self.real = real\n",
    "        self.imag = imag\n",
    "    \n",
    "    #add \n",
    "    def __add__(self, other) :\n",
    "        real_part = self.real + other.real\n",
    "        imag_part = self.imag + other.imag\n",
    "        #we want the resultant complex number created by __add__ should be also ComplexNumber object\n",
    "        return ComplexNumber(real_part, imag_part)\n",
    "    \n",
    "    #sub\n",
    "    def __sub__(self, other) :\n",
    "        real_part = self.real - other.real\n",
    "        imag_part = self.imag - other.imag\n",
    "        return ComplexNumber(real_part, imag_part)\n",
    "    \n",
    "    #mul\n",
    "    def __mul__(self, other) :\n",
    "        real_part = self.real * other.real\n",
    "        imag_part = self.imag * other.imag\n",
    "        return ComplexNumber(real_part, imag_part)\n",
    "    \n",
    "    #truediv\n",
    "    def __truediv__(self, other) :\n",
    "        real_part = self.real / other.real\n",
    "        imag_part = self.imag / other.imag\n",
    "        return ComplexNumber(real_part, imag_part)\n",
    "    \n",
    "    #equal\n",
    "    def __eq__(self, other) :\n",
    "        return (self.real == other.real and self.imag == other.imag)\n",
    "    \n",
    "\n",
    "    #str : string representation of an object when we display print(object) it gives some string showing the memory address we are override __str__\n",
    "    def __str__(self) :\n",
    "        return f\"ComplexNumber({self.real} + {self.imag}i)\"\n",
    "\n",
    "\n",
    "c1 = ComplexNumber(7, 8)\n",
    "c2 = ComplexNumber(2, 12)\n",
    "print(c1 + c2) #c1.__add__(c2) c1 current object and c2 is object passed\n",
    "print(c1 - c2)\n",
    "print(c1 * c2)\n",
    "print(c1 / c2)\n",
    "print(c1 == c2)\n",
    "\n",
    "        "
   ]
  }
 ],
 "metadata": {
  "kernelspec": {
   "display_name": "myvenv",
   "language": "python",
   "name": "python3"
  },
  "language_info": {
   "codemirror_mode": {
    "name": "ipython",
    "version": 3
   },
   "file_extension": ".py",
   "mimetype": "text/x-python",
   "name": "python",
   "nbconvert_exporter": "python",
   "pygments_lexer": "ipython3",
   "version": "3.13.5"
  }
 },
 "nbformat": 4,
 "nbformat_minor": 5
}
