{
 "cells": [
  {
   "cell_type": "markdown",
   "id": "c5f3ba95",
   "metadata": {
    "vscode": {
     "languageId": "plaintext"
    }
   },
   "source": [
    "### Assignment 1: Basic Class and Object Creation\n",
    "\n",
    "Create a class named `Car` with attributes `make`, `model`, and `year`. Create an object of the class and print its attributes.\n"
   ]
  },
  {
   "cell_type": "code",
   "execution_count": 4,
   "id": "67202f56",
   "metadata": {},
   "outputs": [
    {
     "name": "stdout",
     "output_type": "stream",
     "text": [
      "The car was in the year 2025\n",
      "The model of car is MPDMJWSK\n",
      "The year the car was developed is 2025\n",
      "BMW\n",
      "MKSL\n",
      "2025\n"
     ]
    }
   ],
   "source": [
    "#One way we can create it like this\n",
    "class Car :\n",
    "    make = \"The car was in the year 2025\"\n",
    "    model = \"The model of car is MPDMJWSK\"\n",
    "    year = \"The year the car was developed is 2025\"\n",
    "\n",
    "\n",
    "car = Car()\n",
    "print(car.make)\n",
    "print(car.model)\n",
    "print(car.year)\n",
    "\n",
    "#Another way we can create this way\n",
    "class Car :\n",
    "    def __init__(self, make, model, year) :\n",
    "        self.make = make\n",
    "        self.model = model\n",
    "        self.year = year\n",
    "\n",
    "car = Car('BMW', 'MKSL', 2025)\n",
    "print(car.make)\n",
    "print(car.model)\n",
    "print(car.year)\n",
    "                "
   ]
  },
  {
   "cell_type": "markdown",
   "id": "f4d7cba9",
   "metadata": {},
   "source": [
    "### Assignment 2: Methods in Class\n",
    "\n",
    "Add a method named `start_engine` to the `Car` class that prints a message when the engine starts. Create an object of the class and call the method."
   ]
  },
  {
   "cell_type": "code",
   "execution_count": 11,
   "id": "c9820283",
   "metadata": {},
   "outputs": [
    {
     "name": "stdout",
     "output_type": "stream",
     "text": [
      "When the engine starts\n"
     ]
    }
   ],
   "source": [
    "class Car :\n",
    "    def __init__(self, make, model, year) :\n",
    "        self.make = make\n",
    "        self.model = model\n",
    "        self.year = year\n",
    "    \n",
    "    def start_engine(self) :\n",
    "        print(\"When the engine starts\")\n",
    "\n",
    "car = Car('BMW', 'MKSL', 2025)\n",
    "car.start_engine()"
   ]
  },
  {
   "cell_type": "markdown",
   "id": "1de5bb78",
   "metadata": {},
   "source": [
    "### Assignment 3: Class with Constructor\n",
    "\n",
    "Create a class named `Student` with attributes `name` and `age`. Use a constructor to initialize these attributes. Create an object of the class and print its attributes."
   ]
  },
  {
   "cell_type": "code",
   "execution_count": 12,
   "id": "bdd0285f",
   "metadata": {},
   "outputs": [
    {
     "name": "stdout",
     "output_type": "stream",
     "text": [
      "subrat 23\n"
     ]
    }
   ],
   "source": [
    "class Student :\n",
    "    #This is the constructor\n",
    "    def __init__(self, name, age) :\n",
    "        self.name = name\n",
    "        self.age = age\n",
    "    \n",
    "student = Student('subrat', 23)\n",
    "print(student.name, student.age)\n",
    "        "
   ]
  },
  {
   "cell_type": "markdown",
   "id": "46015640",
   "metadata": {},
   "source": [
    "### Assignment 4: Class with Private Attributes\n",
    "\n",
    "Create a class named `BankAccount` with private attributes `account_number` and `balance`. Add methods to deposit and withdraw money, and to check the balance. Create an object of the class and perform some operations."
   ]
  },
  {
   "cell_type": "code",
   "execution_count": 24,
   "id": "ac95a045",
   "metadata": {},
   "outputs": [
    {
     "name": "stdout",
     "output_type": "stream",
     "text": [
      "The current balance is : 0\n",
      "The current balance is : 2000\n",
      "The current balance is : 1173\n"
     ]
    }
   ],
   "source": [
    "class BankAccount :\n",
    "    def __init__(self, account_number, balance) :\n",
    "        self.__account_number = account_number\n",
    "        self.__balance = balance\n",
    "    \n",
    "    def deposit(self, amount) :\n",
    "        self.__balance += amount\n",
    "\n",
    "    def withdraw(self, amount) :\n",
    "        if(self.__balance >= amount) :\n",
    "            self.__balance -= amount\n",
    "        else :\n",
    "            print(\"Insufficient amount in the account\")\n",
    "    \n",
    "    #getter to get the balance as balance is the private attributes\n",
    "    def get_balance(self) :\n",
    "        return f\"The current balance is : {self.__balance}\"\n",
    "\n",
    "account = BankAccount(12345,0)\n",
    "print(account.get_balance())\n",
    "account.deposit(2000)\n",
    "print(account.get_balance())\n",
    "account.withdraw(827)\n",
    "print(account.get_balance())\n"
   ]
  },
  {
   "cell_type": "markdown",
   "id": "ba6ec922",
   "metadata": {},
   "source": [
    "### Assignment 5: Class Inheritance\n",
    "\n",
    "Create a base class named `Person` with attributes `name` and `age`. Create a derived class named `Employee` that inherits from `Person` and adds an attribute `employee_id`. Create an object of the derived class and print its attributes.\n"
   ]
  },
  {
   "cell_type": "code",
   "execution_count": 27,
   "id": "8ae9a999",
   "metadata": {},
   "outputs": [
    {
     "name": "stdout",
     "output_type": "stream",
     "text": [
      "subrat 23 1234\n"
     ]
    }
   ],
   "source": [
    "class Person :\n",
    "    def __init__(self, name, age) :\n",
    "        self.name = name\n",
    "        self.age = age\n",
    "\n",
    "class Employee(Person) :\n",
    "    def __init__(self, name, age, employee_id) :\n",
    "        super().__init__(name, age)\n",
    "        self.employee_id = employee_id\n",
    "\n",
    "employee = Employee('subrat', 23, '1234')\n",
    "print(employee.name, employee.age, employee.employee_id)"
   ]
  },
  {
   "cell_type": "markdown",
   "id": "d0750d82",
   "metadata": {},
   "source": [
    "### Assignment 6: Method Overriding\n",
    "\n",
    "In the `Employee` class, override the `__str__` method to return a string representation of the object. Create an object of the class and print it."
   ]
  },
  {
   "cell_type": "code",
   "execution_count": 32,
   "id": "f7d80b7e",
   "metadata": {},
   "outputs": [
    {
     "name": "stdout",
     "output_type": "stream",
     "text": [
      "Employee(subrat, 23, 123435)\n"
     ]
    }
   ],
   "source": [
    "class Employee(Person) :\n",
    "    def __init__(self, name, age, employee_id):\n",
    "        super().__init__(name, age)\n",
    "        self.employee_id = employee_id\n",
    "    \n",
    "    def __str__(self) :\n",
    "        return f\"Employee({self.name}, {self.age}, {self.employee_id})\"\n",
    "\n",
    "employee = Employee('subrat', 23, 123435)\n",
    "print(employee)"
   ]
  },
  {
   "cell_type": "markdown",
   "id": "d541cde3",
   "metadata": {},
   "source": [
    "### Assignment 7: Class Composition\n",
    "\n",
    "Create a class named `Address` with attributes `street`, `city`, and `zipcode`. Create a class named `Person` that has an `Address` object as an attribute. Create an object of the `Person` class and print its address."
   ]
  },
  {
   "cell_type": "code",
   "execution_count": 41,
   "id": "8e6130e4",
   "metadata": {},
   "outputs": [
    {
     "name": "stdout",
     "output_type": "stream",
     "text": [
      "manali\n",
      "2312\n"
     ]
    }
   ],
   "source": [
    "class Address : \n",
    "    def __init__(self, street, city, zipcode) :\n",
    "        self.street = street\n",
    "        self.city = city\n",
    "        self.zipcode = zipcode\n",
    "    \n",
    "class Person :\n",
    "    def __init__(self, name, age, address) : #here address is an object that we will pass while creating an object\n",
    "        self.name = name\n",
    "        self.age = age\n",
    "        self.address= address\n",
    "\n",
    "address = Address('mall road', 'manali', 2312)\n",
    "person = Person('subrat', 23, address) #here the address have been passed as an attribute \n",
    "print(person.address.city) #person.address is the memory address and if want to access the attribute of person.address.street, or person.address.city etc\n",
    "print(person.address.zipcode)\n"
   ]
  },
  {
   "cell_type": "markdown",
   "id": "44e58bdb",
   "metadata": {},
   "source": [
    "### Assignment 8: Class with Class Variables\n",
    "\n",
    "Create a class named `Counter` with a class variable `count`. Each time an object is created, increment the count. Add a method to get the current count. Create multiple objects and print the count."
   ]
  },
  {
   "cell_type": "code",
   "execution_count": 56,
   "id": "e961a3e0",
   "metadata": {},
   "outputs": [
    {
     "data": {
      "text/plain": [
       "'The current count value is : 3'"
      ]
     },
     "execution_count": 56,
     "metadata": {},
     "output_type": "execute_result"
    }
   ],
   "source": [
    "#self: it refers to the instance variable of class, which tells it is associated to current instance of class like this operator of c++\n",
    "#cls: refers to the class variable of the class which is shared among every instance of the class use className.variableName\n",
    "\n",
    "class Counter :\n",
    "    #This count is the class variable which will be shared by every instance of the class, To access it we need to write class_name.variable_name  \n",
    "    count = 0 \n",
    "    def __init__(self): #this constructor will be called automatically when an object of a class is created \n",
    "        Counter.count += 1 #Counter.count to access the class variable \n",
    "    \n",
    "    #like self is associated to the instance variables, therefore the cls is associated with the class variable\n",
    "    def currCount(cls) :\n",
    "        return f\"The current count value is : {cls.count}\"\n",
    "\n",
    "obj1 = Counter()\n",
    "obj1.currCount()\n",
    "\n",
    "obj2 = Counter()\n",
    "obj2.currCount()\n",
    " \n",
    "obj3 = Counter()\n",
    "obj3.currCount()"
   ]
  },
  {
   "cell_type": "markdown",
   "id": "41340891",
   "metadata": {},
   "source": [
    "### Assignment 9: Static Methods\n",
    "\n",
    "Create a class named `MathOperations` with a static method to calculate the square root of a number. Call the static method without creating an object."
   ]
  },
  {
   "cell_type": "code",
   "execution_count": 57,
   "id": "57846bfe",
   "metadata": {},
   "outputs": [
    {
     "name": "stdout",
     "output_type": "stream",
     "text": [
      "4.123105625617661\n"
     ]
    }
   ],
   "source": [
    "'''Static method behaves likes a regular method or function just it is defined inside the class namespace, and it does not require self keyword \n",
    "   for instance variable and cls for the class variable. Moreover we can call this with and without the creation of an object '''\n",
    "\n",
    "from math import sqrt\n",
    "\n",
    "class MathOperations :\n",
    "    @staticmethod\n",
    "    def sqrtOfNum(num) :\n",
    "        return sqrt(num)\n",
    "    \n",
    "\n",
    "print(MathOperations.sqrtOfNum(17))\n",
    "        "
   ]
  },
  {
   "cell_type": "markdown",
   "id": "96386c73",
   "metadata": {},
   "source": [
    "### Assignment 10: Class with Properties\n",
    "\n",
    "Create a class named `Rectangle` with private attributes `length` and `width`. Use properties to get and set these attributes. Create an object of the class and test the properties."
   ]
  },
  {
   "cell_type": "code",
   "execution_count": 63,
   "id": "816a4c12",
   "metadata": {},
   "outputs": [
    {
     "name": "stdout",
     "output_type": "stream",
     "text": [
      "The value of length is : 23 \n",
      "The value of width is : 9 \n",
      "The value of width is : 2.9 \n"
     ]
    }
   ],
   "source": [
    "class Rectangle :\n",
    "    def __init__(self, length, width) :\n",
    "        self.__length = length\n",
    "        self.__width = width\n",
    "    \n",
    "    #getters and setter for length \n",
    "    def set_length(self, length) :\n",
    "        self.__length = length\n",
    "    def get_length(self) :\n",
    "        return f\"The value of length is : {self.__length} \"\n",
    "    \n",
    "    #getters and setter for breadth\n",
    "    def set_width(self, width) :\n",
    "        self.__width = width\n",
    "    def get_width(self) :\n",
    "        return f\"The value of width is : {self.__width} \"\n",
    "    \n",
    "rectangle = Rectangle(23, 9) \n",
    "print(rectangle.get_length())\n",
    "print(rectangle.get_width())\n",
    "rectangle.set_width(2.90)\n",
    "print(rectangle.get_width())"
   ]
  },
  {
   "cell_type": "markdown",
   "id": "018acad6",
   "metadata": {},
   "source": [
    "### Assignment 11: Abstract Base Class\n",
    "\n",
    "Create an abstract base class named `Shape` with an abstract method `area`. Create derived classes `Circle` and `Square` that implement the `area` method. Create objects of the derived classes and call the `area` method."
   ]
  },
  {
   "cell_type": "code",
   "execution_count": 66,
   "id": "7304bd99",
   "metadata": {},
   "outputs": [
    {
     "name": "stdout",
     "output_type": "stream",
     "text": [
      "The area of circle is : 3240.2062785383996\n",
      "The area of square is : 1031.9128275599999\n"
     ]
    }
   ],
   "source": [
    "from abc import ABC, abstractmethod\n",
    "\n",
    "class Shape(ABC) :\n",
    "    @abstractmethod \n",
    "    def area (self) :\n",
    "        pass\n",
    "\n",
    "class Circle(Shape) :\n",
    "    def __init__(self, radius) :\n",
    "        self.radius = radius\n",
    "\n",
    "    def area(self) :\n",
    "        return f\"The area of circle is : {3.14 * self.radius * self.radius}\"\n",
    "    \n",
    "class Square(Shape) :\n",
    "    def __init__(self, side) :\n",
    "        self.side = side\n",
    "\n",
    "    def area(self) :\n",
    "        return f\"The area of square is : {self.side * self.side}\"\n",
    "\n",
    "circle = Circle(32.1234)\n",
    "print(circle.area())\n",
    "\n",
    "square = Square(32.1234)\n",
    "print(square.area())\n",
    "\n"
   ]
  },
  {
   "cell_type": "markdown",
   "id": "d1ebcf61",
   "metadata": {},
   "source": [
    "### Assignment 12: Operator Overloading\n",
    "\n",
    "Create a class named `Vector` with attributes `x` and `y`. Overload the `+` operator to add two `Vector` objects. Create objects of the class and test the operator overloading."
   ]
  },
  {
   "cell_type": "code",
   "execution_count": 68,
   "id": "9caeb594",
   "metadata": {},
   "outputs": [
    {
     "name": "stdout",
     "output_type": "stream",
     "text": [
      "Vector(10,13)\n"
     ]
    }
   ],
   "source": [
    "class Vector :\n",
    "    def __init__(self, x, y) :\n",
    "        self.x = x\n",
    "        self.y = y\n",
    "    \n",
    "    #we will overload + operator to add two numbers \n",
    "    def __add__(self, other) :\n",
    "        return Vector(self.x + other.x, self.y + other.y) \n",
    "    \n",
    "    def __str__(self) :\n",
    "        return f\"Vector({self.x},{self.y})\"\n",
    "    \n",
    "v1 = Vector(2,4)\n",
    "v2 = Vector(8,9)\n",
    "v3 = v1 + v2\n",
    "print(v3)\n",
    "        "
   ]
  },
  {
   "cell_type": "markdown",
   "id": "7246e942",
   "metadata": {},
   "source": [
    "### Assignment 13: Class with Custom Exception\n",
    "\n",
    "Create a custom exception named `InsufficientBalanceError`. In the `BankAccount` class, raise this exception when a withdrawal amount is greater than the balance. Handle the exception and print an appropriate message."
   ]
  },
  {
   "cell_type": "code",
   "execution_count": 74,
   "id": "07123aef",
   "metadata": {},
   "outputs": [
    {
     "name": "stdout",
     "output_type": "stream",
     "text": [
      "The current balance is : 2000\n",
      "The current balance is : 372\n",
      "The withdraw amount is greater the available balance\n"
     ]
    }
   ],
   "source": [
    "class InsufficientBalanceError(Exception):\n",
    "    pass\n",
    "\n",
    "class BankAccount :\n",
    "    def __init__(self, balance):\n",
    "        self.balance = balance\n",
    "    \n",
    "    def withdraw(self, amount) :\n",
    "        try : \n",
    "            if(amount <= self.balance) :\n",
    "                self.balance -= amount\n",
    "            else :\n",
    "                raise InsufficientBalanceError\n",
    "        except InsufficientBalanceError :\n",
    "            print(\"The withdraw amount is greater the available balance\")\n",
    "    \n",
    "    def get_balance(self) :\n",
    "        return f\"The current balance is : {self.balance}\"\n",
    "    \n",
    "account = BankAccount(2000)\n",
    "print(account.get_balance())\n",
    "account.withdraw(1628)\n",
    "print(account.get_balance())\n",
    "account.withdraw(373)\n",
    "\n"
   ]
  },
  {
   "cell_type": "markdown",
   "id": "37d07147",
   "metadata": {},
   "source": [
    "### Assignment 14: Class with Context Manager\n",
    "\n",
    "Create a class named `FileManager` that implements the context manager protocol to open and close a file. Use this class to read the contents of a file."
   ]
  },
  {
   "cell_type": "code",
   "execution_count": 86,
   "id": "1aa98737",
   "metadata": {},
   "outputs": [
    {
     "name": "stdout",
     "output_type": "stream",
     "text": [
      "Getting then access of the file......\n",
      "Hello world\n",
      "Work is done closing the file......\n"
     ]
    }
   ],
   "source": [
    "#Important understand it \n",
    "class FileManager :\n",
    "    def __init__(self, filename, mode) :\n",
    "        self.filename = filename\n",
    "        self.mode = mode\n",
    "    \n",
    "    #now we will perform the two important magic methods use for context managers\n",
    "    #__enter__: use to acquire the file or connect to db before we use and return the object \n",
    "    def __enter__(self) :\n",
    "        print(\"Getting then access of the file......\")\n",
    "        self.file = open(self.filename, self.mode) #here the self.file is an object created and with this we can read the contents perform the operations\n",
    "        return self.file\n",
    "    \n",
    "    #__exit__: it occurs at the end of the with block when the work is over is automatically closes the file, disconnect with db \n",
    "    def __exit__(self, exc_type, exc_value, traceback) :\n",
    "        print(\"Work is done closing the file......\")\n",
    "        self.file.close()\n",
    "\n",
    "with FileManager('example.txt', 'r') as file :\n",
    "    content = file.read()\n",
    "    print(content)\n",
    "\n",
    "        \n"
   ]
  },
  {
   "cell_type": "markdown",
   "id": "9bcfa8ce",
   "metadata": {},
   "source": [
    "### Assignment 15: Chaining Methods\n",
    "\n",
    "Create a class named `Calculator` with methods to add, subtract, multiply, and divide. Each method should return the object itself to allow method chaining. Create an object and chain multiple method calls."
   ]
  },
  {
   "cell_type": "code",
   "execution_count": 85,
   "id": "55eff972",
   "metadata": {},
   "outputs": [
    {
     "name": "stdout",
     "output_type": "stream",
     "text": [
      "3.111111111111111\n"
     ]
    }
   ],
   "source": [
    "class Calculator :\n",
    "    def __init__(self, balance=0) :\n",
    "        self.balance = balance \n",
    "    \n",
    "    def add(self, amount) :\n",
    "        self.balance += amount\n",
    "        return self #this will return the current object \n",
    "    \n",
    "    def sub(self, amount) :\n",
    "        self.balance -= amount\n",
    "        return self #this will return the current object \n",
    "    \n",
    "    def mul(self, amount) :\n",
    "        self.balance *= amount\n",
    "        return self #this will return the current object \n",
    "    \n",
    "    def divide(self, amount) :\n",
    "        self.balance /= amount\n",
    "        return self #this will return the current object \n",
    "    \n",
    "calculator = Calculator()\n",
    "'''\n",
    "This means calculator.add(12) perform addition and then balance = 12 and then add() return the object i.e calculator\n",
    "now calculator.sub(8) perform subtraction and then balance = 12-8 = 4 then sub() again return the object i.e calculator\n",
    "now calculator.mul(7) perform multiplication and then balance = 4 * 7 = 28 then mul() again return the object i.e calculator\n",
    "now calculator.divide(9) perform division and then balance = 28/9 = 3.111111... then divide() again return the object i.e calculator\n",
    "after this wwe have call the calculator which gives the current value of balance this means the methods chaining\n",
    "'''\n",
    "print(calculator.add(12).sub(8).mul(7).divide(9).balance)\n",
    "#print(calculator.balance) "
   ]
  }
 ],
 "metadata": {
  "kernelspec": {
   "display_name": "myvenv",
   "language": "python",
   "name": "python3"
  },
  "language_info": {
   "codemirror_mode": {
    "name": "ipython",
    "version": 3
   },
   "file_extension": ".py",
   "mimetype": "text/x-python",
   "name": "python",
   "nbconvert_exporter": "python",
   "pygments_lexer": "ipython3",
   "version": "3.13.5"
  }
 },
 "nbformat": 4,
 "nbformat_minor": 5
}
