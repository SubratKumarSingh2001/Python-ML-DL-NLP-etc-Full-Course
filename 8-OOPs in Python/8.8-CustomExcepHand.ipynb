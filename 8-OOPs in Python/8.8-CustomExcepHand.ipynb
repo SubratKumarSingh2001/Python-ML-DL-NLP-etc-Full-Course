{
 "cells": [
  {
   "cell_type": "markdown",
   "id": "6fe9b039",
   "metadata": {},
   "source": [
    "### Custom Exception (Raise and Throw an Exception)"
   ]
  },
  {
   "cell_type": "code",
   "execution_count": 5,
   "id": "52287c20",
   "metadata": {},
   "outputs": [
    {
     "name": "stdout",
     "output_type": "stream",
     "text": [
      "You are not eligible to give the exam\n"
     ]
    }
   ],
   "source": [
    "class DOBException(Exception) : #here Exception is a base class and All the other exception i.e NameError etc inherits this base class\n",
    "    pass\n",
    "\n",
    "#we know custom exception that we have created using class need to be raise and this raise takes you to the exception block that if raised exception \n",
    "#occur what to do\n",
    "try :\n",
    "    year = int(input(\"Enter the birth year : \"))\n",
    "    age = 2025 - year\n",
    "    \n",
    "    if age >= 20 and age <= 29 :\n",
    "        print(\"You are eligible to give the exam\")\n",
    "    else :\n",
    "        raise DOBException\n",
    "    \n",
    "except DOBException :\n",
    "    print(\"You are not eligible to give the exam\")\n"
   ]
  }
 ],
 "metadata": {
  "kernelspec": {
   "display_name": "myvenv",
   "language": "python",
   "name": "python3"
  },
  "language_info": {
   "codemirror_mode": {
    "name": "ipython",
    "version": 3
   },
   "file_extension": ".py",
   "mimetype": "text/x-python",
   "name": "python",
   "nbconvert_exporter": "python",
   "pygments_lexer": "ipython3",
   "version": "3.13.5"
  }
 },
 "nbformat": 4,
 "nbformat_minor": 5
}
