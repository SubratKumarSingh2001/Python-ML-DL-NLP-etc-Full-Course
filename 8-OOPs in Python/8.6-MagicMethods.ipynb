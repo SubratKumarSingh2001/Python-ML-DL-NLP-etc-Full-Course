{
 "cells": [
  {
   "cell_type": "code",
   "execution_count": null,
   "id": "8c3870b1",
   "metadata": {},
   "outputs": [
    {
     "data": {
      "text/plain": [
       "'\\n__init__ : It is use to initialize the instance of the class \\n__str__: Returns the string representation of an object \\n__rep__: Returns the official string representation of an object\\n__len__: It is use to return the length of the object\\n__getitem__: Gets an item from the container \\n__setitem: Sets an item in a container\\n\\n'"
      ]
     },
     "execution_count": 1,
     "metadata": {},
     "output_type": "execute_result"
    }
   ],
   "source": [
    "#Magic Methods : These are the double underscore methods, which are special methods that start and end with double underscore \n",
    "#These methods defines the behavior of objects using in-build operations like arithmetic operations, comparisons etc \n",
    "\n",
    "#These magic methods can be overridden as how the objects are behaving while interacting with the in-built operations\n",
    "\n",
    "'''\n",
    "__init__ : It is use to initialize the instance of the class \n",
    "__str__: Returns the string representation of an object \n",
    "__rep__: Returns the official string representation of an object\n",
    "__len__: It is use to return the length of the object\n",
    "__getitem__: Gets an item from the container \n",
    "__setitem: Sets an item in a container\n",
    "\n",
    "'''"
   ]
  },
  {
   "cell_type": "code",
   "execution_count": 3,
   "id": "ffee9c59",
   "metadata": {},
   "outputs": [
    {
     "data": {
      "text/plain": [
       "['__class__',\n",
       " '__delattr__',\n",
       " '__dict__',\n",
       " '__dir__',\n",
       " '__doc__',\n",
       " '__eq__',\n",
       " '__firstlineno__',\n",
       " '__format__',\n",
       " '__ge__',\n",
       " '__getattribute__',\n",
       " '__getstate__',\n",
       " '__gt__',\n",
       " '__hash__',\n",
       " '__init__',\n",
       " '__init_subclass__',\n",
       " '__le__',\n",
       " '__lt__',\n",
       " '__module__',\n",
       " '__ne__',\n",
       " '__new__',\n",
       " '__reduce__',\n",
       " '__reduce_ex__',\n",
       " '__repr__',\n",
       " '__setattr__',\n",
       " '__sizeof__',\n",
       " '__static_attributes__',\n",
       " '__str__',\n",
       " '__subclasshook__',\n",
       " '__weakref__']"
      ]
     },
     "execution_count": 3,
     "metadata": {},
     "output_type": "execute_result"
    }
   ],
   "source": [
    "class Person :\n",
    "    pass\n",
    "\n",
    "person = Person()\n",
    "dir(person) #this will give the all methods "
   ]
  },
  {
   "cell_type": "code",
   "execution_count": null,
   "id": "f30a590e",
   "metadata": {},
   "outputs": [
    {
     "name": "stdout",
     "output_type": "stream",
     "text": [
      "<__main__.Person object at 0x000002ABCF491550>\n",
      "<__main__.Person object at 0x000002ABCF491550>\n"
     ]
    }
   ],
   "source": [
    "class Person :\n",
    "    def __init__(self, name, age) :\n",
    "        self.name = name\n",
    "        self.age = age\n",
    "    \n",
    "    # def __str__(self) :\n",
    "    #     return f\"The name is: {self.name} and the age is: {self.age}\"\n",
    "    \n",
    "    # def __repr__(self):\n",
    "    #     return f\"Person(name={self.name}, age={self.age})\"\n",
    "\n",
    "person = Person('subrat', 23)\n",
    "print(person) #output: by default this print <__main__.Person object at 0x000002ABCF491A90> this is string representation of an object we can override this too\n",
    "print(repr(person))"
   ]
  }
 ],
 "metadata": {
  "kernelspec": {
   "display_name": "myvenv",
   "language": "python",
   "name": "python3"
  },
  "language_info": {
   "codemirror_mode": {
    "name": "ipython",
    "version": 3
   },
   "file_extension": ".py",
   "mimetype": "text/x-python",
   "name": "python",
   "nbconvert_exporter": "python",
   "pygments_lexer": "ipython3",
   "version": "3.13.5"
  }
 },
 "nbformat": 4,
 "nbformat_minor": 5
}
