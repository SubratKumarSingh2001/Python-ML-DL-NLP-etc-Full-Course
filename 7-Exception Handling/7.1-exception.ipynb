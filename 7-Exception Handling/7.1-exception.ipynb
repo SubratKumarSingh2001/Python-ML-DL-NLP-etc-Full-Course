{
 "cells": [
  {
   "cell_type": "code",
   "execution_count": null,
   "id": "20e06bd7",
   "metadata": {},
   "outputs": [
    {
     "name": "stdout",
     "output_type": "stream",
     "text": [
      "b is not defined \n"
     ]
    }
   ],
   "source": [
    "#Exception Handling is an way to handle the errors smoothly and taking corrective actions without stopping the execution of program\n",
    "\n",
    "#Exception: are the events that can disrupt the flow of the program. This occur when the error is encountered during program execution \n",
    "#ex: ZeroDivisionError : Dividing by 0\n",
    "\n",
    "# a = b  #In this case the NameError shows\n",
    "\n",
    "#but we can give our custom message \n",
    "try : #The code inside the try block may give the error, thats why we have written it inside it \n",
    "    a = b\n",
    "except :\n",
    "    print(\"b is not defined \") #this will give our custom message"
   ]
  },
  {
   "cell_type": "code",
   "execution_count": 6,
   "id": "e19f8fad",
   "metadata": {},
   "outputs": [
    {
     "name": "stdout",
     "output_type": "stream",
     "text": [
      "name 'b' is not defined\n"
     ]
    }
   ],
   "source": [
    "#we can use the same class of error which it belong to\n",
    "try : \n",
    "    a = b \n",
    "except NameError as e : #the NameError is a class which handles what to do or print what kind of message when this kind of error shows \n",
    "    print(e)"
   ]
  },
  {
   "cell_type": "code",
   "execution_count": 10,
   "id": "bcc695e0",
   "metadata": {},
   "outputs": [
    {
     "name": "stdout",
     "output_type": "stream",
     "text": [
      "The number is not not divisible by zero\n"
     ]
    }
   ],
   "source": [
    "try :\n",
    "    result = 1/0\n",
    "except : \n",
    "    print(\"The number is not not divisible by zero\")"
   ]
  },
  {
   "cell_type": "code",
   "execution_count": 12,
   "id": "f27cd598",
   "metadata": {},
   "outputs": [
    {
     "name": "stdout",
     "output_type": "stream",
     "text": [
      "division by zero\n",
      "Provide the denominator greater than 0\n"
     ]
    }
   ],
   "source": [
    "try : \n",
    "    result = 1/0\n",
    "except ZeroDivisionError as e :\n",
    "    print(e) \n",
    "    print(\"Provide the denominator greater than 0\")"
   ]
  },
  {
   "cell_type": "code",
   "execution_count": 18,
   "id": "a16793a7",
   "metadata": {},
   "outputs": [
    {
     "name": "stdout",
     "output_type": "stream",
     "text": [
      "name 'b' is not defined\n"
     ]
    }
   ],
   "source": [
    "#Suppose they is an exception that does not belong to the exception class that we have use \n",
    "try : \n",
    "    result = 1/2  \n",
    "    a = b #we have not defined the NameError class though which it is giving us the red cell \n",
    "except ZeroDivisionError as e : #this is the derived class of the Exception class \n",
    "    print(e)\n",
    "except Exception as e : #this exception class is the parent class of all the exception which needed to be written at last else the exception class will be called \n",
    "    print(e)"
   ]
  },
  {
   "cell_type": "code",
   "execution_count": null,
   "id": "67602175",
   "metadata": {},
   "outputs": [],
   "source": [
    "try : \n",
    "    num = int(input(\"Enter a number : \"))\n",
    "    result = 10/num\n",
    "except ValueError : #this will ensure that num value is valid int value\n",
    "    print(\"This is not a valid number\")\n",
    "except ZeroDivisionError : #it ensure that num is not 0 if yes then print the message \n",
    "    print(\"Enter Denominator greater than 0\")\n",
    "except Exception as e : #this is parent exception class will print message acc to type of error \n",
    "    print(e)"
   ]
  },
  {
   "cell_type": "code",
   "execution_count": 31,
   "id": "5b8a8e34",
   "metadata": {},
   "outputs": [
    {
     "name": "stdout",
     "output_type": "stream",
     "text": [
      "1.25\n"
     ]
    }
   ],
   "source": [
    "#try except and else block\n",
    "try : \n",
    "    num = int(input(\"Enter a number : \"))\n",
    "    result = 10/num\n",
    "except ValueError :\n",
    "    print(\"This is not a valid number\")\n",
    "except ZeroDivisionError : \n",
    "    print(\"Enter Denominator greater than 0\")\n",
    "except Exception as e :\n",
    "    print(e)\n",
    "else : #this block will execute when the try block successfully gets executed when there is no exception or error\n",
    "    print(result)"
   ]
  },
  {
   "cell_type": "code",
   "execution_count": 33,
   "id": "a9db732c",
   "metadata": {},
   "outputs": [
    {
     "name": "stdout",
     "output_type": "stream",
     "text": [
      "Enter Denominator greater than 0\n",
      "Execution completed\n"
     ]
    }
   ],
   "source": [
    "#try, except, else and finally block \n",
    "#else : block execute when the try block successfully execute without any exception\n",
    "#finally : block will always get executed whether there is exception or not\n",
    "try : \n",
    "    num = int(input(\"Enter a number : \"))\n",
    "    result = 10/num\n",
    "except ValueError :\n",
    "    print(\"This is not a valid number\")\n",
    "except ZeroDivisionError : \n",
    "    print(\"Enter Denominator greater than 0\")\n",
    "except Exception as e :\n",
    "    print(e)\n",
    "else : #this block will execute when the try block successfully gets executed when there is no exception or error\n",
    "    print(result)\n",
    "finally : #this block will be always executed when there is exception or not \n",
    "    print(\"Execution completed\")"
   ]
  },
  {
   "cell_type": "code",
   "execution_count": 42,
   "id": "8a573b3d",
   "metadata": {},
   "outputs": [
    {
     "name": "stdout",
     "output_type": "stream",
     "text": [
      "\n",
      "name 'b' is not defined\n",
      "File closed\n"
     ]
    }
   ],
   "source": [
    "#File handling and exception handling\n",
    "try :\n",
    "    file = open('example.txt', 'r')\n",
    "    content = file.read()\n",
    "    print(content)\n",
    "    a = b\n",
    "except FileNotFoundError :\n",
    "    print(f\"There is not such file named 'example.txt'.\")\n",
    "except Exception as e :\n",
    "    print(e)\n",
    "finally :\n",
    "    if 'file' in locals() or not file.closed() :\n",
    "        file.close()\n",
    "        print(\"File closed\")\n"
   ]
  }
 ],
 "metadata": {
  "kernelspec": {
   "display_name": "myvenv",
   "language": "python",
   "name": "python3"
  },
  "language_info": {
   "codemirror_mode": {
    "name": "ipython",
    "version": 3
   },
   "file_extension": ".py",
   "mimetype": "text/x-python",
   "name": "python",
   "nbconvert_exporter": "python",
   "pygments_lexer": "ipython3",
   "version": "3.13.5"
  }
 },
 "nbformat": 4,
 "nbformat_minor": 5
}
