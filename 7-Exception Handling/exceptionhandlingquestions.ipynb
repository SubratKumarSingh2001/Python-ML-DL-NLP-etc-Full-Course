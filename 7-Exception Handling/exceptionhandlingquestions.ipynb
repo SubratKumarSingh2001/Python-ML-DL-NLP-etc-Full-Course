{
 "cells": [
  {
   "cell_type": "markdown",
   "id": "fdcbda2f",
   "metadata": {},
   "source": [
    "### Assignment 1: Handling Division by Zero\n",
    "\n",
    "Write a function that takes two integers as input and returns their division. Use try, except, and finally blocks to handle division by zero and print an appropriate message."
   ]
  },
  {
   "cell_type": "code",
   "execution_count": 3,
   "metadata": {},
   "outputs": [
    {
     "name": "stdout",
     "output_type": "stream",
     "text": [
      "The denominator should not be zero.\n",
      "Execution Complete\n"
     ]
    }
   ],
   "source": [
    "def division(n1, n2) :\n",
    "    try : \n",
    "        result = n1/n2\n",
    "    except ZeroDivisionError :\n",
    "        print(\"The denominator should not be zero.\")\n",
    "    else :\n",
    "        print(result)\n",
    "    finally :\n",
    "        print(\"Execution Complete\")\n",
    "\n",
    "n1 = int(input(\"Enter the n1 : \"))\n",
    "n2 = int(input(\"Enter the n2 : \"))\n",
    "division(n1, n2)"
   ]
  },
  {
   "cell_type": "markdown",
   "id": "c7719998",
   "metadata": {},
   "source": [
    "### Assignment 2: File Reading with Exception Handling\n",
    "\n",
    "Write a function that reads the contents of a file named `data.txt`. Use try, except, and finally blocks to handle file not found errors and ensure the file is properly closed."
   ]
  },
  {
   "cell_type": "code",
   "execution_count": null,
   "id": "dd0986ab",
   "metadata": {},
   "outputs": [
    {
     "name": "stdout",
     "output_type": "stream",
     "text": [
      "The file data.txt doesn't exist\n",
      "The file is not present, so cant close the file\n"
     ]
    }
   ],
   "source": [
    "def fileNotFound(filepath) :\n",
    "    try :\n",
    "        file = open(filepath, 'r')\n",
    "        content = file.read()\n",
    "        print(content)\n",
    "    except FileNotFoundError:\n",
    "        print(f\"The file {filepath} doesn't exist\")\n",
    "    finally :\n",
    "        #if the file found the file should be closed\n",
    "        try :\n",
    "            file.close() #we are trying to close the file is present here file.close file is a variable \n",
    "        except NameError : #if the file is not created means the file variable is not defin\n",
    "            print(\"The file is not present, so cant close the file\")\n",
    "        \n",
    "filepath = 'data.txt'\n",
    "fileNotFound(filepath)"
   ]
  },
  {
   "cell_type": "markdown",
   "id": "230bc689",
   "metadata": {},
   "source": [
    "### Assignment 3: Handling Multiple Exceptions\n",
    "\n",
    "Write a function that takes a list of integers and returns their sum. Use try, except, and finally blocks to handle TypeError if a non-integer value is encountered and print an appropriate message."
   ]
  },
  {
   "cell_type": "code",
   "execution_count": 14,
   "id": "73a43e06",
   "metadata": {},
   "outputs": [
    {
     "name": "stdout",
     "output_type": "stream",
     "text": [
      "Either of element in list is not integer\n",
      "Execution Completed\n",
      "The sum is : None\n"
     ]
    }
   ],
   "source": [
    "def typeErrorCheck(nums) :\n",
    "    try : \n",
    "        return sum(x for x in nums)\n",
    "    except TypeError :\n",
    "        print(\"Either of element in list is not integer\")\n",
    "    finally :\n",
    "        print(\"Execution Completed\")\n",
    "\n",
    "lst = [1,2,3,'a',5]\n",
    "print(f\"The sum is : {typeErrorCheck(lst)}\")"
   ]
  },
  {
   "cell_type": "markdown",
   "id": "26704056",
   "metadata": {},
   "source": [
    "### Assignment 4: Exception Handling in User Input\n",
    "\n",
    "Write a function that prompts the user to enter an integer. Use try, except, and finally blocks to handle ValueError if the user enters a non-integer value and print an appropriate message."
   ]
  },
  {
   "cell_type": "code",
   "execution_count": 2,
   "id": "4e89d8b2",
   "metadata": {},
   "outputs": [
    {
     "name": "stdout",
     "output_type": "stream",
     "text": [
      "The value of num is not an integer value\n",
      "Execution Complete\n"
     ]
    }
   ],
   "source": [
    "def valueErrorMessage() :\n",
    "    try : \n",
    "        num = int(input(\"Enter the integer value : \"))\n",
    "    except ValueError :\n",
    "        print(\"The value of num is not an integer value\")\n",
    "    finally :\n",
    "        print(\"Execution Complete\")\n",
    "\n",
    "valueErrorMessage()"
   ]
  },
  {
   "cell_type": "markdown",
   "id": "4da946dd",
   "metadata": {},
   "source": [
    "### Assignment 5: Exception Handling in Dictionary Access\n",
    "\n",
    "Write a function that takes a dictionary and a key as input and returns the value associated with the key. Use try, except, and finally blocks to handle KeyError if the key is not found in the dictionary and print an appropriate message."
   ]
  },
  {
   "cell_type": "code",
   "execution_count": 29,
   "id": "8d116b47",
   "metadata": {},
   "outputs": [
    {
     "name": "stdout",
     "output_type": "stream",
     "text": [
      "The 4 is not present in the {1: 'Subrat', 2: 'Singh', 3: 'MCA'}\n",
      "Execution Completed\n",
      "The value associated to 4 is : None\n"
     ]
    }
   ],
   "source": [
    "def keyError(dict1, key) :\n",
    "    try :\n",
    "        #we will try to fetch the value with the help of key if present ok else give KeyError\n",
    "        value = dict1[key]\n",
    "        return value\n",
    "    except KeyError :\n",
    "        print(f\"The {key} is not present in the {dict1}\")\n",
    "    finally :\n",
    "        print(\"Execution Completed\")\n",
    "\n",
    "\n",
    "dict1 = {1:\"Subrat\", 2:\"Singh\", 3:\"MCA\"}\n",
    "key = 4\n",
    "print(f\"The value associated to {key} is : {keyError(dict1, key)}\")"
   ]
  },
  {
   "cell_type": "markdown",
   "id": "78d51e1a",
   "metadata": {},
   "source": [
    "### Assignment 6: Nested Exception Handling\n",
    "\n",
    "Write a function that performs nested exception handling. It should first attempt to convert a string to an integer, and then attempt to divide by that integer. Use nested try, except, and finally blocks to handle ValueError and ZeroDivisionError and print appropriate messages."
   ]
  },
  {
   "cell_type": "code",
   "execution_count": 43,
   "id": "4e80d49a",
   "metadata": {},
   "outputs": [
    {
     "name": "stdout",
     "output_type": "stream",
     "text": [
      "Conversion from string to integer successful\n",
      "Division Execution Completed\n",
      "Overall Execution Complete\n"
     ]
    },
    {
     "data": {
      "text/plain": [
       "5.0"
      ]
     },
     "execution_count": 43,
     "metadata": {},
     "output_type": "execute_result"
    }
   ],
   "source": [
    "def valueErrorAndZeroDiv(string) :\n",
    "    #first we will try to convert the string into integer \n",
    "    try :\n",
    "        num = int(string)\n",
    "        print(\"Conversion from string to integer successful\")\n",
    "    except ValueError :\n",
    "        print(f\"The string : {string} cannot be converted it into integer\")\n",
    "        num = None\n",
    "    finally :\n",
    "        if num is not None :\n",
    "            try : \n",
    "                value = 10/num\n",
    "                return value\n",
    "            except ZeroDivisionError :\n",
    "                print(\"The converted integer is 0 which cannot divide by 0\")\n",
    "            finally :\n",
    "                print(\"Division Execution Completed\")\n",
    "                print(\"Overall Execution Complete\")\n",
    "\n",
    "valueErrorAndZeroDiv('2')"
   ]
  },
  {
   "cell_type": "markdown",
   "id": "8489eee8",
   "metadata": {},
   "source": [
    "\n",
    "\n",
    "### Assignment 7: Exception Handling in List Operations\n",
    "\n",
    "Write a function that takes a list and an index as input and returns the element at the given index. Use try, except, and finally blocks to handle IndexError if the index is out of range and print an appropriate message."
   ]
  },
  {
   "cell_type": "code",
   "execution_count": 2,
   "id": "d6d4630b",
   "metadata": {},
   "outputs": [
    {
     "name": "stdout",
     "output_type": "stream",
     "text": [
      "The 9 out of bound i.e index is more than size of list\n",
      "Execution Successful\n"
     ]
    }
   ],
   "source": [
    "def checkIndexError(lst, index) :\n",
    "    try :\n",
    "        value = lst[index]\n",
    "        return value\n",
    "    except IndexError :\n",
    "        print(f\"The {index} out of bound i.e index is more than size of list\")\n",
    "    finally :\n",
    "        print(\"Execution Successful\")\n",
    "\n",
    "lst = [1,2,3,4,4,5,6]\n",
    "checkIndexError(lst, 9)"
   ]
  },
  {
   "cell_type": "markdown",
   "id": "b7977f65",
   "metadata": {},
   "source": [
    "### Assignment 8: Exception Handling in Network Operations\n",
    "\n",
    "Write a function that attempts to open a URL and read its contents. Use try, except, and finally blocks to handle network-related errors and print an appropriate message."
   ]
  },
  {
   "cell_type": "code",
   "execution_count": null,
   "id": "56886853",
   "metadata": {},
   "outputs": [
    {
     "name": "stdout",
     "output_type": "stream",
     "text": [
      "Network Error : HTTPSConnectionPool(host='www.unknown.url', port=443): Max retries exceeded with url: / (Caused by NameResolutionError(\"<urllib3.connection.HTTPSConnection object at 0x0000017871CABD90>: Failed to resolve 'www.unknown.url' ([Errno 11001] getaddrinfo failed)\"))\n",
      "Execution Completed\n"
     ]
    }
   ],
   "source": [
    "import requests #python library used to send the HTTP requests, allows to interact with web services, websites, APIs using GET, POST, DELETE PUT methods\n",
    "\n",
    "def checkNetworkError(url) :\n",
    "    try : \n",
    "        response = requests.get(url) #it is used to retrieve the data from servers or website\n",
    "        response.raise_for_status() #it check if response is successful nothing happen if not successful it raise an error\n",
    "        return response.text #it shows the HTML content of the requested data as a string \n",
    "    except requests.RequestException as e :\n",
    "        print(f\"Network Error : {e}\")\n",
    "    finally :\n",
    "        print(\"Execution Completed\")\n",
    "\n",
    "#url = \"https://www.google.com\" #the HTTP Request to retrieve the data and response is successful so no exception \n",
    "url = \"https://www.unknown.url\" #the HTTP Request to retrieve the data as the url don not exist therefore the response will be unsuccessful and exception\n",
    "checkNetworkError(url)\n"
   ]
  },
  {
   "cell_type": "markdown",
   "id": "c763e50b",
   "metadata": {},
   "source": [
    "### Assignment 9: Exception Handling in JSON Parsing\n",
    "\n",
    "Write a function that attempts to parse a JSON string. Use try, except, and finally blocks to handle JSONDecodeError if the string is not a valid JSON and print an appropriate message.\n"
   ]
  },
  {
   "cell_type": "code",
   "execution_count": 22,
   "id": "8aec0617",
   "metadata": {},
   "outputs": [
    {
     "name": "stdout",
     "output_type": "stream",
     "text": [
      "Expecting value: line 1 column 1 (char 0)\n",
      "Execution Completed\n",
      "None\n"
     ]
    }
   ],
   "source": [
    "import json\n",
    "\n",
    "def checkJSONDecodeError(json_string) :\n",
    "    try : \n",
    "        py_object = json.loads(json_string)\n",
    "        return py_object\n",
    "    except json.JSONDecodeError as e :\n",
    "        print(e)\n",
    "    finally :\n",
    "        print(\"Execution Completed\")         \n",
    "\n",
    "#json_string = '{\"name\" : \"subrat\", \"class\" : \"mca\", \"rollno\" : 28, \"address\" : \"bahadurgarh\"}'\n",
    "json_string = 'invalidjson'\n",
    "print(checkJSONDecodeError(json_string))\n"
   ]
  },
  {
   "cell_type": "markdown",
   "id": "817aea42",
   "metadata": {},
   "source": [
    "### Assignment 10: Custom Exception Handling\n",
    "\n",
    "Define a custom exception named `NegativeNumberError`. Write a function that raises this exception if a negative number is encountered in a list. Use try, except, and finally blocks to handle the custom exception and print an appropriate message."
   ]
  },
  {
   "cell_type": "code",
   "execution_count": null,
   "id": "aba2d56f",
   "metadata": {},
   "outputs": [
    {
     "name": "stdout",
     "output_type": "stream",
     "text": [
      "Negative number found : -1\n",
      "Execution Completed\n"
     ]
    }
   ],
   "source": [
    "#we will create a class \n",
    "class NegativeNumberError(Exception) : #here the parameter is the bas class and the NegativeNumberError is derived class\n",
    "    pass #it does nothing when executed used when the statements, functions, classes or loops are required but code in not written yet write later on\n",
    "\n",
    "def CheckNegativeNum(lst) :\n",
    "    try : \n",
    "        for i in lst : \n",
    "            if i < 0 : \n",
    "                #raise is an keyword that raise the exception, stops the normal execution and take to the except block\n",
    "                raise NegativeNumberError(f\"Negative number found : {i}\")\n",
    "    except NegativeNumberError as e : #it call the custom class with message provide in raise\n",
    "        print(e)\n",
    "    finally :\n",
    "        print(\"Execution Completed\")\n",
    "\n",
    "CheckNegativeNum([1,2,3,4,-1,6,7])"
   ]
  },
  {
   "cell_type": "markdown",
   "id": "51ac3738",
   "metadata": {},
   "source": [
    "### Assignment 11: Exception Handling in Function Calls\n",
    "\n",
    "Write a function that calls another function which may raise an exception. Use try, except, and finally blocks to handle the exception and print an appropriate message."
   ]
  },
  {
   "cell_type": "code",
   "execution_count": 25,
   "id": "daabc696",
   "metadata": {},
   "outputs": [
    {
     "name": "stdout",
     "output_type": "stream",
     "text": [
      "The function you are calling does not exist!\n",
      "Execution Completed\n"
     ]
    }
   ],
   "source": [
    "def raiseExecption() :\n",
    "    raise NameError(f\"The function you are calling does not exist!\")\n",
    "\n",
    "def functionCall() :\n",
    "    try : \n",
    "        raiseExecption()\n",
    "    except NameError as e :\n",
    "        print(e)\n",
    "    finally :\n",
    "        print(\"Execution Completed\")\n",
    "\n",
    "functionCall()"
   ]
  },
  {
   "cell_type": "markdown",
   "id": "c4cae0c9",
   "metadata": {},
   "source": [
    "\n",
    "\n",
    "### Assignment 12: Exception Handling in Class Methods\n",
    "\n",
    "Define a class with a method that performs a division operation. Use try, except, and finally blocks within the method to handle division by zero and print an appropriate message."
   ]
  },
  {
   "cell_type": "code",
   "execution_count": null,
   "id": "8c10da1e",
   "metadata": {},
   "outputs": [
    {
     "name": "stdout",
     "output_type": "stream",
     "text": [
      "0.6666666666666666\n",
      "Execution Completed\n",
      "The denominator 'b' can't be 0\n",
      "Execution Completed\n"
     ]
    }
   ],
   "source": [
    "class Operation :\n",
    "    def divide(a,b) :\n",
    "        try : \n",
    "            result = a/b\n",
    "        except ZeroDivisionError :\n",
    "            print(f\"The denominator 'b' can't be 0\")\n",
    "        else :\n",
    "            print(result)\n",
    "        finally :\n",
    "            print(\"Execution Completed\")\n",
    "\n",
    "#create the object of class\n",
    "div = Operation #we are creating an instance of a class i.e object and with the help of object we can access the methods and members\n",
    "div.divide(2,3)\n",
    "div.divide(2,0)"
   ]
  },
  {
   "cell_type": "markdown",
   "id": "c5810773",
   "metadata": {},
   "source": [
    "### Assignment 13: Exception Handling in Data Conversion\n",
    "\n",
    "Write a function that takes a list of strings and converts them to integers. Use try, except, and finally blocks to handle ValueError if a string cannot be converted and print an appropriate message.\n"
   ]
  },
  {
   "cell_type": "code",
   "execution_count": null,
   "id": "78ddd444",
   "metadata": {},
   "outputs": [
    {
     "name": "stdout",
     "output_type": "stream",
     "text": [
      "The element : 1 was able to converted into integer\n",
      "The element : 2 was able to converted into integer\n",
      "The element : subrat cannot be converted into the integer\n",
      "Successfully Executed!\n"
     ]
    }
   ],
   "source": [
    "def checkValueError(lst) :\n",
    "    try : \n",
    "        for item in lst : \n",
    "            try :\n",
    "                int(item) #this will check whether each element of lst can be convert to int or not if yes move ahead if try fails means except block which will raise the exception of ValueError\n",
    "                print(f\"The element : {item} was able to converted into integer\")\n",
    "            except :\n",
    "                raise ValueError(f\"The element : {item} cannot be converted into the integer\") #giving my custom message \n",
    "    except ValueError as e:\n",
    "        print(e)\n",
    "    finally :\n",
    "        print(\"Successfully Executed!\")\n",
    "\n",
    "checkValueError(['1','2','subrat','4','5','6','6'])"
   ]
  },
  {
   "cell_type": "markdown",
   "id": "92b821b2",
   "metadata": {},
   "source": [
    "### Assignment 14: Exception Handling in List Comprehensions\n",
    "\n",
    "Write a function that uses a list comprehension to convert a list of strings to integers. Use try, except, and finally blocks within the list comprehension to handle ValueError and print an appropriate message."
   ]
  },
  {
   "cell_type": "code",
   "execution_count": 44,
   "id": "e3bf1fc2",
   "metadata": {},
   "outputs": [
    {
     "name": "stdout",
     "output_type": "stream",
     "text": [
      "There is an item in list that cannot be converted into integer\n",
      "Execution Completed\n"
     ]
    }
   ],
   "source": [
    "def convert_strings_integers(lst) :\n",
    "    try : \n",
    "        integers = [int(item) for item in lst]\n",
    "    except ValueError :\n",
    "        print(\"There is an item in list that cannot be converted into integer\")\n",
    "    finally :\n",
    "        print(\"Execution Completed\")\n",
    "\n",
    "lst = ['1','2','3','s','5','6','7']\n",
    "convert_strings_integers(lst)\n",
    "    "
   ]
  },
  {
   "cell_type": "markdown",
   "id": "b03cf33c",
   "metadata": {},
   "source": [
    "### Assignment 15: Exception Handling in File Writing\n",
    "\n",
    "Write a function that attempts to write a list of strings to a file. Use try, except, and finally blocks to handle IOError and ensure the file is properly closed."
   ]
  },
  {
   "cell_type": "code",
   "execution_count": 55,
   "id": "7346a873",
   "metadata": {},
   "outputs": [],
   "source": [
    "def write_into_file(filepath, lst) : \n",
    "    try :\n",
    "        file = open(filepath, 'w')\n",
    "        for string in lst :\n",
    "            file.write(string + \"\\n\")\n",
    "    except IOError as e :\n",
    "        print(e)\n",
    "    finally :\n",
    "        try : \n",
    "            file.close()\n",
    "        except NameError as e :\n",
    "            print(e)\n",
    "\n",
    "\n",
    "filepath = 'example.txt'\n",
    "lst = ['subrat', 'khushi', 'raj']\n",
    "write_into_file(filepath, lst)"
   ]
  }
 ],
 "metadata": {
  "kernelspec": {
   "display_name": "myvenv",
   "language": "python",
   "name": "python3"
  },
  "language_info": {
   "codemirror_mode": {
    "name": "ipython",
    "version": 3
   },
   "file_extension": ".py",
   "mimetype": "text/x-python",
   "name": "python",
   "nbconvert_exporter": "python",
   "pygments_lexer": "ipython3",
   "version": "3.13.5"
  }
 },
 "nbformat": 4,
 "nbformat_minor": 5
}
