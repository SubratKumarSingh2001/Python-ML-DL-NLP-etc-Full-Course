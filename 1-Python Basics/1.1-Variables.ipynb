{
 "cells": [
  {
   "cell_type": "code",
   "execution_count": 7,
   "id": "067eebef",
   "metadata": {},
   "outputs": [
    {
     "name": "stdout",
     "output_type": "stream",
     "text": [
      "Subrat\n",
      "13 <class 'int'>\n",
      "5.7 <class 'float'>\n",
      "True <class 'bool'>\n",
      "Name :  Subrat Height : 5.7 Human :  True\n"
     ]
    }
   ],
   "source": [
    "#Basics of Variables\n",
    "\n",
    "#Variables : named memory location or container store the value which are uncertain\n",
    "name = \"Subrat\"\n",
    "print(name)\n",
    "\n",
    "age = 13\n",
    "print(age, type(age))\n",
    "\n",
    "height = 5.7\n",
    "print(height, type(height))\n",
    "\n",
    "flag = True\n",
    "print(flag, type(flag))\n",
    "\n",
    "print(\"Name : \", name, end=\" \")\n",
    "print(\"Height :\", height, end=\" \")\n",
    "print(\"Human : \", flag)"
   ]
  },
  {
   "cell_type": "code",
   "execution_count": 9,
   "id": "1fb6e78c",
   "metadata": {},
   "outputs": [
    {
     "name": "stdout",
     "output_type": "stream",
     "text": [
      "Subrat Singh\n"
     ]
    }
   ],
   "source": [
    "# Valid variables name\n",
    "first_name = \"Subrat\"\n",
    "last_name = \"Singh\"\n",
    "print(first_name, last_name)"
   ]
  },
  {
   "cell_type": "code",
   "execution_count": 12,
   "id": "e6c4015a",
   "metadata": {},
   "outputs": [
    {
     "ename": "SyntaxError",
     "evalue": "invalid decimal literal (2594748278.py, line 2)",
     "output_type": "error",
     "traceback": [
      "  \u001b[36mCell\u001b[39m\u001b[36m \u001b[39m\u001b[32mIn[12]\u001b[39m\u001b[32m, line 2\u001b[39m\n\u001b[31m    \u001b[39m\u001b[31m2name = \"Subrat\"\u001b[39m\n    ^\n\u001b[31mSyntaxError\u001b[39m\u001b[31m:\u001b[39m invalid decimal literal\n"
     ]
    }
   ],
   "source": [
    "#Invalid Variables name\n",
    "2name = \"Subrat\"\n",
    "print(2name)\n",
    "first-name = \"Subrat\"\n",
    "@name = \"Subrat\"\n",
    "print(first-name, @name)"
   ]
  },
  {
   "cell_type": "code",
   "execution_count": 15,
   "id": "babca2a1",
   "metadata": {},
   "outputs": [
    {
     "name": "stdout",
     "output_type": "stream",
     "text": [
      "Subrat <class 'str'>\n",
      "True <class 'bool'>\n"
     ]
    }
   ],
   "source": [
    "#Understanding variables\n",
    "\n",
    "#Python are dynamic typed : means type of the variable is determined during runtime\n",
    "name = \"Subrat\"\n",
    "print(name, type(name))\n",
    "is_Student = True\n",
    "print(is_Student, type(is_Student))\n"
   ]
  },
  {
   "cell_type": "code",
   "execution_count": 22,
   "id": "f232f4fa",
   "metadata": {},
   "outputs": [
    {
     "name": "stdout",
     "output_type": "stream",
     "text": [
      "32 <class 'int'>\n",
      "32 <class 'str'>\n"
     ]
    }
   ],
   "source": [
    "#Type checking and conversion \n",
    "type(name)\n",
    "\n",
    "age = 32\n",
    "print(age, type(age))\n",
    "age_str = str(age)\n",
    "print(age_str, type(age_str))\n"
   ]
  },
  {
   "cell_type": "code",
   "execution_count": 25,
   "id": "ce7732a0",
   "metadata": {},
   "outputs": [
    {
     "name": "stdout",
     "output_type": "stream",
     "text": [
      "5.7 <class 'float'>\n",
      "5 <class 'int'>\n"
     ]
    }
   ],
   "source": [
    "height = 5.7\n",
    "print(height, type(height))\n",
    "\n",
    "#change float->int\n",
    "height = int(height)\n",
    "print(height, type(height))"
   ]
  },
  {
   "cell_type": "code",
   "execution_count": 28,
   "id": "3b4e5999",
   "metadata": {},
   "outputs": [
    {
     "name": "stdout",
     "output_type": "stream",
     "text": [
      "Subrat\n",
      "<class 'str'>\n"
     ]
    }
   ],
   "source": [
    "#Dynamic Typing : the type of variable is defined during the runtime\n",
    "name = \"Subrat\"\n",
    "print(name)\n",
    "#we can check the type of variable name\n",
    "print(type(name)) #so during runtime the type of variable name is defined "
   ]
  },
  {
   "cell_type": "code",
   "execution_count": 32,
   "id": "a511373a",
   "metadata": {},
   "outputs": [
    {
     "name": "stdout",
     "output_type": "stream",
     "text": [
      "Subrat <class 'str'>\n",
      "12 <class 'int'>\n",
      "13.474 <class 'float'>\n"
     ]
    }
   ],
   "source": [
    "#Dynamic Binding : We can change the value of variable irrespective of its type\n",
    "name = \"Subrat\"\n",
    "print(name, type(name))\n",
    "\n",
    "name = 12\n",
    "print(name, type(name))\n",
    "\n",
    "name = 13.474\n",
    "print(name, type(name))"
   ]
  },
  {
   "cell_type": "code",
   "execution_count": 2,
   "id": "a97b8d15",
   "metadata": {},
   "outputs": [
    {
     "name": "stdout",
     "output_type": "stream",
     "text": [
      "54 <class 'int'>\n"
     ]
    }
   ],
   "source": [
    "#Taking input from user\n",
    "age = int(input(\"Enter the age : \"))\n",
    "print(age, type(age))"
   ]
  },
  {
   "cell_type": "code",
   "execution_count": 2,
   "id": "f5729a72",
   "metadata": {},
   "outputs": [
    {
     "name": "stdout",
     "output_type": "stream",
     "text": [
      "Sum : 101.30000000000001\n",
      "Sum : 10.899999999999999\n",
      "Product :  2535.7200000000003\n",
      "Divide :  1.241150442477876\n"
     ]
    }
   ],
   "source": [
    "#Creating a Simple Calculator\n",
    "\n",
    "num1 = float(input(\"Enter the first num : \"))\n",
    "num2 = float(input(\"Enter the second num : \"))\n",
    "\n",
    "sum1 = num1 + num2\n",
    "diff = num1 - num2\n",
    "product = num1*num2\n",
    "divide = num1 / num2\n",
    "\n",
    "print(\"Sum :\", sum1)\n",
    "print(\"Sum :\", diff)\n",
    "print(\"Product : \", product)\n",
    "print(\"Divide : \", divide)\n",
    "\n"
   ]
  }
 ],
 "metadata": {
  "kernelspec": {
   "display_name": "myvenv",
   "language": "python",
   "name": "python3"
  },
  "language_info": {
   "codemirror_mode": {
    "name": "ipython",
    "version": 3
   },
   "file_extension": ".py",
   "mimetype": "text/x-python",
   "name": "python",
   "nbconvert_exporter": "python",
   "pygments_lexer": "ipython3",
   "version": "3.13.5"
  }
 },
 "nbformat": 4,
 "nbformat_minor": 5
}
