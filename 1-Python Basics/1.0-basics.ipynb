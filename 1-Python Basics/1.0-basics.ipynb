{
 "cells": [
  {
   "cell_type": "code",
   "execution_count": null,
   "id": "9941d52d",
   "metadata": {},
   "outputs": [
    {
     "name": "stdout",
     "output_type": "stream",
     "text": [
      "Hello World!\n",
      "Subrat\n"
     ]
    }
   ],
   "source": [
    "#Basic syntax rules in python : \n",
    "\n",
    "#Python is case sensitive, here name and Name are different\n",
    "name = \"Hello World!\"\n",
    "Name = \"Subrat\"\n",
    "print(name)\n",
    "print(Name)"
   ]
  },
  {
   "cell_type": "code",
   "execution_count": null,
   "id": "40f33363",
   "metadata": {},
   "outputs": [
    {
     "name": "stdout",
     "output_type": "stream",
     "text": [
      "23\n",
      "10\n"
     ]
    }
   ],
   "source": [
    "#Indentation: define the block of the code or structure and hierarchy of code, In other programming language we use {}\n",
    "age = 23\n",
    "if age > 13 :\n",
    "    print(age)\n",
    "\n",
    "print(age-13)"
   ]
  },
  {
   "cell_type": "code",
   "execution_count": 10,
   "id": "b9362c41",
   "metadata": {},
   "outputs": [
    {
     "name": "stdout",
     "output_type": "stream",
     "text": [
      "Hello Subrat!\n"
     ]
    }
   ],
   "source": [
    "#Single line comments and ''' .... ''' multi-line comments\n",
    "print(\"Hello Subrat!\") "
   ]
  },
  {
   "cell_type": "code",
   "execution_count": 12,
   "id": "48fdbebf",
   "metadata": {},
   "outputs": [
    {
     "name": "stdout",
     "output_type": "stream",
     "text": [
      "45\n"
     ]
    }
   ],
   "source": [
    "#line Continuation : we can continue the line using \"\\\" and writing in next line, both the line will be consider same line\n",
    "total = 1+2+3+4+5+6+7+\\\n",
    "8+9\n",
    "print(total)"
   ]
  },
  {
   "cell_type": "code",
   "execution_count": 14,
   "id": "a3fe5079",
   "metadata": {},
   "outputs": [
    {
     "name": "stdout",
     "output_type": "stream",
     "text": [
      "1 2 3\n",
      "11\n"
     ]
    }
   ],
   "source": [
    "#Multiple statements in single line\n",
    "x,y,z = 1,2,3\n",
    "print(x,y,z)\n",
    "x=5;y=6; z=x+y\n",
    "print(z)"
   ]
  },
  {
   "cell_type": "code",
   "execution_count": null,
   "id": "f775e84b",
   "metadata": {},
   "outputs": [
    {
     "name": "stdout",
     "output_type": "stream",
     "text": [
      "12\n",
      "<class 'int'>\n",
      "Khushi <class 'str'>\n"
     ]
    }
   ],
   "source": [
    "#Basic understanding the semantics in python \n",
    "\n",
    "#variable assignment\n",
    "age = 12\n",
    "print(age)\n",
    "print(type(age))\n",
    "\n",
    "name = \"Khushi\"\n",
    "print(name, type(name))"
   ]
  },
  {
   "cell_type": "code",
   "execution_count": 20,
   "id": "9f200871",
   "metadata": {},
   "outputs": [
    {
     "name": "stdout",
     "output_type": "stream",
     "text": [
      "Hello <class 'str'>\n",
      "32 <class 'int'>\n"
     ]
    }
   ],
   "source": [
    "#Type Inference \n",
    "\n",
    "#Dynamic Binding\n",
    "var = \"Hello\"\n",
    "print(var, type(var))\n",
    "var = 32\n",
    "print(var, type(var))"
   ]
  },
  {
   "cell_type": "code",
   "execution_count": 21,
   "id": "87fc5f8b",
   "metadata": {},
   "outputs": [
    {
     "name": "stdout",
     "output_type": "stream",
     "text": [
      "This is correct Indentation\n",
      "We are inside the main if case\n",
      "We are outside the main if case\n"
     ]
    }
   ],
   "source": [
    "#Code example of Indentation \n",
    "if True :\n",
    "    print(\"This is correct Indentation\")\n",
    "    if False :\n",
    "        print(\"We wont come inside this if case\")\n",
    "    print(\"We are inside the main if case\")\n",
    "print(\"We are outside the main if case\")\n"
   ]
  }
 ],
 "metadata": {
  "kernelspec": {
   "display_name": "myvenv",
   "language": "python",
   "name": "python3"
  },
  "language_info": {
   "codemirror_mode": {
    "name": "ipython",
    "version": 3
   },
   "file_extension": ".py",
   "mimetype": "text/x-python",
   "name": "python",
   "nbconvert_exporter": "python",
   "pygments_lexer": "ipython3",
   "version": "3.13.5"
  }
 },
 "nbformat": 4,
 "nbformat_minor": 5
}
