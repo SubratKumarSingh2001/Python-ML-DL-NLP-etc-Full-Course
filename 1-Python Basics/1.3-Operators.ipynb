{
 "cells": [
  {
   "cell_type": "code",
   "execution_count": null,
   "id": "9c1f51d5",
   "metadata": {},
   "outputs": [
    {
     "name": "stdout",
     "output_type": "stream",
     "text": [
      "15 5 50 2.0 0 100000\n",
      "2.0\n"
     ]
    }
   ],
   "source": [
    "#Arithmetic Operators : ad, sub, multiply, divide, mod and exponential operator\n",
    "a=10\n",
    "b=5\n",
    "print(a+b, a-b, a*b, a/b, a%b, a**b)\n",
    "\n",
    "a = 6.2\n",
    "b = 3\n",
    "print(a // b) #this is floor division, will remove the decimal"
   ]
  },
  {
   "cell_type": "code",
   "execution_count": 9,
   "id": "74ff35d4",
   "metadata": {},
   "outputs": [
    {
     "name": "stdout",
     "output_type": "stream",
     "text": [
      "True\n",
      "False\n",
      "True\n"
     ]
    }
   ],
   "source": [
    "#Comparison Operators : ==, !=, >=, <=, <, > \n",
    "a = 10\n",
    "b = 10\n",
    "\n",
    "print(a==b) # == operator \n",
    "print(a!=b) # != not equal to\n",
    "\n",
    "str1 = \"Subrat\"\n",
    "str2 = \"Subrat\"\n",
    "\n",
    "print(str1 == str2)\n",
    "\n"
   ]
  },
  {
   "cell_type": "code",
   "execution_count": 18,
   "id": "5298bdd2",
   "metadata": {},
   "outputs": [
    {
     "name": "stdout",
     "output_type": "stream",
     "text": [
      "one of variable is false\n",
      "both are false\n",
      "False\n"
     ]
    }
   ],
   "source": [
    "#Logical Operator\n",
    "a, b = True, False\n",
    "if(a and b) : # and logical operator\n",
    "    print(\"Both variables are true\")\n",
    "else :\n",
    "    print(\"one of variable is false\")\n",
    "\n",
    "a, b = False, False\n",
    "if(a or b) : # or logical operator\n",
    "    print(\"Either one of variable is true\")\n",
    "else :\n",
    "    print(\"both are false\")\n",
    "\n",
    "a = True\n",
    "print(not a)"
   ]
  }
 ],
 "metadata": {
  "kernelspec": {
   "display_name": "myvenv",
   "language": "python",
   "name": "python3"
  },
  "language_info": {
   "codemirror_mode": {
    "name": "ipython",
    "version": 3
   },
   "file_extension": ".py",
   "mimetype": "text/x-python",
   "name": "python",
   "nbconvert_exporter": "python",
   "pygments_lexer": "ipython3",
   "version": "3.13.5"
  }
 },
 "nbformat": 4,
 "nbformat_minor": 5
}
