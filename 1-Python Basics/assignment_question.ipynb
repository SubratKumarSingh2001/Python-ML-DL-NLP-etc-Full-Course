{
 "cells": [
  {
   "cell_type": "markdown",
   "metadata": {},
   "source": [
    "# Lesson 1.2: Python Basics\n",
    "## Topics Covered:\n",
    "- Syntax and Semantics\n",
    "- Variables and Data Types\n",
    "- Basic Operators (Arithmetic, Comparison, Logical)\n"
   ]
  },
  {
   "cell_type": "markdown",
   "metadata": {},
   "source": [
    "## 1. Syntax and Semantics\n",
    "\n",
    "**Question 1:** Write a Python program to print \"Hello, World!\"."
   ]
  },
  {
   "cell_type": "code",
   "execution_count": 1,
   "metadata": {},
   "outputs": [
    {
     "name": "stdout",
     "output_type": "stream",
     "text": [
      "Hello World!\n"
     ]
    }
   ],
   "source": [
    "# Your code here\n",
    "print(\"Hello World!\")"
   ]
  },
  {
   "cell_type": "markdown",
   "metadata": {},
   "source": [
    "**Question 2:** Write a Python program that takes a user input and prints it."
   ]
  },
  {
   "cell_type": "code",
   "execution_count": 1,
   "metadata": {},
   "outputs": [
    {
     "name": "stdout",
     "output_type": "stream",
     "text": [
      "65 <class 'str'>\n",
      "78 <class 'int'>\n"
     ]
    }
   ],
   "source": [
    "# Your code here\n",
    "num = input(\"Enter the number : \")\n",
    "print(num, type(num))\n",
    "\n",
    "#taking integer input\n",
    "num = int(input(\"Enter the num :\"))\n",
    "print(num, type(num))"
   ]
  },
  {
   "cell_type": "markdown",
   "metadata": {},
   "source": [
    "**Question 3:** Write a Python program to check if a number is positive, negative, or zero."
   ]
  },
  {
   "cell_type": "code",
   "execution_count": 4,
   "metadata": {},
   "outputs": [
    {
     "name": "stdout",
     "output_type": "stream",
     "text": [
      "The value hold by a is 0\n"
     ]
    }
   ],
   "source": [
    "# Your code here\n",
    "a = int(input(\"Enter the value of a : \"))\n",
    "\n",
    "if a > 0 :\n",
    "    print(\"The value of a is positive\")\n",
    "elif a < 0 :\n",
    "    print(\"The value of a is negative\")\n",
    "else :\n",
    "    print(\"The value hold by a is 0\")"
   ]
  },
  {
   "cell_type": "markdown",
   "metadata": {},
   "source": [
    "**Question 4:** Write a Python program to find the largest of three numbers."
   ]
  },
  {
   "cell_type": "code",
   "execution_count": null,
   "metadata": {},
   "outputs": [],
   "source": [
    "# Your code here\n",
    "a = int(input(\"Enter the value of a : \"))\n",
    "b = int(input(\"Enter the value of b : \"))\n",
    "c = int(input(\"Enter the value of c : \"))\n",
    "\n",
    "if (a>b and a>c) :\n",
    "    print(\"a is the largest\")\n",
    "elif (b>a and b>c) :\n",
    "    print(\"b is the largest\")\n",
    "else :\n",
    "    print(\"c is the largest\")"
   ]
  },
  {
   "cell_type": "markdown",
   "metadata": {},
   "source": [
    "**Question 5:** Write a Python program to calculate the factorial of a number."
   ]
  },
  {
   "cell_type": "code",
   "execution_count": 19,
   "metadata": {},
   "outputs": [
    {
     "name": "stdout",
     "output_type": "stream",
     "text": [
      "The factorial of 5 is : 120\n"
     ]
    }
   ],
   "source": [
    "# Your code here\n",
    "def factorial(num) :\n",
    "    fact = 1\n",
    "    for i in range(2,num+1) :\n",
    "        fact *= i\n",
    "    return fact\n",
    "\n",
    "num = int(input(\"Enter the num :\"))\n",
    "print(f\"The factorial of {num} is :\", factorial(num))\n"
   ]
  },
  {
   "cell_type": "markdown",
   "metadata": {},
   "source": [
    "## 2. Variables and Data Types\n",
    "\n",
    "**Question 6:** Create variables of different data types: integer, float, string, and boolean. Print their values and types."
   ]
  },
  {
   "cell_type": "code",
   "execution_count": 4,
   "metadata": {},
   "outputs": [
    {
     "name": "stdout",
     "output_type": "stream",
     "text": [
      "5 <class 'int'>\n",
      "1.7e+308 <class 'float'>\n",
      "Subrat <class 'str'>\n",
      "True <class 'bool'>\n"
     ]
    }
   ],
   "source": [
    "# Your code here\n",
    "a = 5\n",
    "print(a, type(a))\n",
    "\n",
    "b=1.7e308\n",
    "print(b, type(b))\n",
    "\n",
    "name = \"Subrat\"\n",
    "print(name, type(name))\n",
    "\n",
    "flag = True\n",
    "print(flag, type(flag))"
   ]
  },
  {
   "cell_type": "markdown",
   "metadata": {},
   "source": [
    "**Question 7:** Write a Python program to swap the values of two variables."
   ]
  },
  {
   "cell_type": "code",
   "execution_count": 5,
   "metadata": {},
   "outputs": [
    {
     "name": "stdout",
     "output_type": "stream",
     "text": [
      "10 30\n",
      "Now a is :  30\n",
      "Now b is :  10\n"
     ]
    }
   ],
   "source": [
    "# Your code here\n",
    "a, b= 10, 30 \n",
    "print(a, b)\n",
    "\n",
    "#swap a and b\n",
    "a,b = b,a\n",
    "print(\"Now a is : \", a)\n",
    "print(\"Now b is : \", b)"
   ]
  },
  {
   "cell_type": "markdown",
   "metadata": {},
   "source": [
    "**Question 8:** Write a Python program to convert Celsius to Fahrenheit."
   ]
  },
  {
   "cell_type": "code",
   "execution_count": 7,
   "metadata": {},
   "outputs": [
    {
     "name": "stdout",
     "output_type": "stream",
     "text": [
      "45.5 celsius is 113.9 fahrenheit\n"
     ]
    }
   ],
   "source": [
    "# Your code here\n",
    "celsius = float(input(\"Enter the value of celsius\"))\n",
    "fahrenheit = (celsius * 9/5) + 32\n",
    "print(f\"{celsius} celsius is {fahrenheit} fahrenheit\")"
   ]
  },
  {
   "cell_type": "markdown",
   "metadata": {},
   "source": [
    "**Question 9:** Write a Python program to concatenate two strings."
   ]
  },
  {
   "cell_type": "code",
   "execution_count": 1,
   "metadata": {},
   "outputs": [
    {
     "name": "stdout",
     "output_type": "stream",
     "text": [
      "SubratSingh\n"
     ]
    }
   ],
   "source": [
    "# Your code here\n",
    "print(\"Subrat\" + \"Singh\")"
   ]
  },
  {
   "cell_type": "markdown",
   "metadata": {},
   "source": [
    "**Question 10:** Write a Python program to check if a variable is of a specific data type."
   ]
  },
  {
   "cell_type": "code",
   "execution_count": null,
   "metadata": {},
   "outputs": [
    {
     "name": "stdout",
     "output_type": "stream",
     "text": [
      "9.0 is an instance of class float\n"
     ]
    }
   ],
   "source": [
    "# Your code here\n",
    "#isinstance(): it is used to check whether the object is the instance of class or not\n",
    "# it takes two parameter: 1: object, 2: class which have we have to check whether the object belongs to class or not\n",
    "a = 9.0\n",
    "if isinstance(a, float) :\n",
    "    print(f\"{a} is an instance of class float\")\n",
    "else :\n",
    "    print(f\"{a} is not an instance of class float\")"
   ]
  },
  {
   "cell_type": "markdown",
   "metadata": {},
   "source": [
    "## 3. Basic Operators (Arithmetic, Comparison, Logical)\n",
    "\n",
    "**Question 11:** Write a Python program to perform arithmetic operations: addition, subtraction, multiplication, and division."
   ]
  },
  {
   "cell_type": "code",
   "execution_count": 5,
   "metadata": {},
   "outputs": [
    {
     "name": "stdout",
     "output_type": "stream",
     "text": [
      "15 5 50 2.0 0 100000\n",
      "2.0\n"
     ]
    }
   ],
   "source": [
    "# Your code here\n",
    "a=10\n",
    "b=5\n",
    "print(a+b, a-b, a*b, a/b, a%b, a**b)\n",
    "\n",
    "a = 6.2\n",
    "b = 3\n",
    "print(a // b) #this is floor division, will remove the decimal"
   ]
  },
  {
   "cell_type": "markdown",
   "metadata": {},
   "source": [
    "**Question 12:** Write a Python program to demonstrate comparison operators: equal to, not equal to, greater than, less than."
   ]
  },
  {
   "cell_type": "code",
   "execution_count": 12,
   "metadata": {},
   "outputs": [
    {
     "name": "stdout",
     "output_type": "stream",
     "text": [
      "value 10 and 10.1 are not equal\n",
      "25 and 25 are equal values\n"
     ]
    }
   ],
   "source": [
    "# Your code here\n",
    "a, b = 10, 10.1\n",
    "if a == b :\n",
    "    print(f\"value {a} and {b} are equal\")\n",
    "else :\n",
    "    print(f\"value {a} and {b} are not equal\")\n",
    "\n",
    "c, d = 25, 25\n",
    "if c > d : \n",
    "    print(f\"{c} is greater than {d}\")\n",
    "elif d > c :\n",
    "    print(f\"{d} is greater than {c}\")\n",
    "else :\n",
    "    print(f\"{c} and {d} are equal values\")"
   ]
  },
  {
   "cell_type": "markdown",
   "metadata": {},
   "source": [
    "**Question 13:** Write a Python program to demonstrate logical operators: and, or, not."
   ]
  },
  {
   "cell_type": "code",
   "execution_count": 13,
   "metadata": {},
   "outputs": [
    {
     "name": "stdout",
     "output_type": "stream",
     "text": [
      "True and False : False\n",
      "True or False : True\n",
      "Not of True : False\n",
      "Not of False : True\n"
     ]
    }
   ],
   "source": [
    "# Your code here\n",
    "a, b = True, False\n",
    "\n",
    "print(f\"True and False : {a and b}\")\n",
    "print(f\"True or False : {a or b}\")\n",
    "print(f\"Not of True : {not a}\")\n",
    "print(f\"Not of False : {not b}\")"
   ]
  },
  {
   "cell_type": "markdown",
   "metadata": {},
   "source": [
    "**Question 14:** Write a Python program to calculate the square of a number."
   ]
  },
  {
   "cell_type": "code",
   "execution_count": 16,
   "metadata": {},
   "outputs": [
    {
     "name": "stdout",
     "output_type": "stream",
     "text": [
      "The square of number 25.1 is :  630.0100000000001\n"
     ]
    }
   ],
   "source": [
    "# Your code here\n",
    "a = 25.1\n",
    "print(f\"The square of number {a} is : \", a**2)"
   ]
  },
  {
   "cell_type": "markdown",
   "metadata": {},
   "source": [
    "**Question 15:** Write a Python program to check if a number is even or odd."
   ]
  },
  {
   "cell_type": "code",
   "execution_count": 19,
   "metadata": {},
   "outputs": [
    {
     "name": "stdout",
     "output_type": "stream",
     "text": [
      "57 is an odd number\n"
     ]
    }
   ],
   "source": [
    "# Your code here\n",
    "\n",
    "a = int(input(\"Enter the value of a :\"))\n",
    "if a % 2 == 0 :\n",
    "    print(f\"{a} is an even number\")\n",
    "else :\n",
    "    print(f\"{a} is an odd number\")"
   ]
  },
  {
   "cell_type": "markdown",
   "metadata": {},
   "source": [
    "**Question 16:** Write a Python program to find the sum of the first n natural numbers."
   ]
  },
  {
   "cell_type": "code",
   "execution_count": 21,
   "metadata": {},
   "outputs": [
    {
     "name": "stdout",
     "output_type": "stream",
     "text": [
      "The sum of first 5 natural number is : 15\n"
     ]
    }
   ],
   "source": [
    "# Your code here\n",
    "n = int(input(\"Enter the value of a :\"))\n",
    "sum = 0\n",
    "for i in range(1,n+1) :\n",
    "    sum += i;\n",
    "\n",
    "print(f\"The sum of first {n} natural number is :\", sum) "
   ]
  },
  {
   "cell_type": "markdown",
   "metadata": {},
   "source": [
    "**Question 17:** Write a Python program to check if a year is a leap year."
   ]
  },
  {
   "cell_type": "code",
   "execution_count": 27,
   "metadata": {},
   "outputs": [
    {
     "name": "stdout",
     "output_type": "stream",
     "text": [
      "2016 is a leap year\n"
     ]
    }
   ],
   "source": [
    "# Your code here\n",
    "year = int(input(\"Enter the year : \"))\n",
    "if year%4 == 0 or year%100 == 0 or year%400 == 0 :\n",
    "    print(f\"{year} is a leap year\")\n",
    "else :\n",
    "    print(f\"{year} is not a leap year\")"
   ]
  },
  {
   "cell_type": "markdown",
   "metadata": {},
   "source": [
    "**Question 18:** Write a Python program to reverse a string."
   ]
  },
  {
   "cell_type": "code",
   "execution_count": 14,
   "metadata": {},
   "outputs": [
    {
     "name": "stdout",
     "output_type": "stream",
     "text": [
      "['t', 'a', 'r', 'b', 'u', 'S']\n",
      "['S', 'u', 'b', 'r', 'a', 't']\n",
      "tarbuS\n"
     ]
    }
   ],
   "source": [
    "# Your code here\n",
    "name = list(input(\"Enter the string :\"))\n",
    "name.reverse() #it will reverse the list item\n",
    "print(name)\n",
    "last_index = len(name)-1\n",
    "i, j = 0, last_index\n",
    "while i<=j :\n",
    "    temp = name[i]\n",
    "    name[i] = name[last_index-i]\n",
    "    name[last_index-i] = temp\n",
    "    i += 1\n",
    "    j -=1\n",
    "\n",
    "print(name)\n",
    "\n",
    "#another simple way to reverse string is \n",
    "name =\"Subrat\"\n",
    "print(name[::-1]) #string slicing\n"
   ]
  },
  {
   "cell_type": "markdown",
   "metadata": {},
   "source": [
    "**Question 19:** Write a Python program to check if a string is a palindrome."
   ]
  },
  {
   "cell_type": "code",
   "execution_count": null,
   "metadata": {},
   "outputs": [
    {
     "name": "stdout",
     "output_type": "stream",
     "text": [
      "Subrat is not plaindrome \n"
     ]
    }
   ],
   "source": [
    "# Your code here\n",
    "name = \"Subrat\"\n",
    "\n",
    "str1 = name[::-1]\n",
    "if str1 == name :\n",
    "    print(f\"{name} is palindrome\")\n",
    "else :\n",
    "    print(f\"{name} is not palindrome \")\n",
    "\n"
   ]
  },
  {
   "cell_type": "markdown",
   "metadata": {},
   "source": [
    "**Question 20:** Write a Python program to sort a list of numbers in ascending order."
   ]
  },
  {
   "cell_type": "code",
   "execution_count": 8,
   "metadata": {},
   "outputs": [
    {
     "name": "stdout",
     "output_type": "stream",
     "text": [
      "[0, 1, 3, 5, 9, 11, 22, 34, 45, 56, 67, 70, 77, 78, 88, 98, 99, 100]\n"
     ]
    }
   ],
   "source": [
    "# Your code here\n",
    "lst = [3,5,1,67,34,78,9,99,22,11,56,100,0,45,77,98,88,70]\n",
    "lst.sort()\n",
    "print(lst)"
   ]
  }
 ],
 "metadata": {
  "kernelspec": {
   "display_name": "myvenv",
   "language": "python",
   "name": "python3"
  },
  "language_info": {
   "codemirror_mode": {
    "name": "ipython",
    "version": 3
   },
   "file_extension": ".py",
   "mimetype": "text/x-python",
   "name": "python",
   "nbconvert_exporter": "python",
   "pygments_lexer": "ipython3",
   "version": "3.13.5"
  }
 },
 "nbformat": 4,
 "nbformat_minor": 4
}
