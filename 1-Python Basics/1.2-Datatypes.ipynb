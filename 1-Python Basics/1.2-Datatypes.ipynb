{
 "cells": [
  {
   "cell_type": "code",
   "execution_count": 2,
   "id": "5e3b1dc4",
   "metadata": {},
   "outputs": [],
   "source": [
    "#Datatypes: tell the compiler or interpreter the type of a value a variable holds\n",
    "#1. User-Defined Datatype, 2. Container Datatypes, 3. Pre-defined Datatypes"
   ]
  },
  {
   "cell_type": "code",
   "execution_count": 10,
   "id": "2fd664d8",
   "metadata": {},
   "outputs": [
    {
     "name": "stdout",
     "output_type": "stream",
     "text": [
      "13 <class 'int'>\n",
      "1e+308\n",
      "inf\n"
     ]
    }
   ],
   "source": [
    "#Integers Datatype\n",
    "age = 13\n",
    "print(age, type(age))\n",
    "print(1e308) #max value of integer value\n",
    "print(1e309)"
   ]
  },
  {
   "cell_type": "code",
   "execution_count": 11,
   "id": "0a615af2",
   "metadata": {},
   "outputs": [
    {
     "name": "stdout",
     "output_type": "stream",
     "text": [
      "74.45 <class 'float'>\n",
      "1.7e+308\n",
      "inf\n"
     ]
    }
   ],
   "source": [
    "#Floating Datatype\n",
    "weight = 74.45\n",
    "print(weight, type(weight))\n",
    "print(1.7e308) #max value of float value\n",
    "print(1.7e309)"
   ]
  },
  {
   "cell_type": "code",
   "execution_count": 13,
   "id": "1079d788",
   "metadata": {},
   "outputs": [
    {
     "name": "stdout",
     "output_type": "stream",
     "text": [
      "Subrat <class 'str'>\n"
     ]
    }
   ],
   "source": [
    "#string datatype \n",
    "name = \"Subrat\"\n",
    "print(name, type(name))"
   ]
  },
  {
   "cell_type": "code",
   "execution_count": 20,
   "id": "4136e2cf",
   "metadata": {},
   "outputs": [
    {
     "name": "stdout",
     "output_type": "stream",
     "text": [
      "True <class 'bool'>\n",
      "False <class 'bool'>\n"
     ]
    },
    {
     "data": {
      "text/plain": [
       "bool"
      ]
     },
     "execution_count": 20,
     "metadata": {},
     "output_type": "execute_result"
    }
   ],
   "source": [
    "#Boolean Datatype\n",
    "flag = True\n",
    "print(flag, type(flag))\n",
    "flag = False\n",
    "print(flag, type(flag))\n",
    "\n",
    "a=2\n",
    "b=3\n",
    "type(a==b)\n",
    "\n",
    "a=9\n",
    "b=9\n",
    "type(a==b)"
   ]
  },
  {
   "cell_type": "code",
   "execution_count": null,
   "id": "41ab2c1d",
   "metadata": {},
   "outputs": [
    {
     "name": "stdout",
     "output_type": "stream",
     "text": [
      "HTML5\n"
     ]
    }
   ],
   "source": [
    "result = \"HTML\" + str(5)\n",
    "print(result)\n",
    "\n"
   ]
  }
 ],
 "metadata": {
  "kernelspec": {
   "display_name": "myvenv",
   "language": "python",
   "name": "python3"
  },
  "language_info": {
   "codemirror_mode": {
    "name": "ipython",
    "version": 3
   },
   "file_extension": ".py",
   "mimetype": "text/x-python",
   "name": "python",
   "nbconvert_exporter": "python",
   "pygments_lexer": "ipython3",
   "version": "3.13.5"
  }
 },
 "nbformat": 4,
 "nbformat_minor": 5
}
