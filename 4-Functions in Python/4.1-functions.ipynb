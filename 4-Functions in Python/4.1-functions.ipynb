{
 "cells": [
  {
   "cell_type": "code",
   "execution_count": 1,
   "id": "426841fa",
   "metadata": {},
   "outputs": [],
   "source": [
    "# Functions are the code block which performs the specific task. It is use for reusability, readability and organizing the code \n",
    "\n",
    "#syntax of function \n",
    "def function_name(parameter) :\n",
    "    \"\"\"Docstring(which tell what the function does)\"\"\"\n",
    "    #Function body\n",
    "    return #expression (its not compulsory whether we have to return anything or not)\n"
   ]
  },
  {
   "cell_type": "code",
   "execution_count": 4,
   "id": "90713635",
   "metadata": {},
   "outputs": [
    {
     "name": "stdout",
     "output_type": "stream",
     "text": [
      "The 6 is even\n",
      "The 23 is odd\n"
     ]
    }
   ],
   "source": [
    "#Why function need?\n",
    "#writing the piece of code again and again and copying the code over again and again seems to be hectic which reduce the reusability, readability,\n",
    "#Therefore to avoid this we will create a function which will be performing the specific task and can use that function anywhere needed \n",
    "\n",
    "#example:\n",
    "def even_or_odd(num) :\n",
    "    \"\"\"This function check whether num is even or odd\"\"\"\n",
    "    if num%2 == 0 :\n",
    "        print(f\"The {num} is even\") \n",
    "    else :\n",
    "        print(f\"The {num} is odd\") \n",
    "\n",
    "#call this function \n",
    "even_or_odd(6)\n",
    "even_or_odd(23)"
   ]
  },
  {
   "cell_type": "code",
   "execution_count": 8,
   "id": "39de6838",
   "metadata": {},
   "outputs": [
    {
     "name": "stdout",
     "output_type": "stream",
     "text": [
      "7\n",
      "928\n"
     ]
    }
   ],
   "source": [
    "#function with multiple parameter \n",
    "def add(a,b) :\n",
    "    \"\"\"function is use to add two numbers\"\"\"\n",
    "    return a+b\n",
    "\n",
    "print(add(3,4))\n",
    "print(add(99,829))"
   ]
  },
  {
   "cell_type": "code",
   "execution_count": null,
   "id": "92f655f9",
   "metadata": {},
   "outputs": [
    {
     "name": "stdout",
     "output_type": "stream",
     "text": [
      "Hello Guest welcome to the Paradise\n",
      "Hello Subrat welcome to the Paradise\n"
     ]
    }
   ],
   "source": [
    "#Default argument\n",
    "def greet(name=\"Guest\") :\n",
    "    print(f\"Hello {name} welcome to the Paradise\")\n",
    "\n",
    "greet() #this will take the default value of the name i.e is guest (default arguments)\n",
    "greet(\"Subrat\") #we have given the explicit name, so use this "
   ]
  },
  {
   "cell_type": "code",
   "execution_count": 14,
   "id": "1cdbf7ec",
   "metadata": {},
   "outputs": [
    {
     "name": "stdout",
     "output_type": "stream",
     "text": [
      "1 2 3 4 5 6 7 8 9 "
     ]
    }
   ],
   "source": [
    "#Important concept: Positional and keyword arguments \n",
    "\n",
    "\"\"\"Positional Arguments : when there are multiple arguments so instead of writing all of them in parameter of function we can use *args it points \n",
    "to all the arguments given during the calling of the function the order of arguments while calling func must be same as the order of parameters while\n",
    "defining the function \"\"\"\n",
    "\n",
    "def print_nums(*args) :\n",
    "    for number in args :\n",
    "        print(number, end=\" \")\n",
    "\n",
    "print_nums(1,2,3,4,5,6,7,8,9)\n"
   ]
  },
  {
   "cell_type": "code",
   "execution_count": 18,
   "id": "27ed9e51",
   "metadata": {},
   "outputs": [
    {
     "name": "stdout",
     "output_type": "stream",
     "text": [
      "name : Subrat\n",
      "age : 23\n",
      "course : MCA\n"
     ]
    }
   ],
   "source": [
    "\"\"\"Keyword Arguments : are basically passing the value to the parameter of the function like (name=\"Subrat) now the example is like key value pairs\n",
    "used in dictionary we can access it the way we use to do in dictionary using .items() in positional arguments the order must be same i.e which \n",
    "arguments goes to which parameter of the function keyword arguments can be passed in functions using **kwargs\"\"\"\n",
    "\n",
    "def print_details(**kwargs) :\n",
    "    for key, value in kwargs.items() :\n",
    "        print(f\"{key} : {value}\")\n",
    "\n",
    "print_details(name=\"Subrat\", age=23, course=\"MCA\")"
   ]
  },
  {
   "cell_type": "code",
   "execution_count": 23,
   "id": "0e993696",
   "metadata": {},
   "outputs": [
    {
     "name": "stdout",
     "output_type": "stream",
     "text": [
      "Positional argument is : 1\n",
      "Positional argument is : 2\n",
      "Positional argument is : 3\n",
      "Positional argument is : 3\n",
      "Positional argument is : 4\n",
      "Positional argument is : 4\n",
      "Positional argument is : 5\n",
      "Positional argument is : 6.7\n",
      "Positional argument is : 9\n",
      "Positional argument is : Subrat\n",
      "Positional argument is : Khushi\n",
      "Positional argument is : 34\n",
      "greet : hello world\n",
      "date : 20july2025\n",
      "time : 12.02\n"
     ]
    }
   ],
   "source": [
    "#We can use both positional and keywords arguments in function\n",
    "def print_pos_key_arg(*args, **kwargs) :\n",
    "    for val in args :\n",
    "        print(f\"Positional argument is : {val}\")\n",
    "    for key, val in kwargs.items() :\n",
    "        print(f\"{key} : {val}\")\n",
    "\n",
    "\"\"\"In the function positional argument *args is first and which is followed byt keyword arguments **kwargs, Therefore during calling of function \n",
    "the positional arguments values should be first followed by all the keywords arguments values\"\"\"\n",
    "\n",
    "print_pos_key_arg(1,2,3,3,4,4,5,6.7,9,\"Subrat\",\"Khushi\",34, greet=\"hello world\", date=\"20july2025\", time=12.02)"
   ]
  },
  {
   "cell_type": "code",
   "execution_count": null,
   "id": "e65bbd73",
   "metadata": {},
   "outputs": [
    {
     "name": "stdout",
     "output_type": "stream",
     "text": [
      "13\n"
     ]
    }
   ],
   "source": [
    "#Return statement \n",
    "def add(a,b) :\n",
    "    return a+b\n",
    "\n",
    "print(add(5,8))\n",
    "\n",
    "#multiple return parameters"
   ]
  }
 ],
 "metadata": {
  "kernelspec": {
   "display_name": "myvenv",
   "language": "python",
   "name": "python3"
  },
  "language_info": {
   "codemirror_mode": {
    "name": "ipython",
    "version": 3
   },
   "file_extension": ".py",
   "mimetype": "text/x-python",
   "name": "python",
   "nbconvert_exporter": "python",
   "pygments_lexer": "ipython3",
   "version": "3.13.5"
  }
 },
 "nbformat": 4,
 "nbformat_minor": 5
}
