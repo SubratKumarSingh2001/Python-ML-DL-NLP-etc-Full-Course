{
 "cells": [
  {
   "cell_type": "code",
   "execution_count": 1,
   "id": "97e16ceb",
   "metadata": {},
   "outputs": [],
   "source": [
    "#Map Function : applies the given function to all the elements or items of the iterable(either list, strings or any iterable)\n",
    "\n",
    "#syntax : map(function, iterable(list, strings etc))"
   ]
  },
  {
   "cell_type": "code",
   "execution_count": 6,
   "id": "bdd8e1d6",
   "metadata": {},
   "outputs": [
    {
     "data": {
      "text/plain": [
       "[1, 4, 9, 16, 25, 36, 49, 64, 81]"
      ]
     },
     "execution_count": 6,
     "metadata": {},
     "output_type": "execute_result"
    }
   ],
   "source": [
    "#Lets take an example \n",
    "def square(num) :\n",
    "    return num*num\n",
    "\n",
    "#if we want the square of a number\n",
    "square(6)\n",
    "\n",
    "#now suppose we have a list of numbers and we want to find squares, we can either create a function and using for loop append a squares in new list\n",
    "#but instead we can use map() function \n",
    "numbers = [1,2,3,4,5,6,7,8,9]\n",
    "list(map(square, numbers)) #this will give the square of each number in the list"
   ]
  },
  {
   "cell_type": "code",
   "execution_count": 8,
   "id": "2492fa9c",
   "metadata": {},
   "outputs": [
    {
     "data": {
      "text/plain": [
       "[1, 4, 9, 16, 25, 36, 49, 64, 81]"
      ]
     },
     "execution_count": 8,
     "metadata": {},
     "output_type": "execute_result"
    }
   ],
   "source": [
    "#now we see that the square function has single expression so we can use the lambda function along with map function \n",
    "list(map(lambda x: x*x, numbers)) #so explicitly we haven't used any function"
   ]
  },
  {
   "cell_type": "code",
   "execution_count": 13,
   "id": "49097ca7",
   "metadata": {},
   "outputs": [
    {
     "data": {
      "text/plain": [
       "[5, 7, 9]"
      ]
     },
     "execution_count": 13,
     "metadata": {},
     "output_type": "execute_result"
    }
   ],
   "source": [
    "#Now if we want to use map() on multiple iterables \n",
    "num1 = [1,2,3]\n",
    "num2 = [4,5,6,]\n",
    "\n",
    "#and we want to add up the corresponding value of num1 and num2 and store it into another list, we can use function but lets try with map and lambda func\n",
    "list(map(lambda x,y: x+y, num1, num2)) #the x will be taking the values from num1 and y will be taking the values from num2"
   ]
  },
  {
   "cell_type": "code",
   "execution_count": 17,
   "id": "60d56346",
   "metadata": {},
   "outputs": [
    {
     "data": {
      "text/plain": [
       "['Subrat', 'Khushi']"
      ]
     },
     "execution_count": 17,
     "metadata": {},
     "output_type": "execute_result"
    }
   ],
   "source": [
    "#Now lets try the map() function on the list of the dictionaries and retrieve the names of of each student\n",
    "student = [   \n",
    "    {'name':'Subrat', 'age':23},\n",
    "    {'name':'Khushi', 'age':23}\n",
    "]\n",
    "#if we want the name of rhe student either we can use the function or the map function \n",
    "list(map(lambda student: student['name'], student))"
   ]
  },
  {
   "cell_type": "code",
   "execution_count": 19,
   "id": "f7b10693",
   "metadata": {},
   "outputs": [
    {
     "data": {
      "text/plain": [
       "[1, 2, 5, 9, 7]"
      ]
     },
     "execution_count": 19,
     "metadata": {},
     "output_type": "execute_result"
    }
   ],
   "source": [
    "#we can also type conversion of all items in the list\n",
    "lst = ['1','2','5','9','7']\n",
    "list(map(int, lst)) #int (function type casting of str to int), lst(list which we have created iterables calls)"
   ]
  },
  {
   "cell_type": "code",
   "execution_count": 21,
   "id": "4ad9c7b5",
   "metadata": {},
   "outputs": [
    {
     "data": {
      "text/plain": [
       "['apple', 'banana', 'orange', 'guava', 'watermelon', 'melon']"
      ]
     },
     "execution_count": 21,
     "metadata": {},
     "output_type": "execute_result"
    }
   ],
   "source": [
    "#we can also create the list of items which contain the lowercase of the other list\n",
    "lst = ['APPLE', 'BANANA', 'ORANGE', 'GUAVA', 'WATERMELON', 'MELON']\n",
    "list(map(str.lower, lst))"
   ]
  }
 ],
 "metadata": {
  "kernelspec": {
   "display_name": "myvenv",
   "language": "python",
   "name": "python3"
  },
  "language_info": {
   "codemirror_mode": {
    "name": "ipython",
    "version": 3
   },
   "file_extension": ".py",
   "mimetype": "text/x-python",
   "name": "python",
   "nbconvert_exporter": "python",
   "pygments_lexer": "ipython3",
   "version": "3.13.5"
  }
 },
 "nbformat": 4,
 "nbformat_minor": 5
}
