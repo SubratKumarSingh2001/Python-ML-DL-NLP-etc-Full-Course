{
 "cells": [
  {
   "cell_type": "code",
   "execution_count": null,
   "id": "7f00e6a2",
   "metadata": {},
   "outputs": [
    {
     "name": "stdout",
     "output_type": "stream",
     "text": [
      "1813.8236000000002\n"
     ]
    }
   ],
   "source": [
    "#Question:1\n",
    "def celsius_to_fahrenheit(C):\n",
    "    \"\"\"\n",
    "    Function to convert temperature from Celsius to Fahrenheit.\n",
    "    \n",
    "    Parameters:\n",
    "    C (float): The temperature in Celsius.\n",
    "    \n",
    "    Returns:\n",
    "    float: The temperature in Fahrenheit.\n",
    "    \"\"\"\n",
    "    # Your code here\n",
    "    return (9/5 * C) + 32\n",
    "\n",
    "C = float(input(\"Enter the value of celsius : \"))\n",
    "print(celsius_to_fahrenheit(C))"
   ]
  },
  {
   "cell_type": "code",
   "execution_count": 6,
   "id": "6dc11f5e",
   "metadata": {},
   "outputs": [
    {
     "name": "stdout",
     "output_type": "stream",
     "text": [
      "7020.156\n"
     ]
    }
   ],
   "source": [
    "#Question:2\n",
    "def area_of_rectangle(length, breadth):\n",
    "    \"\"\"\n",
    "    Function to calculate the area of a rectangle.\n",
    "    \n",
    "    Parameters:\n",
    "    length (float): The length of the rectangle.\n",
    "    breadth (float): The breadth of the rectangle.\n",
    "    \n",
    "    Returns:\n",
    "    float: The area of the rectangle.\n",
    "    \"\"\"\n",
    "    # Your code here\n",
    "    return length*breadth\n",
    "\n",
    "length = float(input(\"Enter the length : \"))\n",
    "breadth = float(input(\"Enter the breadth : \"))\n",
    "print(area_of_rectangle(length, breadth))"
   ]
  },
  {
   "cell_type": "code",
   "execution_count": 8,
   "id": "89778bc3",
   "metadata": {},
   "outputs": [
    {
     "name": "stdout",
     "output_type": "stream",
     "text": [
      "74915167.458\n"
     ]
    }
   ],
   "source": [
    "#Question:3\n",
    "def calculate_distance(speed, time):\n",
    "    \"\"\"\n",
    "    Function to calculate the distance traveled by a vehicle.\n",
    "    \n",
    "    Parameters:\n",
    "    speed (float): The speed of the vehicle.\n",
    "    time (float): The time the vehicle has traveled.\n",
    "    \n",
    "    Returns:\n",
    "    float: The distance traveled by the vehicle.\n",
    "    \"\"\"\n",
    "    # Your code here\n",
    "    return speed*time\n",
    "\n",
    "speed = float(input(\"Enter the speed : \"))\n",
    "time = float(input(\"Enter the time : \"))\n",
    "print(calculate_distance(speed, time))"
   ]
  },
  {
   "cell_type": "code",
   "execution_count": 10,
   "id": "2a7ab20b",
   "metadata": {},
   "outputs": [
    {
     "name": "stdout",
     "output_type": "stream",
     "text": [
      "6\n"
     ]
    }
   ],
   "source": [
    "#Question:4\n",
    "def calculate_lift_rounds(n, capacity):\n",
    "    \"\"\"\n",
    "    Function to calculate the number of rounds the lift needs to cover.\n",
    "    \n",
    "    Parameters:\n",
    "    n (int): Total number of people.\n",
    "    capacity (int): Maximum number of people the lift can carry in one round.\n",
    "    \n",
    "    Returns:\n",
    "    int: The number of rounds required to transport all people to the top floor.\n",
    "    \"\"\"\n",
    "    # Your code here\n",
    "    round = n // capacity\n",
    "    if n%capacity == 0 :\n",
    "        return round\n",
    "    else :\n",
    "        return round+1\n",
    "    \n",
    "n = int(input(\"Enter the value of n : \"))\n",
    "capacity = int(input(\"Enter the capacity : \"))\n",
    "print(calculate_lift_rounds(n, capacity))"
   ]
  },
  {
   "cell_type": "code",
   "execution_count": 11,
   "id": "0404440a",
   "metadata": {},
   "outputs": [
    {
     "name": "stdout",
     "output_type": "stream",
     "text": [
      "225.0\n"
     ]
    }
   ],
   "source": [
    "#Question:5\n",
    "def calculate_y(slope, intercept, x):\n",
    "    \"\"\"\n",
    "    Function to calculate the value of y using the slope-intercept form of a line.\n",
    "    \n",
    "    Parameters:\n",
    "    slope (float): The slope of the line.\n",
    "    intercept (float): The y-intercept of the line.\n",
    "    x (float): The value of x for which y needs to be calculated.\n",
    "    \n",
    "    Returns:\n",
    "    float: The calculated value of y.\n",
    "    \"\"\"\n",
    "    # Your code here\n",
    "    return x*slope + intercept\n",
    "\n",
    "x = float(input(\"Enter the value of x : \"))\n",
    "slope = float(input(\"Enter the slope : \"))\n",
    "intercept = float(input(\"Enter the intercept : \"))\n",
    "print(calculate_y(slope, intercept, x))"
   ]
  }
 ],
 "metadata": {
  "kernelspec": {
   "display_name": "myvenv",
   "language": "python",
   "name": "python3"
  },
  "language_info": {
   "codemirror_mode": {
    "name": "ipython",
    "version": 3
   },
   "file_extension": ".py",
   "mimetype": "text/x-python",
   "name": "python",
   "nbconvert_exporter": "python",
   "pygments_lexer": "ipython3",
   "version": "3.13.5"
  }
 },
 "nbformat": 4,
 "nbformat_minor": 5
}
