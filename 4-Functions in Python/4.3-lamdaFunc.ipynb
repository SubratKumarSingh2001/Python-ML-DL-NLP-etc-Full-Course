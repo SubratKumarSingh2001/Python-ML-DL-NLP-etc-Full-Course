{
 "cells": [
  {
   "cell_type": "code",
   "execution_count": 2,
   "id": "1d8ab9c5",
   "metadata": {},
   "outputs": [],
   "source": [
    "#lambda Function in python : anonymous function (means does not have its name) which can have n number of arguments but single expression we prefer\n",
    "#using it when we have one line of code block inside a function. Therefore instead of creating a unction we can use lambda function \n",
    "\n",
    "#syntax\n",
    "\n",
    "# lambda arguments = expression "
   ]
  },
  {
   "cell_type": "code",
   "execution_count": 4,
   "id": "47d25e12",
   "metadata": {},
   "outputs": [
    {
     "data": {
      "text/plain": [
       "9"
      ]
     },
     "execution_count": 4,
     "metadata": {},
     "output_type": "execute_result"
    }
   ],
   "source": [
    "def addition(a,b) :\n",
    "    return a+b #return a+b a piece of code bloch so why to create a function use lambda function \n",
    "\n",
    "addition(4,5)"
   ]
  },
  {
   "cell_type": "code",
   "execution_count": 7,
   "id": "92a7f93d",
   "metadata": {},
   "outputs": [
    {
     "name": "stdout",
     "output_type": "stream",
     "text": [
      "<class 'function'>\n",
      "86\n"
     ]
    }
   ],
   "source": [
    "#using a lambda function in above case\n",
    "addition = lambda a,b : a+b\n",
    "print(type(addition)) #will give that the addition is still a function \n",
    "\n",
    "print(addition(78,8))"
   ]
  },
  {
   "cell_type": "code",
   "execution_count": 9,
   "id": "a13025f0",
   "metadata": {},
   "outputs": [
    {
     "data": {
      "text/plain": [
       "True"
      ]
     },
     "execution_count": 9,
     "metadata": {},
     "output_type": "execute_result"
    }
   ],
   "source": [
    "def even(num) :\n",
    "    if num%2 == 0 :\n",
    "        return True\n",
    "    \n",
    "even(24)"
   ]
  },
  {
   "cell_type": "code",
   "execution_count": 12,
   "id": "4b9ed494",
   "metadata": {},
   "outputs": [
    {
     "data": {
      "text/plain": [
       "True"
      ]
     },
     "execution_count": 12,
     "metadata": {},
     "output_type": "execute_result"
    }
   ],
   "source": [
    "#using a lambda function\n",
    "even = lambda num : num%2 == 0 \n",
    "even(24)"
   ]
  },
  {
   "cell_type": "code",
   "execution_count": 14,
   "id": "96eeb575",
   "metadata": {},
   "outputs": [
    {
     "data": {
      "text/plain": [
       "15"
      ]
     },
     "execution_count": 14,
     "metadata": {},
     "output_type": "execute_result"
    }
   ],
   "source": [
    "#using multiple \n",
    "def addition(x,y,z) :\n",
    "    return x+y+z\n",
    "addition(4,5,6)"
   ]
  },
  {
   "cell_type": "code",
   "execution_count": null,
   "id": "7cdf3df7",
   "metadata": {},
   "outputs": [
    {
     "name": "stdout",
     "output_type": "stream",
     "text": [
      "15\n",
      "<class 'function'>\n"
     ]
    }
   ],
   "source": [
    "#now using the lambda function for above question \n",
    "addition = lambda x,y,z : x+y+z\n",
    "print(addition(4,5,6))\n",
    "print(type(addition))\n"
   ]
  }
 ],
 "metadata": {
  "kernelspec": {
   "display_name": "myvenv",
   "language": "python",
   "name": "python3"
  },
  "language_info": {
   "codemirror_mode": {
    "name": "ipython",
    "version": 3
   },
   "file_extension": ".py",
   "mimetype": "text/x-python",
   "name": "python",
   "nbconvert_exporter": "python",
   "pygments_lexer": "ipython3",
   "version": "3.13.5"
  }
 },
 "nbformat": 4,
 "nbformat_minor": 5
}
