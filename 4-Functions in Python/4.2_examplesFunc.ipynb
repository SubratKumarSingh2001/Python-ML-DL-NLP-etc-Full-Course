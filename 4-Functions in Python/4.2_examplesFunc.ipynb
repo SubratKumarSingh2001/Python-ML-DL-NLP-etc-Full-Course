{
 "cells": [
  {
   "cell_type": "markdown",
   "id": "dfb8cc52",
   "metadata": {},
   "source": [
    "# These Function questions are very important. \n",
    "## Revise this questions as we have used many new things inside it "
   ]
  },
  {
   "cell_type": "code",
   "execution_count": 42,
   "id": "781de2a4",
   "metadata": {},
   "outputs": [
    {
     "name": "stdout",
     "output_type": "stream",
     "text": [
      "194.144\n",
      "421.0722222222222\n"
     ]
    }
   ],
   "source": [
    "#Question1: Temperature conversion\n",
    "def convert_temperature(temp, unit) :\n",
    "    if unit == \"Celsius\" :\n",
    "        return temp*(9/5)+32\n",
    "    elif unit == \"Fahrenheit\" :\n",
    "        return (temp-32)*(5/9)\n",
    "    else :\n",
    "        return None\n",
    "print(convert_temperature(90.08, \"Celsius\"))\n",
    "print(convert_temperature(789.930, \"Fahrenheit\"))"
   ]
  },
  {
   "cell_type": "code",
   "execution_count": 7,
   "id": "8952278a",
   "metadata": {},
   "outputs": [
    {
     "name": "stdout",
     "output_type": "stream",
     "text": [
      "False\n",
      "True\n"
     ]
    }
   ],
   "source": [
    "#Question:2 Password Strength Checker (Good Question new concept)\n",
    "#any() : it checks whether the elements in the list, tuple, expression etc gives at least a True value of any one element then whole true if for all\n",
    "#elements in iterable are false then overall any() is false\n",
    "def strong_password(password) :\n",
    "    \"\"\"This check the password is strong or not \"\"\"\n",
    "    if len(password) <=8 :\n",
    "        return False\n",
    "    if not any(char.isdigit()  for char in password) : #if not any() checks whether is no any element that iterate through gives True\n",
    "        return False\n",
    "    if not any(char.islower() for char in password) :\n",
    "        return False\n",
    "    if not any(char in \"!@#$&*\" for char in password) :\n",
    "        return False\n",
    "    return True \n",
    "    \n",
    "print(strong_password(\"jsnaskjsnka\"))\n",
    "print(strong_password(\"Su$br1bsak\"))"
   ]
  },
  {
   "cell_type": "code",
   "execution_count": 11,
   "id": "45941467",
   "metadata": {},
   "outputs": [
    {
     "name": "stdout",
     "output_type": "stream",
     "text": [
      "82\n"
     ]
    }
   ],
   "source": [
    "#Question3: Calculate the total cost of items in a shopping cart\n",
    "def eval_total_cost(cart) :\n",
    "    totalCost = 0\n",
    "    for product in cart : \n",
    "        totalCost += product['price']*product['quantity']\n",
    "    return totalCost\n",
    "\n",
    "#Example cart data\n",
    "cart = [\n",
    "    {'name':'Apple', 'price':6, 'quantity':4},\n",
    "    {'name':'Banana', 'price':4, 'quantity':3},\n",
    "    {'name':'Orange', 'price':8, 'quantity':2},\n",
    "    {'name':'Guava', 'price':6, 'quantity':5}\n",
    "]\n",
    "print(eval_total_cost(cart))"
   ]
  },
  {
   "cell_type": "code",
   "execution_count": null,
   "id": "75f65f04",
   "metadata": {},
   "outputs": [
    {
     "name": "stdout",
     "output_type": "stream",
     "text": [
      "True\n"
     ]
    }
   ],
   "source": [
    "#Question4: Check if a string is palindrome (Important)\n",
    "def palindrome(string) :\n",
    "    string = string.lower().replace(\" \",\"\") #first string will be converted into lowercase and then then string if any space \" \" replace it with no space \"\"\n",
    "    i=0;j=len(string)-1\n",
    "    while i<=j :\n",
    "        if string[i] != string[j] :\n",
    "            return False\n",
    "        i+=1;j-=1\n",
    "    return True\n",
    "\n",
    "print(palindrome('A man a plan a canal Panama'))\n",
    "\n",
    "#we can also do it by reversing i.e s = s[::-1] if true palindrome else not palindrome "
   ]
  },
  {
   "cell_type": "code",
   "execution_count": null,
   "id": "42a23772",
   "metadata": {},
   "outputs": [
    {
     "name": "stdout",
     "output_type": "stream",
     "text": [
      "120\n"
     ]
    }
   ],
   "source": [
    "#Question:5 Factorial of number (Important)\n",
    "def factorial(num) :\n",
    "    if num == 0 :\n",
    "        return 1\n",
    "    return num * factorial(num-1)\n",
    "\n",
    "print(factorial(5))\n",
    "    "
   ]
  },
  {
   "cell_type": "code",
   "execution_count": null,
   "id": "143e56c2",
   "metadata": {},
   "outputs": [
    {
     "name": "stdout",
     "output_type": "stream",
     "text": [
      "{'lorem': 2, 'ipsum': 1, 'dolor': 3, 'sit': 2, 'amet': 1, 'consectetur': 1, 'adipisicing': 1, 'elit': 1, 'natus': 1, 'corrupti': 1, 'quos': 3, 'autem': 1, 'nam': 1, 'iste': 1}\n"
     ]
    }
   ],
   "source": [
    "#Question:6 A Function to read a file and count the frequency of each word (Important)\n",
    "def count_words_frequency(filepath) :\n",
    "    word_count = {}\n",
    "    with open(filepath, 'r') as file :\n",
    "        for line in file : \n",
    "            words = line.split() #split() divide the string into the list of each words here line having words splits into words and store in list\n",
    "            for word in words : \n",
    "                word = word.lower().strip(\".,!?\\':;\") #strip() is used to discard the unwanted characters that comes at begin or end of the word\n",
    "                word_count[word] = word_count.get(word,0)+1\n",
    "                \n",
    "    return word_count\n",
    "\n",
    "word_frequency = count_words_frequency('sample.txt')\n",
    "print(word_frequency)\n"
   ]
  },
  {
   "cell_type": "code",
   "execution_count": null,
   "id": "151f8243",
   "metadata": {},
   "outputs": [
    {
     "name": "stdout",
     "output_type": "stream",
     "text": [
      "True\n",
      "False\n"
     ]
    }
   ],
   "source": [
    "#Question7 Valid Email Address (Important)\n",
    "import re\n",
    "\n",
    "def valid_email(email) :\n",
    "    pattern = r'^[a-zA-Z0-9_.+-]+@[a-zA-Z0-9-]+\\.[a-zA-Z0-9-.]+$'\n",
    "    result = re.match(pattern, email)\n",
    "    return result is not None #if result is not none means true there is some match of the email with pattern, if result is none no match found return false\n",
    "\n",
    "print(valid_email(\"text@example.com\"))\n",
    "print(valid_email(\"ajsms-sjaks\"))\n"
   ]
  }
 ],
 "metadata": {
  "kernelspec": {
   "display_name": "myvenv",
   "language": "python",
   "name": "python3"
  },
  "language_info": {
   "codemirror_mode": {
    "name": "ipython",
    "version": 3
   },
   "file_extension": ".py",
   "mimetype": "text/x-python",
   "name": "python",
   "nbconvert_exporter": "python",
   "pygments_lexer": "ipython3",
   "version": "3.13.5"
  }
 },
 "nbformat": 4,
 "nbformat_minor": 5
}
