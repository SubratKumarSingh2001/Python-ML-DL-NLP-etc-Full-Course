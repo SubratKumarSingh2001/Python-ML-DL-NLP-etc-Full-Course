{
 "cells": [
  {
   "cell_type": "code",
   "execution_count": null,
   "id": "69534145",
   "metadata": {},
   "outputs": [
    {
     "name": "stdout",
     "output_type": "stream",
     "text": [
      "[None, True, None, True, None, True, None, True, None]\n",
      "[2, 4, 6, 8]\n"
     ]
    }
   ],
   "source": [
    "#basic example of filter() function \n",
    "def even(num) :\n",
    "    if num%2==0 :\n",
    "        return True\n",
    "\n",
    "even(4)\n",
    "\n",
    "lst = [1,2,3,4,5,6,7,8,9]\n",
    "#no, we know that the map function apply the function to all the elements of the iterables due to which we have got the value i.e either True or None\n",
    "print(list(map(even, lst)))\n",
    "\n",
    "#now we want to filter out which values from the list satisfies the given even function map() gave us all the values for each items in list but \n",
    "#now we want those elements which satisfies the condition of the function, therefore we use filter() function \n",
    "\n",
    "print(list(filter(even, lst))) #Therefore from the list the items 2,4,6,8 satisfies the even() function "
   ]
  },
  {
   "cell_type": "code",
   "execution_count": 12,
   "id": "37277c99",
   "metadata": {},
   "outputs": [
    {
     "name": "stdout",
     "output_type": "stream",
     "text": [
      "[False, False, False, False, False, True, True, True, True]\n",
      "[6, 7, 8, 9]\n"
     ]
    }
   ],
   "source": [
    "#now using the lambda function along with the filter \n",
    "num = [1,2,3,4,5,6,7,8,9]\n",
    "print(list(map(lambda x: x>5, num))) #it check which item in num are >5 or <5 accordingly return true or false \n",
    "\n",
    "print(list(filter(lambda x: x>5, num))) #this filter out the item from list which satisfies the condition"
   ]
  },
  {
   "cell_type": "code",
   "execution_count": 15,
   "id": "9d045d3f",
   "metadata": {},
   "outputs": [
    {
     "name": "stdout",
     "output_type": "stream",
     "text": [
      "[6, 8]\n"
     ]
    }
   ],
   "source": [
    "#Filter and lambda function with multiple conditions\n",
    "num = [1,2,3,4,5,6,7,8,9]\n",
    "even_and_greater_than5 = list(filter(lambda num: num%2==0 and num>5, num))\n",
    "print(even_and_greater_than5)"
   ]
  },
  {
   "cell_type": "code",
   "execution_count": 27,
   "id": "2daef5be",
   "metadata": {},
   "outputs": [
    {
     "name": "stdout",
     "output_type": "stream",
     "text": [
      "[{'name': 'Khushi', 'age': 28}]\n",
      "['Khushi']\n",
      "[{'name': 'Khushi', 'age': 28}]\n"
     ]
    }
   ],
   "source": [
    "#Filter() to check if the age is greater than 25 in dictionaries\n",
    "#filter() return the boolean value and check for which item in iterable the function return the true and add that item to the list\n",
    "students = [   \n",
    "    {'name':'Subrat', 'age':23},\n",
    "    {'name':'Khushi', 'age':28}\n",
    "]\n",
    "\n",
    "def greaterAge(students) :\n",
    "    if students['age'] > 25 :\n",
    "        return True\n",
    "    \n",
    "filtered = list(filter(greaterAge, students))\n",
    "print(filtered)\n",
    "print(list(map(lambda students: students['name'], filtered)))\n",
    "\n",
    "print(list(filter(lambda students: students['age']>25, students)))"
   ]
  }
 ],
 "metadata": {
  "kernelspec": {
   "display_name": "myvenv",
   "language": "python",
   "name": "python3"
  },
  "language_info": {
   "codemirror_mode": {
    "name": "ipython",
    "version": 3
   },
   "file_extension": ".py",
   "mimetype": "text/x-python",
   "name": "python",
   "nbconvert_exporter": "python",
   "pygments_lexer": "ipython3",
   "version": "3.13.5"
  }
 },
 "nbformat": 4,
 "nbformat_minor": 5
}
